{
 "cells": [
  {
   "cell_type": "markdown",
   "metadata": {},
   "source": [
    "## PANDAS DOCUMENTATION EXECUTED COMPLETELY"
   ]
  },
  {
   "cell_type": "code",
   "execution_count": 1,
   "metadata": {},
   "outputs": [],
   "source": [
    "#Importing pandas library \n",
    "\n",
    "import pandas as pd\n",
    "import numpy as np"
   ]
  },
  {
   "cell_type": "code",
   "execution_count": 2,
   "metadata": {},
   "outputs": [],
   "source": [
    "#pd.read_table(filepath)\n",
    "#This function reads the general delimited file into DataFrame\n",
    "\n",
    "a = pd.read_table('C:/Users/H/Documents/BioData.csv')"
   ]
  },
  {
   "cell_type": "code",
   "execution_count": 3,
   "metadata": {
    "scrolled": true
   },
   "outputs": [
    {
     "data": {
      "text/html": [
       "<div>\n",
       "<style scoped>\n",
       "    .dataframe tbody tr th:only-of-type {\n",
       "        vertical-align: middle;\n",
       "    }\n",
       "\n",
       "    .dataframe tbody tr th {\n",
       "        vertical-align: top;\n",
       "    }\n",
       "\n",
       "    .dataframe thead th {\n",
       "        text-align: right;\n",
       "    }\n",
       "</style>\n",
       "<table border=\"1\" class=\"dataframe\">\n",
       "  <thead>\n",
       "    <tr style=\"text-align: right;\">\n",
       "      <th></th>\n",
       "      <th>ID,Name,Age,DateOfBirth,Department_ID,Email,Today</th>\n",
       "    </tr>\n",
       "  </thead>\n",
       "  <tbody>\n",
       "    <tr>\n",
       "      <th>0</th>\n",
       "      <td>1,Abhishek,23,5/1/1993,1,Abhishek@yahoo.com,7/...</td>\n",
       "    </tr>\n",
       "    <tr>\n",
       "      <th>1</th>\n",
       "      <td>2,Charles,26,3/31/1990,2,Charles@yahoo.com,7/2...</td>\n",
       "    </tr>\n",
       "    <tr>\n",
       "      <th>2</th>\n",
       "      <td>3,Suraj,35,9/6/1981,3,Suraj@yahoo.com,7/28/2017</td>\n",
       "    </tr>\n",
       "    <tr>\n",
       "      <th>3</th>\n",
       "      <td>4,Ram,43,7/21/1973,1,Ram@yahoo.com,7/28/2017</td>\n",
       "    </tr>\n",
       "    <tr>\n",
       "      <th>4</th>\n",
       "      <td>5,Tony,25,4/4/1991,2,Tony@yahoo.com,7/28/2017</td>\n",
       "    </tr>\n",
       "    <tr>\n",
       "      <th>5</th>\n",
       "      <td>6,Rohit,31,8/25/1985,4,Rohit@yahoo.com,7/28/2017</td>\n",
       "    </tr>\n",
       "    <tr>\n",
       "      <th>6</th>\n",
       "      <td>7,Jacob,29,6/5/1987,1,Jacob@yahoo.com,7/28/2017</td>\n",
       "    </tr>\n",
       "    <tr>\n",
       "      <th>7</th>\n",
       "      <td>8,John,26,3/26/1990,2,John@yahoo.com,7/28/2017</td>\n",
       "    </tr>\n",
       "    <tr>\n",
       "      <th>8</th>\n",
       "      <td>9,Arun,30,2/10/1986,3,Arun@yahoo.com,7/28/2017</td>\n",
       "    </tr>\n",
       "    <tr>\n",
       "      <th>9</th>\n",
       "      <td>10,Akshay,34,1/12/1982,4,Akshay@yahoo.com,7/28...</td>\n",
       "    </tr>\n",
       "    <tr>\n",
       "      <th>10</th>\n",
       "      <td>11,Aniket,24,1/12/1999,10,Aniket@yahoo.com,7/2...</td>\n",
       "    </tr>\n",
       "  </tbody>\n",
       "</table>\n",
       "</div>"
      ],
      "text/plain": [
       "    ID,Name,Age,DateOfBirth,Department_ID,Email,Today\n",
       "0   1,Abhishek,23,5/1/1993,1,Abhishek@yahoo.com,7/...\n",
       "1   2,Charles,26,3/31/1990,2,Charles@yahoo.com,7/2...\n",
       "2     3,Suraj,35,9/6/1981,3,Suraj@yahoo.com,7/28/2017\n",
       "3        4,Ram,43,7/21/1973,1,Ram@yahoo.com,7/28/2017\n",
       "4       5,Tony,25,4/4/1991,2,Tony@yahoo.com,7/28/2017\n",
       "5    6,Rohit,31,8/25/1985,4,Rohit@yahoo.com,7/28/2017\n",
       "6     7,Jacob,29,6/5/1987,1,Jacob@yahoo.com,7/28/2017\n",
       "7      8,John,26,3/26/1990,2,John@yahoo.com,7/28/2017\n",
       "8      9,Arun,30,2/10/1986,3,Arun@yahoo.com,7/28/2017\n",
       "9   10,Akshay,34,1/12/1982,4,Akshay@yahoo.com,7/28...\n",
       "10  11,Aniket,24,1/12/1999,10,Aniket@yahoo.com,7/2..."
      ]
     },
     "execution_count": 3,
     "metadata": {},
     "output_type": "execute_result"
    }
   ],
   "source": [
    "a"
   ]
  },
  {
   "cell_type": "code",
   "execution_count": 4,
   "metadata": {},
   "outputs": [],
   "source": [
    "#pd.read_csv(filepath)\n",
    "#This function read a comma separated values(csv) file into Data Frame\n",
    "\n",
    "b = pd.read_csv('C:/Users/H/Documents/BioData.csv')"
   ]
  },
  {
   "cell_type": "code",
   "execution_count": 5,
   "metadata": {},
   "outputs": [
    {
     "data": {
      "text/html": [
       "<div>\n",
       "<style scoped>\n",
       "    .dataframe tbody tr th:only-of-type {\n",
       "        vertical-align: middle;\n",
       "    }\n",
       "\n",
       "    .dataframe tbody tr th {\n",
       "        vertical-align: top;\n",
       "    }\n",
       "\n",
       "    .dataframe thead th {\n",
       "        text-align: right;\n",
       "    }\n",
       "</style>\n",
       "<table border=\"1\" class=\"dataframe\">\n",
       "  <thead>\n",
       "    <tr style=\"text-align: right;\">\n",
       "      <th></th>\n",
       "      <th>ID</th>\n",
       "      <th>Name</th>\n",
       "      <th>Age</th>\n",
       "      <th>DateOfBirth</th>\n",
       "      <th>Department_ID</th>\n",
       "      <th>Email</th>\n",
       "      <th>Today</th>\n",
       "    </tr>\n",
       "  </thead>\n",
       "  <tbody>\n",
       "    <tr>\n",
       "      <th>0</th>\n",
       "      <td>1</td>\n",
       "      <td>Abhishek</td>\n",
       "      <td>23</td>\n",
       "      <td>5/1/1993</td>\n",
       "      <td>1</td>\n",
       "      <td>Abhishek@yahoo.com</td>\n",
       "      <td>7/28/2017</td>\n",
       "    </tr>\n",
       "    <tr>\n",
       "      <th>1</th>\n",
       "      <td>2</td>\n",
       "      <td>Charles</td>\n",
       "      <td>26</td>\n",
       "      <td>3/31/1990</td>\n",
       "      <td>2</td>\n",
       "      <td>Charles@yahoo.com</td>\n",
       "      <td>7/28/2017</td>\n",
       "    </tr>\n",
       "    <tr>\n",
       "      <th>2</th>\n",
       "      <td>3</td>\n",
       "      <td>Suraj</td>\n",
       "      <td>35</td>\n",
       "      <td>9/6/1981</td>\n",
       "      <td>3</td>\n",
       "      <td>Suraj@yahoo.com</td>\n",
       "      <td>7/28/2017</td>\n",
       "    </tr>\n",
       "    <tr>\n",
       "      <th>3</th>\n",
       "      <td>4</td>\n",
       "      <td>Ram</td>\n",
       "      <td>43</td>\n",
       "      <td>7/21/1973</td>\n",
       "      <td>1</td>\n",
       "      <td>Ram@yahoo.com</td>\n",
       "      <td>7/28/2017</td>\n",
       "    </tr>\n",
       "    <tr>\n",
       "      <th>4</th>\n",
       "      <td>5</td>\n",
       "      <td>Tony</td>\n",
       "      <td>25</td>\n",
       "      <td>4/4/1991</td>\n",
       "      <td>2</td>\n",
       "      <td>Tony@yahoo.com</td>\n",
       "      <td>7/28/2017</td>\n",
       "    </tr>\n",
       "    <tr>\n",
       "      <th>5</th>\n",
       "      <td>6</td>\n",
       "      <td>Rohit</td>\n",
       "      <td>31</td>\n",
       "      <td>8/25/1985</td>\n",
       "      <td>4</td>\n",
       "      <td>Rohit@yahoo.com</td>\n",
       "      <td>7/28/2017</td>\n",
       "    </tr>\n",
       "    <tr>\n",
       "      <th>6</th>\n",
       "      <td>7</td>\n",
       "      <td>Jacob</td>\n",
       "      <td>29</td>\n",
       "      <td>6/5/1987</td>\n",
       "      <td>1</td>\n",
       "      <td>Jacob@yahoo.com</td>\n",
       "      <td>7/28/2017</td>\n",
       "    </tr>\n",
       "    <tr>\n",
       "      <th>7</th>\n",
       "      <td>8</td>\n",
       "      <td>John</td>\n",
       "      <td>26</td>\n",
       "      <td>3/26/1990</td>\n",
       "      <td>2</td>\n",
       "      <td>John@yahoo.com</td>\n",
       "      <td>7/28/2017</td>\n",
       "    </tr>\n",
       "    <tr>\n",
       "      <th>8</th>\n",
       "      <td>9</td>\n",
       "      <td>Arun</td>\n",
       "      <td>30</td>\n",
       "      <td>2/10/1986</td>\n",
       "      <td>3</td>\n",
       "      <td>Arun@yahoo.com</td>\n",
       "      <td>7/28/2017</td>\n",
       "    </tr>\n",
       "    <tr>\n",
       "      <th>9</th>\n",
       "      <td>10</td>\n",
       "      <td>Akshay</td>\n",
       "      <td>34</td>\n",
       "      <td>1/12/1982</td>\n",
       "      <td>4</td>\n",
       "      <td>Akshay@yahoo.com</td>\n",
       "      <td>7/28/2017</td>\n",
       "    </tr>\n",
       "    <tr>\n",
       "      <th>10</th>\n",
       "      <td>11</td>\n",
       "      <td>Aniket</td>\n",
       "      <td>24</td>\n",
       "      <td>1/12/1999</td>\n",
       "      <td>10</td>\n",
       "      <td>Aniket@yahoo.com</td>\n",
       "      <td>7/28/2017</td>\n",
       "    </tr>\n",
       "  </tbody>\n",
       "</table>\n",
       "</div>"
      ],
      "text/plain": [
       "    ID      Name  Age DateOfBirth  Department_ID               Email  \\\n",
       "0    1  Abhishek   23    5/1/1993              1  Abhishek@yahoo.com   \n",
       "1    2   Charles   26   3/31/1990              2   Charles@yahoo.com   \n",
       "2    3     Suraj   35    9/6/1981              3     Suraj@yahoo.com   \n",
       "3    4       Ram   43   7/21/1973              1       Ram@yahoo.com   \n",
       "4    5      Tony   25    4/4/1991              2      Tony@yahoo.com   \n",
       "5    6     Rohit   31   8/25/1985              4     Rohit@yahoo.com   \n",
       "6    7     Jacob   29    6/5/1987              1     Jacob@yahoo.com   \n",
       "7    8      John   26   3/26/1990              2      John@yahoo.com   \n",
       "8    9      Arun   30   2/10/1986              3      Arun@yahoo.com   \n",
       "9   10    Akshay   34   1/12/1982              4    Akshay@yahoo.com   \n",
       "10  11    Aniket   24   1/12/1999             10    Aniket@yahoo.com   \n",
       "\n",
       "        Today  \n",
       "0   7/28/2017  \n",
       "1   7/28/2017  \n",
       "2   7/28/2017  \n",
       "3   7/28/2017  \n",
       "4   7/28/2017  \n",
       "5   7/28/2017  \n",
       "6   7/28/2017  \n",
       "7   7/28/2017  \n",
       "8   7/28/2017  \n",
       "9   7/28/2017  \n",
       "10  7/28/2017  "
      ]
     },
     "execution_count": 5,
     "metadata": {},
     "output_type": "execute_result"
    }
   ],
   "source": [
    "b"
   ]
  },
  {
   "cell_type": "code",
   "execution_count": 6,
   "metadata": {},
   "outputs": [],
   "source": [
    "#pd.read_fwf(filepath)\n",
    "#Read a table of fixed width formatted lines into data frame\n",
    "\n",
    "c = pd.read_fwf('C:/Users/H/Documents/BioData.csv')"
   ]
  },
  {
   "cell_type": "code",
   "execution_count": 7,
   "metadata": {
    "scrolled": true
   },
   "outputs": [
    {
     "data": {
      "text/html": [
       "<div>\n",
       "<style scoped>\n",
       "    .dataframe tbody tr th:only-of-type {\n",
       "        vertical-align: middle;\n",
       "    }\n",
       "\n",
       "    .dataframe tbody tr th {\n",
       "        vertical-align: top;\n",
       "    }\n",
       "\n",
       "    .dataframe thead th {\n",
       "        text-align: right;\n",
       "    }\n",
       "</style>\n",
       "<table border=\"1\" class=\"dataframe\">\n",
       "  <thead>\n",
       "    <tr style=\"text-align: right;\">\n",
       "      <th></th>\n",
       "      <th>ID,Name,Age,DateOfBirth,Department_ID,Email,Today</th>\n",
       "    </tr>\n",
       "  </thead>\n",
       "  <tbody>\n",
       "    <tr>\n",
       "      <th>0</th>\n",
       "      <td>1,Abhishek,23,5/1/1993,1,Abhishek@yahoo.com,7/...</td>\n",
       "    </tr>\n",
       "    <tr>\n",
       "      <th>1</th>\n",
       "      <td>2,Charles,26,3/31/1990,2,Charles@yahoo.com,7/2...</td>\n",
       "    </tr>\n",
       "    <tr>\n",
       "      <th>2</th>\n",
       "      <td>3,Suraj,35,9/6/1981,3,Suraj@yahoo.com,7/28/2017</td>\n",
       "    </tr>\n",
       "    <tr>\n",
       "      <th>3</th>\n",
       "      <td>4,Ram,43,7/21/1973,1,Ram@yahoo.com,7/28/2017</td>\n",
       "    </tr>\n",
       "    <tr>\n",
       "      <th>4</th>\n",
       "      <td>5,Tony,25,4/4/1991,2,Tony@yahoo.com,7/28/2017</td>\n",
       "    </tr>\n",
       "    <tr>\n",
       "      <th>5</th>\n",
       "      <td>6,Rohit,31,8/25/1985,4,Rohit@yahoo.com,7/28/2017</td>\n",
       "    </tr>\n",
       "    <tr>\n",
       "      <th>6</th>\n",
       "      <td>7,Jacob,29,6/5/1987,1,Jacob@yahoo.com,7/28/2017</td>\n",
       "    </tr>\n",
       "    <tr>\n",
       "      <th>7</th>\n",
       "      <td>8,John,26,3/26/1990,2,John@yahoo.com,7/28/2017</td>\n",
       "    </tr>\n",
       "    <tr>\n",
       "      <th>8</th>\n",
       "      <td>9,Arun,30,2/10/1986,3,Arun@yahoo.com,7/28/2017</td>\n",
       "    </tr>\n",
       "    <tr>\n",
       "      <th>9</th>\n",
       "      <td>10,Akshay,34,1/12/1982,4,Akshay@yahoo.com,7/28...</td>\n",
       "    </tr>\n",
       "    <tr>\n",
       "      <th>10</th>\n",
       "      <td>11,Aniket,24,1/12/1999,10,Aniket@yahoo.com,7/2...</td>\n",
       "    </tr>\n",
       "  </tbody>\n",
       "</table>\n",
       "</div>"
      ],
      "text/plain": [
       "    ID,Name,Age,DateOfBirth,Department_ID,Email,Today\n",
       "0   1,Abhishek,23,5/1/1993,1,Abhishek@yahoo.com,7/...\n",
       "1   2,Charles,26,3/31/1990,2,Charles@yahoo.com,7/2...\n",
       "2     3,Suraj,35,9/6/1981,3,Suraj@yahoo.com,7/28/2017\n",
       "3        4,Ram,43,7/21/1973,1,Ram@yahoo.com,7/28/2017\n",
       "4       5,Tony,25,4/4/1991,2,Tony@yahoo.com,7/28/2017\n",
       "5    6,Rohit,31,8/25/1985,4,Rohit@yahoo.com,7/28/2017\n",
       "6     7,Jacob,29,6/5/1987,1,Jacob@yahoo.com,7/28/2017\n",
       "7      8,John,26,3/26/1990,2,John@yahoo.com,7/28/2017\n",
       "8      9,Arun,30,2/10/1986,3,Arun@yahoo.com,7/28/2017\n",
       "9   10,Akshay,34,1/12/1982,4,Akshay@yahoo.com,7/28...\n",
       "10  11,Aniket,24,1/12/1999,10,Aniket@yahoo.com,7/2..."
      ]
     },
     "execution_count": 7,
     "metadata": {},
     "output_type": "execute_result"
    }
   ],
   "source": [
    "c"
   ]
  },
  {
   "cell_type": "code",
   "execution_count": 8,
   "metadata": {},
   "outputs": [],
   "source": [
    "#pd.read_clipboard(sep = '\\s+',**keywordarguments)\n",
    "#Read text from clipboard and pass to read_csv\n",
    "\n",
    "d = pd.read_clipboard(sep = '\\s+')"
   ]
  },
  {
   "cell_type": "code",
   "execution_count": 9,
   "metadata": {},
   "outputs": [
    {
     "data": {
      "text/html": [
       "<div>\n",
       "<style scoped>\n",
       "    .dataframe tbody tr th:only-of-type {\n",
       "        vertical-align: middle;\n",
       "    }\n",
       "\n",
       "    .dataframe tbody tr th {\n",
       "        vertical-align: top;\n",
       "    }\n",
       "\n",
       "    .dataframe thead th {\n",
       "        text-align: right;\n",
       "    }\n",
       "</style>\n",
       "<table border=\"1\" class=\"dataframe\">\n",
       "  <thead>\n",
       "    <tr style=\"text-align: right;\">\n",
       "      <th></th>\n",
       "      <th>128</th>\n",
       "      <th>975</th>\n",
       "      <th>246</th>\n",
       "    </tr>\n",
       "  </thead>\n",
       "  <tbody>\n",
       "  </tbody>\n",
       "</table>\n",
       "</div>"
      ],
      "text/plain": [
       "Empty DataFrame\n",
       "Columns: [128, 975, 246]\n",
       "Index: []"
      ]
     },
     "execution_count": 9,
     "metadata": {},
     "output_type": "execute_result"
    }
   ],
   "source": [
    "d"
   ]
  },
  {
   "cell_type": "code",
   "execution_count": 10,
   "metadata": {},
   "outputs": [],
   "source": [
    "#pd.read_excel(filepath)\n",
    "#read an excel file into pandas data frame\n",
    "\n",
    "e = pd.read_excel('C:/Users/H/Downloads/d.xlsx')"
   ]
  },
  {
   "cell_type": "code",
   "execution_count": 11,
   "metadata": {},
   "outputs": [
    {
     "data": {
      "text/html": [
       "<div>\n",
       "<style scoped>\n",
       "    .dataframe tbody tr th:only-of-type {\n",
       "        vertical-align: middle;\n",
       "    }\n",
       "\n",
       "    .dataframe tbody tr th {\n",
       "        vertical-align: top;\n",
       "    }\n",
       "\n",
       "    .dataframe thead th {\n",
       "        text-align: right;\n",
       "    }\n",
       "</style>\n",
       "<table border=\"1\" class=\"dataframe\">\n",
       "  <thead>\n",
       "    <tr style=\"text-align: right;\">\n",
       "      <th></th>\n",
       "      <th>Row ID</th>\n",
       "      <th>Order ID</th>\n",
       "      <th>Order Date</th>\n",
       "      <th>Order Priority</th>\n",
       "      <th>Order Quantity</th>\n",
       "      <th>Sales</th>\n",
       "      <th>Discount</th>\n",
       "      <th>Ship Mode</th>\n",
       "      <th>Profit</th>\n",
       "      <th>Unit Price</th>\n",
       "      <th>...</th>\n",
       "      <th>Customer Name</th>\n",
       "      <th>Province</th>\n",
       "      <th>Region</th>\n",
       "      <th>Customer Segment</th>\n",
       "      <th>Product Category</th>\n",
       "      <th>Product Sub-Category</th>\n",
       "      <th>Product Name</th>\n",
       "      <th>Product Container</th>\n",
       "      <th>Product Base Margin</th>\n",
       "      <th>Ship Date</th>\n",
       "    </tr>\n",
       "  </thead>\n",
       "  <tbody>\n",
       "    <tr>\n",
       "      <th>0</th>\n",
       "      <td>1</td>\n",
       "      <td>3</td>\n",
       "      <td>2010-10-13</td>\n",
       "      <td>Low</td>\n",
       "      <td>6</td>\n",
       "      <td>261.5400</td>\n",
       "      <td>0.04</td>\n",
       "      <td>Regular Air</td>\n",
       "      <td>-213.250</td>\n",
       "      <td>38.94</td>\n",
       "      <td>...</td>\n",
       "      <td>Muhammed MacIntyre</td>\n",
       "      <td>Nunavut</td>\n",
       "      <td>Nunavut</td>\n",
       "      <td>Small Business</td>\n",
       "      <td>Office Supplies</td>\n",
       "      <td>Storage &amp; Organization</td>\n",
       "      <td>Eldon Base for stackable storage shelf, platinum</td>\n",
       "      <td>Large Box</td>\n",
       "      <td>0.80</td>\n",
       "      <td>2010-10-20</td>\n",
       "    </tr>\n",
       "    <tr>\n",
       "      <th>1</th>\n",
       "      <td>2</td>\n",
       "      <td>6</td>\n",
       "      <td>2012-02-20</td>\n",
       "      <td>Not Specified</td>\n",
       "      <td>2</td>\n",
       "      <td>6.9300</td>\n",
       "      <td>0.01</td>\n",
       "      <td>Regular Air</td>\n",
       "      <td>-4.640</td>\n",
       "      <td>2.08</td>\n",
       "      <td>...</td>\n",
       "      <td>Ruben Dartt</td>\n",
       "      <td>Alberta</td>\n",
       "      <td>West</td>\n",
       "      <td>Corporate</td>\n",
       "      <td>Office Supplies</td>\n",
       "      <td>Scissors, Rulers and Trimmers</td>\n",
       "      <td>Kleencut® Forged Office Shears by Acme United ...</td>\n",
       "      <td>Small Pack</td>\n",
       "      <td>0.55</td>\n",
       "      <td>2012-02-21</td>\n",
       "    </tr>\n",
       "    <tr>\n",
       "      <th>2</th>\n",
       "      <td>3</td>\n",
       "      <td>32</td>\n",
       "      <td>2011-07-15</td>\n",
       "      <td>High</td>\n",
       "      <td>26</td>\n",
       "      <td>2808.0800</td>\n",
       "      <td>0.07</td>\n",
       "      <td>Regular Air</td>\n",
       "      <td>1054.820</td>\n",
       "      <td>107.53</td>\n",
       "      <td>...</td>\n",
       "      <td>Liz Pelletier</td>\n",
       "      <td>Alberta</td>\n",
       "      <td>West</td>\n",
       "      <td>Corporate</td>\n",
       "      <td>Furniture</td>\n",
       "      <td>Office Furnishings</td>\n",
       "      <td>Tenex Contemporary Contur Chairmats for Low an...</td>\n",
       "      <td>Medium Box</td>\n",
       "      <td>0.65</td>\n",
       "      <td>2011-07-17</td>\n",
       "    </tr>\n",
       "    <tr>\n",
       "      <th>3</th>\n",
       "      <td>4</td>\n",
       "      <td>32</td>\n",
       "      <td>2011-07-15</td>\n",
       "      <td>High</td>\n",
       "      <td>24</td>\n",
       "      <td>1761.4000</td>\n",
       "      <td>0.09</td>\n",
       "      <td>Delivery Truck</td>\n",
       "      <td>-1748.560</td>\n",
       "      <td>70.89</td>\n",
       "      <td>...</td>\n",
       "      <td>Liz Pelletier</td>\n",
       "      <td>Alberta</td>\n",
       "      <td>West</td>\n",
       "      <td>Corporate</td>\n",
       "      <td>Furniture</td>\n",
       "      <td>Tables</td>\n",
       "      <td>KI Conference Tables</td>\n",
       "      <td>Jumbo Box</td>\n",
       "      <td>0.72</td>\n",
       "      <td>2011-07-16</td>\n",
       "    </tr>\n",
       "    <tr>\n",
       "      <th>4</th>\n",
       "      <td>5</td>\n",
       "      <td>32</td>\n",
       "      <td>2011-07-15</td>\n",
       "      <td>High</td>\n",
       "      <td>23</td>\n",
       "      <td>160.2335</td>\n",
       "      <td>0.04</td>\n",
       "      <td>Regular Air</td>\n",
       "      <td>-85.129</td>\n",
       "      <td>7.99</td>\n",
       "      <td>...</td>\n",
       "      <td>Liz Pelletier</td>\n",
       "      <td>Alberta</td>\n",
       "      <td>West</td>\n",
       "      <td>Corporate</td>\n",
       "      <td>Technology</td>\n",
       "      <td>Telephones and Communication</td>\n",
       "      <td>Bell Sonecor JB700 Caller ID</td>\n",
       "      <td>Medium Box</td>\n",
       "      <td>0.60</td>\n",
       "      <td>2011-07-17</td>\n",
       "    </tr>\n",
       "    <tr>\n",
       "      <th>...</th>\n",
       "      <td>...</td>\n",
       "      <td>...</td>\n",
       "      <td>...</td>\n",
       "      <td>...</td>\n",
       "      <td>...</td>\n",
       "      <td>...</td>\n",
       "      <td>...</td>\n",
       "      <td>...</td>\n",
       "      <td>...</td>\n",
       "      <td>...</td>\n",
       "      <td>...</td>\n",
       "      <td>...</td>\n",
       "      <td>...</td>\n",
       "      <td>...</td>\n",
       "      <td>...</td>\n",
       "      <td>...</td>\n",
       "      <td>...</td>\n",
       "      <td>...</td>\n",
       "      <td>...</td>\n",
       "      <td>...</td>\n",
       "      <td>...</td>\n",
       "    </tr>\n",
       "    <tr>\n",
       "      <th>8394</th>\n",
       "      <td>8395</td>\n",
       "      <td>59971</td>\n",
       "      <td>2011-05-31</td>\n",
       "      <td>Critical</td>\n",
       "      <td>26</td>\n",
       "      <td>437.7700</td>\n",
       "      <td>0.01</td>\n",
       "      <td>Express Air</td>\n",
       "      <td>-125.800</td>\n",
       "      <td>15.98</td>\n",
       "      <td>...</td>\n",
       "      <td>Brad Thomas</td>\n",
       "      <td>British Columbia</td>\n",
       "      <td>West</td>\n",
       "      <td>Home Office</td>\n",
       "      <td>Technology</td>\n",
       "      <td>Computer Peripherals</td>\n",
       "      <td>Imation 3.5\" DS/HD IBM Formatted Diskettes, 50...</td>\n",
       "      <td>Small Pack</td>\n",
       "      <td>0.64</td>\n",
       "      <td>2011-06-02</td>\n",
       "    </tr>\n",
       "    <tr>\n",
       "      <th>8395</th>\n",
       "      <td>8396</td>\n",
       "      <td>59971</td>\n",
       "      <td>2011-05-31</td>\n",
       "      <td>Critical</td>\n",
       "      <td>45</td>\n",
       "      <td>514.8600</td>\n",
       "      <td>0.08</td>\n",
       "      <td>Regular Air</td>\n",
       "      <td>-10.840</td>\n",
       "      <td>12.28</td>\n",
       "      <td>...</td>\n",
       "      <td>Brad Thomas</td>\n",
       "      <td>British Columbia</td>\n",
       "      <td>West</td>\n",
       "      <td>Home Office</td>\n",
       "      <td>Office Supplies</td>\n",
       "      <td>Paper</td>\n",
       "      <td>Xerox 1881</td>\n",
       "      <td>Small Box</td>\n",
       "      <td>0.38</td>\n",
       "      <td>2011-06-02</td>\n",
       "    </tr>\n",
       "    <tr>\n",
       "      <th>8396</th>\n",
       "      <td>8397</td>\n",
       "      <td>59971</td>\n",
       "      <td>2011-05-31</td>\n",
       "      <td>Critical</td>\n",
       "      <td>12</td>\n",
       "      <td>356.2700</td>\n",
       "      <td>0.10</td>\n",
       "      <td>Express Air</td>\n",
       "      <td>84.530</td>\n",
       "      <td>30.98</td>\n",
       "      <td>...</td>\n",
       "      <td>Brad Thomas</td>\n",
       "      <td>British Columbia</td>\n",
       "      <td>West</td>\n",
       "      <td>Home Office</td>\n",
       "      <td>Office Supplies</td>\n",
       "      <td>Paper</td>\n",
       "      <td>Xerox 19</td>\n",
       "      <td>Small Box</td>\n",
       "      <td>0.40</td>\n",
       "      <td>2011-06-02</td>\n",
       "    </tr>\n",
       "    <tr>\n",
       "      <th>8397</th>\n",
       "      <td>8398</td>\n",
       "      <td>59973</td>\n",
       "      <td>2011-11-15</td>\n",
       "      <td>Low</td>\n",
       "      <td>29</td>\n",
       "      <td>11039.7500</td>\n",
       "      <td>0.06</td>\n",
       "      <td>Delivery Truck</td>\n",
       "      <td>2148.970</td>\n",
       "      <td>400.97</td>\n",
       "      <td>...</td>\n",
       "      <td>Suzanne McNair</td>\n",
       "      <td>Saskachewan</td>\n",
       "      <td>Prarie</td>\n",
       "      <td>Small Business</td>\n",
       "      <td>Technology</td>\n",
       "      <td>Office Machines</td>\n",
       "      <td>Epson FX-980 Dot Matrix Printer</td>\n",
       "      <td>Jumbo Drum</td>\n",
       "      <td>0.59</td>\n",
       "      <td>2011-11-15</td>\n",
       "    </tr>\n",
       "    <tr>\n",
       "      <th>8398</th>\n",
       "      <td>8399</td>\n",
       "      <td>59973</td>\n",
       "      <td>2011-11-15</td>\n",
       "      <td>Low</td>\n",
       "      <td>30</td>\n",
       "      <td>4982.9440</td>\n",
       "      <td>0.07</td>\n",
       "      <td>Delivery Truck</td>\n",
       "      <td>693.690</td>\n",
       "      <td>217.85</td>\n",
       "      <td>...</td>\n",
       "      <td>Suzanne McNair</td>\n",
       "      <td>Saskachewan</td>\n",
       "      <td>Prarie</td>\n",
       "      <td>Small Business</td>\n",
       "      <td>Furniture</td>\n",
       "      <td>Tables</td>\n",
       "      <td>Chromcraft Bull-Nose Wood Round Conference Tab...</td>\n",
       "      <td>Jumbo Box</td>\n",
       "      <td>0.68</td>\n",
       "      <td>2011-11-19</td>\n",
       "    </tr>\n",
       "  </tbody>\n",
       "</table>\n",
       "<p>8399 rows × 21 columns</p>\n",
       "</div>"
      ],
      "text/plain": [
       "      Row ID  Order ID Order Date Order Priority  Order Quantity       Sales  \\\n",
       "0          1         3 2010-10-13            Low               6    261.5400   \n",
       "1          2         6 2012-02-20  Not Specified               2      6.9300   \n",
       "2          3        32 2011-07-15           High              26   2808.0800   \n",
       "3          4        32 2011-07-15           High              24   1761.4000   \n",
       "4          5        32 2011-07-15           High              23    160.2335   \n",
       "...      ...       ...        ...            ...             ...         ...   \n",
       "8394    8395     59971 2011-05-31       Critical              26    437.7700   \n",
       "8395    8396     59971 2011-05-31       Critical              45    514.8600   \n",
       "8396    8397     59971 2011-05-31       Critical              12    356.2700   \n",
       "8397    8398     59973 2011-11-15            Low              29  11039.7500   \n",
       "8398    8399     59973 2011-11-15            Low              30   4982.9440   \n",
       "\n",
       "      Discount       Ship Mode    Profit  Unit Price  ...       Customer Name  \\\n",
       "0         0.04     Regular Air  -213.250       38.94  ...  Muhammed MacIntyre   \n",
       "1         0.01     Regular Air    -4.640        2.08  ...         Ruben Dartt   \n",
       "2         0.07     Regular Air  1054.820      107.53  ...       Liz Pelletier   \n",
       "3         0.09  Delivery Truck -1748.560       70.89  ...       Liz Pelletier   \n",
       "4         0.04     Regular Air   -85.129        7.99  ...       Liz Pelletier   \n",
       "...        ...             ...       ...         ...  ...                 ...   \n",
       "8394      0.01     Express Air  -125.800       15.98  ...         Brad Thomas   \n",
       "8395      0.08     Regular Air   -10.840       12.28  ...         Brad Thomas   \n",
       "8396      0.10     Express Air    84.530       30.98  ...         Brad Thomas   \n",
       "8397      0.06  Delivery Truck  2148.970      400.97  ...      Suzanne McNair   \n",
       "8398      0.07  Delivery Truck   693.690      217.85  ...      Suzanne McNair   \n",
       "\n",
       "              Province   Region Customer Segment Product Category  \\\n",
       "0              Nunavut  Nunavut   Small Business  Office Supplies   \n",
       "1              Alberta     West        Corporate  Office Supplies   \n",
       "2              Alberta     West        Corporate        Furniture   \n",
       "3              Alberta     West        Corporate        Furniture   \n",
       "4              Alberta     West        Corporate       Technology   \n",
       "...                ...      ...              ...              ...   \n",
       "8394  British Columbia     West      Home Office       Technology   \n",
       "8395  British Columbia     West      Home Office  Office Supplies   \n",
       "8396  British Columbia     West      Home Office  Office Supplies   \n",
       "8397       Saskachewan   Prarie   Small Business       Technology   \n",
       "8398       Saskachewan   Prarie   Small Business        Furniture   \n",
       "\n",
       "               Product Sub-Category  \\\n",
       "0            Storage & Organization   \n",
       "1     Scissors, Rulers and Trimmers   \n",
       "2                Office Furnishings   \n",
       "3                            Tables   \n",
       "4      Telephones and Communication   \n",
       "...                             ...   \n",
       "8394           Computer Peripherals   \n",
       "8395                          Paper   \n",
       "8396                          Paper   \n",
       "8397                Office Machines   \n",
       "8398                         Tables   \n",
       "\n",
       "                                           Product Name Product Container  \\\n",
       "0      Eldon Base for stackable storage shelf, platinum         Large Box   \n",
       "1     Kleencut® Forged Office Shears by Acme United ...        Small Pack   \n",
       "2     Tenex Contemporary Contur Chairmats for Low an...        Medium Box   \n",
       "3                                  KI Conference Tables         Jumbo Box   \n",
       "4                          Bell Sonecor JB700 Caller ID        Medium Box   \n",
       "...                                                 ...               ...   \n",
       "8394  Imation 3.5\" DS/HD IBM Formatted Diskettes, 50...        Small Pack   \n",
       "8395                                         Xerox 1881         Small Box   \n",
       "8396                                           Xerox 19         Small Box   \n",
       "8397                    Epson FX-980 Dot Matrix Printer        Jumbo Drum   \n",
       "8398  Chromcraft Bull-Nose Wood Round Conference Tab...         Jumbo Box   \n",
       "\n",
       "     Product Base Margin  Ship Date  \n",
       "0                   0.80 2010-10-20  \n",
       "1                   0.55 2012-02-21  \n",
       "2                   0.65 2011-07-17  \n",
       "3                   0.72 2011-07-16  \n",
       "4                   0.60 2011-07-17  \n",
       "...                  ...        ...  \n",
       "8394                0.64 2011-06-02  \n",
       "8395                0.38 2011-06-02  \n",
       "8396                0.40 2011-06-02  \n",
       "8397                0.59 2011-11-15  \n",
       "8398                0.68 2011-11-19  \n",
       "\n",
       "[8399 rows x 21 columns]"
      ]
     },
     "execution_count": 11,
     "metadata": {},
     "output_type": "execute_result"
    }
   ],
   "source": [
    "e"
   ]
  },
  {
   "cell_type": "code",
   "execution_count": 12,
   "metadata": {},
   "outputs": [],
   "source": [
    "#pd.ExcelWriter(filepath,mode = 'w')\n",
    "#class for writing dattaframe objects into excel sheets\n",
    "\n",
    "f = pd.ExcelWriter('C:/Users/H/Downloads/d.xlsx')"
   ]
  },
  {
   "cell_type": "code",
   "execution_count": 13,
   "metadata": {},
   "outputs": [
    {
     "data": {
      "text/plain": [
       "<pandas.io.excel._xlsxwriter._XlsxWriter at 0x26cdabd77c8>"
      ]
     },
     "execution_count": 13,
     "metadata": {},
     "output_type": "execute_result"
    }
   ],
   "source": [
    "f"
   ]
  },
  {
   "cell_type": "code",
   "execution_count": 14,
   "metadata": {},
   "outputs": [],
   "source": [
    "#pd.read_json(filepath)\n",
    "#Convert a json string to pandas object\n",
    "\n",
    "g = pd.read_json('C:/Users/H/Downloads/Sample-employee-JSON-data.json')"
   ]
  },
  {
   "cell_type": "code",
   "execution_count": 15,
   "metadata": {},
   "outputs": [
    {
     "data": {
      "text/html": [
       "<div>\n",
       "<style scoped>\n",
       "    .dataframe tbody tr th:only-of-type {\n",
       "        vertical-align: middle;\n",
       "    }\n",
       "\n",
       "    .dataframe tbody tr th {\n",
       "        vertical-align: top;\n",
       "    }\n",
       "\n",
       "    .dataframe thead th {\n",
       "        text-align: right;\n",
       "    }\n",
       "</style>\n",
       "<table border=\"1\" class=\"dataframe\">\n",
       "  <thead>\n",
       "    <tr style=\"text-align: right;\">\n",
       "      <th></th>\n",
       "      <th>Employees</th>\n",
       "    </tr>\n",
       "  </thead>\n",
       "  <tbody>\n",
       "    <tr>\n",
       "      <th>0</th>\n",
       "      <td>{'userId': 'krish', 'jobTitle': 'Developer', '...</td>\n",
       "    </tr>\n",
       "    <tr>\n",
       "      <th>1</th>\n",
       "      <td>{'userId': 'devid', 'jobTitle': 'Developer', '...</td>\n",
       "    </tr>\n",
       "    <tr>\n",
       "      <th>2</th>\n",
       "      <td>{'userId': 'tin', 'jobTitle': 'Program Directo...</td>\n",
       "    </tr>\n",
       "  </tbody>\n",
       "</table>\n",
       "</div>"
      ],
      "text/plain": [
       "                                           Employees\n",
       "0  {'userId': 'krish', 'jobTitle': 'Developer', '...\n",
       "1  {'userId': 'devid', 'jobTitle': 'Developer', '...\n",
       "2  {'userId': 'tin', 'jobTitle': 'Program Directo..."
      ]
     },
     "execution_count": 15,
     "metadata": {},
     "output_type": "execute_result"
    }
   ],
   "source": [
    "g"
   ]
  },
  {
   "cell_type": "code",
   "execution_count": 16,
   "metadata": {},
   "outputs": [],
   "source": [
    "#pd.json_normalize(data = dict or list of dict)\n",
    "#Normalize semi-sturctured JSON data into a flat table\n",
    "\n",
    "h = pd.json_normalize(data = {1:'king', 2:'Queen'})"
   ]
  },
  {
   "cell_type": "code",
   "execution_count": 17,
   "metadata": {},
   "outputs": [
    {
     "data": {
      "text/html": [
       "<div>\n",
       "<style scoped>\n",
       "    .dataframe tbody tr th:only-of-type {\n",
       "        vertical-align: middle;\n",
       "    }\n",
       "\n",
       "    .dataframe tbody tr th {\n",
       "        vertical-align: top;\n",
       "    }\n",
       "\n",
       "    .dataframe thead th {\n",
       "        text-align: right;\n",
       "    }\n",
       "</style>\n",
       "<table border=\"1\" class=\"dataframe\">\n",
       "  <thead>\n",
       "    <tr style=\"text-align: right;\">\n",
       "      <th></th>\n",
       "      <th>1</th>\n",
       "      <th>2</th>\n",
       "    </tr>\n",
       "  </thead>\n",
       "  <tbody>\n",
       "    <tr>\n",
       "      <th>0</th>\n",
       "      <td>king</td>\n",
       "      <td>Queen</td>\n",
       "    </tr>\n",
       "  </tbody>\n",
       "</table>\n",
       "</div>"
      ],
      "text/plain": [
       "      1      2\n",
       "0  king  Queen"
      ]
     },
     "execution_count": 17,
     "metadata": {},
     "output_type": "execute_result"
    }
   ],
   "source": [
    "h"
   ]
  },
  {
   "cell_type": "code",
   "execution_count": 18,
   "metadata": {},
   "outputs": [],
   "source": [
    "#pd.io.json.build_table_schema(data = Series/Dataframe,index = True)\n",
    "#Create a table schema from data\n",
    "\n",
    "i = pd.io.json.build_table_schema(data = g,index = True)"
   ]
  },
  {
   "cell_type": "code",
   "execution_count": 19,
   "metadata": {},
   "outputs": [
    {
     "data": {
      "text/plain": [
       "{'fields': [{'name': 'index', 'type': 'integer'},\n",
       "  {'name': 'Employees', 'type': 'string'}],\n",
       " 'primaryKey': ['index'],\n",
       " 'pandas_version': '0.20.0'}"
      ]
     },
     "execution_count": 19,
     "metadata": {},
     "output_type": "execute_result"
    }
   ],
   "source": [
    "i"
   ]
  },
  {
   "cell_type": "code",
   "execution_count": 20,
   "metadata": {},
   "outputs": [],
   "source": [
    "#pd.read_html(filepath that contians tables)\n",
    "#reads html tables into a list of Data Frame objects\n",
    "\n",
    "j = pd.read_html('C:/Users/H/Documents/nani.html')"
   ]
  },
  {
   "cell_type": "code",
   "execution_count": 21,
   "metadata": {},
   "outputs": [
    {
     "data": {
      "text/plain": [
       "[                 0                1\n",
       " 0  Row 1, Column 1  Row 1, Column 2\n",
       " 1  Row 2, Column 1  Row 2, Column 2]"
      ]
     },
     "execution_count": 21,
     "metadata": {},
     "output_type": "execute_result"
    }
   ],
   "source": [
    "j"
   ]
  },
  {
   "cell_type": "code",
   "execution_count": 22,
   "metadata": {},
   "outputs": [],
   "source": [
    "#pd.read_hdf(filepath,mode='str')\n",
    "#read hdf file from the store and close it if opened\n",
    "\n",
    "k = pd.read_hdf('C:/Users/H/Documents/hdf5_pandas.h5',mode = 'r+')"
   ]
  },
  {
   "cell_type": "code",
   "execution_count": 23,
   "metadata": {},
   "outputs": [
    {
     "data": {
      "text/html": [
       "<div>\n",
       "<style scoped>\n",
       "    .dataframe tbody tr th:only-of-type {\n",
       "        vertical-align: middle;\n",
       "    }\n",
       "\n",
       "    .dataframe tbody tr th {\n",
       "        vertical-align: top;\n",
       "    }\n",
       "\n",
       "    .dataframe thead th {\n",
       "        text-align: right;\n",
       "    }\n",
       "</style>\n",
       "<table border=\"1\" class=\"dataframe\">\n",
       "  <thead>\n",
       "    <tr style=\"text-align: right;\">\n",
       "      <th></th>\n",
       "      <th>ID</th>\n",
       "      <th>Name</th>\n",
       "      <th>Age</th>\n",
       "      <th>DateOfBirth</th>\n",
       "      <th>Department_ID</th>\n",
       "      <th>Email</th>\n",
       "      <th>Today</th>\n",
       "    </tr>\n",
       "  </thead>\n",
       "  <tbody>\n",
       "    <tr>\n",
       "      <th>0</th>\n",
       "      <td>1</td>\n",
       "      <td>Abhishek</td>\n",
       "      <td>23</td>\n",
       "      <td>5/1/1993</td>\n",
       "      <td>1</td>\n",
       "      <td>Abhishek@yahoo.com</td>\n",
       "      <td>7/28/2017</td>\n",
       "    </tr>\n",
       "    <tr>\n",
       "      <th>1</th>\n",
       "      <td>2</td>\n",
       "      <td>Charles</td>\n",
       "      <td>26</td>\n",
       "      <td>3/31/1990</td>\n",
       "      <td>2</td>\n",
       "      <td>Charles@yahoo.com</td>\n",
       "      <td>7/28/2017</td>\n",
       "    </tr>\n",
       "    <tr>\n",
       "      <th>2</th>\n",
       "      <td>3</td>\n",
       "      <td>Suraj</td>\n",
       "      <td>35</td>\n",
       "      <td>9/6/1981</td>\n",
       "      <td>3</td>\n",
       "      <td>Suraj@yahoo.com</td>\n",
       "      <td>7/28/2017</td>\n",
       "    </tr>\n",
       "    <tr>\n",
       "      <th>3</th>\n",
       "      <td>4</td>\n",
       "      <td>Ram</td>\n",
       "      <td>43</td>\n",
       "      <td>7/21/1973</td>\n",
       "      <td>1</td>\n",
       "      <td>Ram@yahoo.com</td>\n",
       "      <td>7/28/2017</td>\n",
       "    </tr>\n",
       "    <tr>\n",
       "      <th>4</th>\n",
       "      <td>5</td>\n",
       "      <td>Tony</td>\n",
       "      <td>25</td>\n",
       "      <td>4/4/1991</td>\n",
       "      <td>2</td>\n",
       "      <td>Tony@yahoo.com</td>\n",
       "      <td>7/28/2017</td>\n",
       "    </tr>\n",
       "    <tr>\n",
       "      <th>5</th>\n",
       "      <td>6</td>\n",
       "      <td>Rohit</td>\n",
       "      <td>31</td>\n",
       "      <td>8/25/1985</td>\n",
       "      <td>4</td>\n",
       "      <td>Rohit@yahoo.com</td>\n",
       "      <td>7/28/2017</td>\n",
       "    </tr>\n",
       "    <tr>\n",
       "      <th>6</th>\n",
       "      <td>7</td>\n",
       "      <td>Jacob</td>\n",
       "      <td>29</td>\n",
       "      <td>6/5/1987</td>\n",
       "      <td>1</td>\n",
       "      <td>Jacob@yahoo.com</td>\n",
       "      <td>7/28/2017</td>\n",
       "    </tr>\n",
       "    <tr>\n",
       "      <th>7</th>\n",
       "      <td>8</td>\n",
       "      <td>John</td>\n",
       "      <td>26</td>\n",
       "      <td>3/26/1990</td>\n",
       "      <td>2</td>\n",
       "      <td>John@yahoo.com</td>\n",
       "      <td>7/28/2017</td>\n",
       "    </tr>\n",
       "    <tr>\n",
       "      <th>8</th>\n",
       "      <td>9</td>\n",
       "      <td>Arun</td>\n",
       "      <td>30</td>\n",
       "      <td>2/10/1986</td>\n",
       "      <td>3</td>\n",
       "      <td>Arun@yahoo.com</td>\n",
       "      <td>7/28/2017</td>\n",
       "    </tr>\n",
       "    <tr>\n",
       "      <th>9</th>\n",
       "      <td>10</td>\n",
       "      <td>Akshay</td>\n",
       "      <td>34</td>\n",
       "      <td>1/12/1982</td>\n",
       "      <td>4</td>\n",
       "      <td>Akshay@yahoo.com</td>\n",
       "      <td>7/28/2017</td>\n",
       "    </tr>\n",
       "    <tr>\n",
       "      <th>10</th>\n",
       "      <td>11</td>\n",
       "      <td>Aniket</td>\n",
       "      <td>24</td>\n",
       "      <td>1/12/1999</td>\n",
       "      <td>10</td>\n",
       "      <td>Aniket@yahoo.com</td>\n",
       "      <td>7/28/2017</td>\n",
       "    </tr>\n",
       "  </tbody>\n",
       "</table>\n",
       "</div>"
      ],
      "text/plain": [
       "    ID      Name  Age DateOfBirth  Department_ID               Email  \\\n",
       "0    1  Abhishek   23    5/1/1993              1  Abhishek@yahoo.com   \n",
       "1    2   Charles   26   3/31/1990              2   Charles@yahoo.com   \n",
       "2    3     Suraj   35    9/6/1981              3     Suraj@yahoo.com   \n",
       "3    4       Ram   43   7/21/1973              1       Ram@yahoo.com   \n",
       "4    5      Tony   25    4/4/1991              2      Tony@yahoo.com   \n",
       "5    6     Rohit   31   8/25/1985              4     Rohit@yahoo.com   \n",
       "6    7     Jacob   29    6/5/1987              1     Jacob@yahoo.com   \n",
       "7    8      John   26   3/26/1990              2      John@yahoo.com   \n",
       "8    9      Arun   30   2/10/1986              3      Arun@yahoo.com   \n",
       "9   10    Akshay   34   1/12/1982              4    Akshay@yahoo.com   \n",
       "10  11    Aniket   24   1/12/1999             10    Aniket@yahoo.com   \n",
       "\n",
       "        Today  \n",
       "0   7/28/2017  \n",
       "1   7/28/2017  \n",
       "2   7/28/2017  \n",
       "3   7/28/2017  \n",
       "4   7/28/2017  \n",
       "5   7/28/2017  \n",
       "6   7/28/2017  \n",
       "7   7/28/2017  \n",
       "8   7/28/2017  \n",
       "9   7/28/2017  \n",
       "10  7/28/2017  "
      ]
     },
     "execution_count": 23,
     "metadata": {},
     "output_type": "execute_result"
    }
   ],
   "source": [
    "k"
   ]
  },
  {
   "cell_type": "code",
   "execution_count": 24,
   "metadata": {},
   "outputs": [
    {
     "name": "stderr",
     "output_type": "stream",
     "text": [
      "C:\\Users\\H\\anaconda3\\lib\\site-packages\\tables\\path.py:155: NaturalNameWarning: object name is not a valid Python identifier: 'DATA 1'; it does not match the pattern ``^[a-zA-Z_][a-zA-Z0-9_]*$``; you will not be able to use natural naming to access this object; using ``getattr()`` will still work, though\n",
      "  check_attribute_name(name)\n"
     ]
    }
   ],
   "source": [
    "#pd.HDFStore.put(self,key = 'str',value=Set/DataFrame,format = 'fixed/table)\n",
    "#Store the object in HDFStore\n",
    "\n",
    "l = pd.HDFStore('C:/Users/H/Documents/queen.h5',mode = 'w')\n",
    "l1 = pd.read_csv('C:/Users/H/Documents/BioData.csv')\n",
    "l.put('DATA 1',l1,format='table',data_columns = True)\n",
    "l.close()"
   ]
  },
  {
   "cell_type": "code",
   "execution_count": 25,
   "metadata": {},
   "outputs": [],
   "source": [
    "#pd.HDFStore.append(self,key = 'str',value = Set/DataFrame, format = table)\n",
    "#Append to table in file.Node must already exist and be in Table format\n"
   ]
  },
  {
   "cell_type": "code",
   "execution_count": 26,
   "metadata": {},
   "outputs": [],
   "source": [
    "#pd.HDFStore.get(self,key = 'str')\n",
    "#Retrieve pandas object stored in file\n",
    "\n",
    "l = pd.HDFStore('C:/Users/H/Documents/queen.h5',mode = 'r+')\n",
    "m = pd.HDFStore.get(l,key = 'DATA 1')\n",
    "l.close()"
   ]
  },
  {
   "cell_type": "code",
   "execution_count": 27,
   "metadata": {},
   "outputs": [
    {
     "data": {
      "text/html": [
       "<div>\n",
       "<style scoped>\n",
       "    .dataframe tbody tr th:only-of-type {\n",
       "        vertical-align: middle;\n",
       "    }\n",
       "\n",
       "    .dataframe tbody tr th {\n",
       "        vertical-align: top;\n",
       "    }\n",
       "\n",
       "    .dataframe thead th {\n",
       "        text-align: right;\n",
       "    }\n",
       "</style>\n",
       "<table border=\"1\" class=\"dataframe\">\n",
       "  <thead>\n",
       "    <tr style=\"text-align: right;\">\n",
       "      <th></th>\n",
       "      <th>ID</th>\n",
       "      <th>Name</th>\n",
       "      <th>Age</th>\n",
       "      <th>DateOfBirth</th>\n",
       "      <th>Department_ID</th>\n",
       "      <th>Email</th>\n",
       "      <th>Today</th>\n",
       "    </tr>\n",
       "  </thead>\n",
       "  <tbody>\n",
       "    <tr>\n",
       "      <th>0</th>\n",
       "      <td>1</td>\n",
       "      <td>Abhishek</td>\n",
       "      <td>23</td>\n",
       "      <td>5/1/1993</td>\n",
       "      <td>1</td>\n",
       "      <td>Abhishek@yahoo.com</td>\n",
       "      <td>7/28/2017</td>\n",
       "    </tr>\n",
       "    <tr>\n",
       "      <th>1</th>\n",
       "      <td>2</td>\n",
       "      <td>Charles</td>\n",
       "      <td>26</td>\n",
       "      <td>3/31/1990</td>\n",
       "      <td>2</td>\n",
       "      <td>Charles@yahoo.com</td>\n",
       "      <td>7/28/2017</td>\n",
       "    </tr>\n",
       "    <tr>\n",
       "      <th>2</th>\n",
       "      <td>3</td>\n",
       "      <td>Suraj</td>\n",
       "      <td>35</td>\n",
       "      <td>9/6/1981</td>\n",
       "      <td>3</td>\n",
       "      <td>Suraj@yahoo.com</td>\n",
       "      <td>7/28/2017</td>\n",
       "    </tr>\n",
       "    <tr>\n",
       "      <th>3</th>\n",
       "      <td>4</td>\n",
       "      <td>Ram</td>\n",
       "      <td>43</td>\n",
       "      <td>7/21/1973</td>\n",
       "      <td>1</td>\n",
       "      <td>Ram@yahoo.com</td>\n",
       "      <td>7/28/2017</td>\n",
       "    </tr>\n",
       "    <tr>\n",
       "      <th>4</th>\n",
       "      <td>5</td>\n",
       "      <td>Tony</td>\n",
       "      <td>25</td>\n",
       "      <td>4/4/1991</td>\n",
       "      <td>2</td>\n",
       "      <td>Tony@yahoo.com</td>\n",
       "      <td>7/28/2017</td>\n",
       "    </tr>\n",
       "    <tr>\n",
       "      <th>5</th>\n",
       "      <td>6</td>\n",
       "      <td>Rohit</td>\n",
       "      <td>31</td>\n",
       "      <td>8/25/1985</td>\n",
       "      <td>4</td>\n",
       "      <td>Rohit@yahoo.com</td>\n",
       "      <td>7/28/2017</td>\n",
       "    </tr>\n",
       "    <tr>\n",
       "      <th>6</th>\n",
       "      <td>7</td>\n",
       "      <td>Jacob</td>\n",
       "      <td>29</td>\n",
       "      <td>6/5/1987</td>\n",
       "      <td>1</td>\n",
       "      <td>Jacob@yahoo.com</td>\n",
       "      <td>7/28/2017</td>\n",
       "    </tr>\n",
       "    <tr>\n",
       "      <th>7</th>\n",
       "      <td>8</td>\n",
       "      <td>John</td>\n",
       "      <td>26</td>\n",
       "      <td>3/26/1990</td>\n",
       "      <td>2</td>\n",
       "      <td>John@yahoo.com</td>\n",
       "      <td>7/28/2017</td>\n",
       "    </tr>\n",
       "    <tr>\n",
       "      <th>8</th>\n",
       "      <td>9</td>\n",
       "      <td>Arun</td>\n",
       "      <td>30</td>\n",
       "      <td>2/10/1986</td>\n",
       "      <td>3</td>\n",
       "      <td>Arun@yahoo.com</td>\n",
       "      <td>7/28/2017</td>\n",
       "    </tr>\n",
       "    <tr>\n",
       "      <th>9</th>\n",
       "      <td>10</td>\n",
       "      <td>Akshay</td>\n",
       "      <td>34</td>\n",
       "      <td>1/12/1982</td>\n",
       "      <td>4</td>\n",
       "      <td>Akshay@yahoo.com</td>\n",
       "      <td>7/28/2017</td>\n",
       "    </tr>\n",
       "    <tr>\n",
       "      <th>10</th>\n",
       "      <td>11</td>\n",
       "      <td>Aniket</td>\n",
       "      <td>24</td>\n",
       "      <td>1/12/1999</td>\n",
       "      <td>10</td>\n",
       "      <td>Aniket@yahoo.com</td>\n",
       "      <td>7/28/2017</td>\n",
       "    </tr>\n",
       "  </tbody>\n",
       "</table>\n",
       "</div>"
      ],
      "text/plain": [
       "    ID      Name  Age DateOfBirth  Department_ID               Email  \\\n",
       "0    1  Abhishek   23    5/1/1993              1  Abhishek@yahoo.com   \n",
       "1    2   Charles   26   3/31/1990              2   Charles@yahoo.com   \n",
       "2    3     Suraj   35    9/6/1981              3     Suraj@yahoo.com   \n",
       "3    4       Ram   43   7/21/1973              1       Ram@yahoo.com   \n",
       "4    5      Tony   25    4/4/1991              2      Tony@yahoo.com   \n",
       "5    6     Rohit   31   8/25/1985              4     Rohit@yahoo.com   \n",
       "6    7     Jacob   29    6/5/1987              1     Jacob@yahoo.com   \n",
       "7    8      John   26   3/26/1990              2      John@yahoo.com   \n",
       "8    9      Arun   30   2/10/1986              3      Arun@yahoo.com   \n",
       "9   10    Akshay   34   1/12/1982              4    Akshay@yahoo.com   \n",
       "10  11    Aniket   24   1/12/1999             10    Aniket@yahoo.com   \n",
       "\n",
       "        Today  \n",
       "0   7/28/2017  \n",
       "1   7/28/2017  \n",
       "2   7/28/2017  \n",
       "3   7/28/2017  \n",
       "4   7/28/2017  \n",
       "5   7/28/2017  \n",
       "6   7/28/2017  \n",
       "7   7/28/2017  \n",
       "8   7/28/2017  \n",
       "9   7/28/2017  \n",
       "10  7/28/2017  "
      ]
     },
     "execution_count": 27,
     "metadata": {},
     "output_type": "execute_result"
    }
   ],
   "source": [
    "m"
   ]
  },
  {
   "cell_type": "code",
   "execution_count": 28,
   "metadata": {},
   "outputs": [],
   "source": [
    "#pd.HDFStore(self,key = 'str',where=None,start=int,stop=int,columns=list)\n",
    "#Retrieve pandas object stored in the file,optionally based on where criteria also filters as per rows(start,stop) and list of columns\n",
    "l = pd.HDFStore('C:/Users/H/Documents/queen.h5',mode = 'r+')\n",
    "n = pd.HDFStore.select(l,key = 'DATA 1',start=1,stop=3)\n",
    "l.close()"
   ]
  },
  {
   "cell_type": "code",
   "execution_count": 29,
   "metadata": {},
   "outputs": [
    {
     "data": {
      "text/html": [
       "<div>\n",
       "<style scoped>\n",
       "    .dataframe tbody tr th:only-of-type {\n",
       "        vertical-align: middle;\n",
       "    }\n",
       "\n",
       "    .dataframe tbody tr th {\n",
       "        vertical-align: top;\n",
       "    }\n",
       "\n",
       "    .dataframe thead th {\n",
       "        text-align: right;\n",
       "    }\n",
       "</style>\n",
       "<table border=\"1\" class=\"dataframe\">\n",
       "  <thead>\n",
       "    <tr style=\"text-align: right;\">\n",
       "      <th></th>\n",
       "      <th>ID</th>\n",
       "      <th>Name</th>\n",
       "      <th>Age</th>\n",
       "      <th>DateOfBirth</th>\n",
       "      <th>Department_ID</th>\n",
       "      <th>Email</th>\n",
       "      <th>Today</th>\n",
       "    </tr>\n",
       "  </thead>\n",
       "  <tbody>\n",
       "    <tr>\n",
       "      <th>1</th>\n",
       "      <td>2</td>\n",
       "      <td>Charles</td>\n",
       "      <td>26</td>\n",
       "      <td>3/31/1990</td>\n",
       "      <td>2</td>\n",
       "      <td>Charles@yahoo.com</td>\n",
       "      <td>7/28/2017</td>\n",
       "    </tr>\n",
       "    <tr>\n",
       "      <th>2</th>\n",
       "      <td>3</td>\n",
       "      <td>Suraj</td>\n",
       "      <td>35</td>\n",
       "      <td>9/6/1981</td>\n",
       "      <td>3</td>\n",
       "      <td>Suraj@yahoo.com</td>\n",
       "      <td>7/28/2017</td>\n",
       "    </tr>\n",
       "  </tbody>\n",
       "</table>\n",
       "</div>"
      ],
      "text/plain": [
       "   ID     Name  Age DateOfBirth  Department_ID              Email      Today\n",
       "1   2  Charles   26   3/31/1990              2  Charles@yahoo.com  7/28/2017\n",
       "2   3    Suraj   35    9/6/1981              3    Suraj@yahoo.com  7/28/2017"
      ]
     },
     "execution_count": 29,
     "metadata": {},
     "output_type": "execute_result"
    }
   ],
   "source": [
    "n"
   ]
  },
  {
   "cell_type": "code",
   "execution_count": 30,
   "metadata": {},
   "outputs": [],
   "source": [
    "#pd.HDFStore.info(self)\n",
    "#Print detailed information on the store\n",
    "\n",
    "l = pd.HDFStore('C:/Users/H/Documents/queen.h5',mode = 'r+')\n",
    "o = pd.HDFStore.info(l)\n",
    "l.close()"
   ]
  },
  {
   "cell_type": "code",
   "execution_count": 31,
   "metadata": {},
   "outputs": [
    {
     "data": {
      "text/plain": [
       "\"<class 'pandas.io.pytables.HDFStore'>\\nFile path: C:/Users/H/Documents/queen.h5\\n/DATA 1            frame_table  (typ->appendable,nrows->11,ncols->7,indexers->[index],dc->[ID,Name,Age,DateOfBirth,Department_ID,Email,Today])\""
      ]
     },
     "execution_count": 31,
     "metadata": {},
     "output_type": "execute_result"
    }
   ],
   "source": [
    "o"
   ]
  },
  {
   "cell_type": "code",
   "execution_count": 32,
   "metadata": {},
   "outputs": [],
   "source": [
    "#pd.HDFStore.keys(self)\n",
    "#Return a list of keys corresponding to objects stored in HDFStore\n",
    "\n",
    "l = pd.HDFStore('C:/Users/H/Documents/queen.h5',mode = 'r+')\n",
    "p = pd.HDFStore.keys(l)\n",
    "l.close()"
   ]
  },
  {
   "cell_type": "code",
   "execution_count": 33,
   "metadata": {},
   "outputs": [
    {
     "data": {
      "text/plain": [
       "['/DATA 1']"
      ]
     },
     "execution_count": 33,
     "metadata": {},
     "output_type": "execute_result"
    }
   ],
   "source": [
    "p"
   ]
  },
  {
   "cell_type": "code",
   "execution_count": 34,
   "metadata": {},
   "outputs": [],
   "source": [
    "#pd.HDFStore.groups(self)\n",
    "#Return a list of all top level nodes.Each node returned is not a pandas storage object\n",
    "\n",
    "l = pd.HDFStore('C:/Users/H/Documents/queen.h5',mode = 'r+')\n",
    "q = pd.HDFStore.groups(l)\n",
    "l.close()"
   ]
  },
  {
   "cell_type": "code",
   "execution_count": 35,
   "metadata": {},
   "outputs": [
    {
     "data": {
      "text/plain": [
       "[<closed tables.group.Group at 0x26cdaaeac78>]"
      ]
     },
     "execution_count": 35,
     "metadata": {},
     "output_type": "execute_result"
    }
   ],
   "source": [
    "q"
   ]
  },
  {
   "cell_type": "code",
   "execution_count": 36,
   "metadata": {},
   "outputs": [],
   "source": [
    "#pd.HDFStore.walk(self,where='/')\n",
    "#This is a generator which yields the group path,sub groups and pandas object names for each group\n",
    "\n",
    "l = pd.HDFStore('C:/Users/H/Documents/queen.h5',mode = 'r+')\n",
    "r = pd.HDFStore.walk(l)\n",
    "l.close()"
   ]
  },
  {
   "cell_type": "code",
   "execution_count": 37,
   "metadata": {},
   "outputs": [
    {
     "data": {
      "text/plain": [
       "<generator object HDFStore.walk at 0x0000026CDBE17BC8>"
      ]
     },
     "execution_count": 37,
     "metadata": {},
     "output_type": "execute_result"
    }
   ],
   "source": [
    "r"
   ]
  },
  {
   "cell_type": "code",
   "execution_count": 51,
   "metadata": {},
   "outputs": [
    {
     "name": "stdout",
     "output_type": "stream",
     "text": [
      "Requirement already satisfied: pyarrow in c:\\users\\h\\anaconda3\\lib\\site-packages (0.16.0)\n",
      "Requirement already satisfied: six>=1.0.0 in c:\\users\\h\\anaconda3\\lib\\site-packages (from pyarrow) (1.14.0)\n",
      "Requirement already satisfied: numpy>=1.14 in c:\\users\\h\\anaconda3\\lib\\site-packages (from pyarrow) (1.18.1)\n",
      "Note: you may need to restart the kernel to use updated packages.\n"
     ]
    }
   ],
   "source": [
    "pip install pyarrow"
   ]
  },
  {
   "cell_type": "code",
   "execution_count": 38,
   "metadata": {},
   "outputs": [],
   "source": [
    "#pd.read_type(filepath)\n",
    "#IN THE SAME WAY READING OF type = 'FEATHER','PARQUET','ORC','SAS','SPSS' OBJECTS FROM THE FILE PATH"
   ]
  },
  {
   "cell_type": "code",
   "execution_count": 39,
   "metadata": {},
   "outputs": [],
   "source": [
    "#BASICS OF SQL BEFORE ENTERING INTO SQL COMMANDS\n",
    "import sqlite3\n",
    "import time\n",
    "import random\n",
    "import datetime\n",
    "import matplotlib.pyplot as plt\n",
    "import matplotlib.dates as mdates\n",
    "from matplotlib import style"
   ]
  },
  {
   "cell_type": "code",
   "execution_count": 40,
   "metadata": {},
   "outputs": [
    {
     "data": {
      "image/png": "[encoded data removed]",
      "text/plain": [
       "<Figure size 432x288 with 1 Axes>"
      ]
     },
     "metadata": {
      "needs_background": "light"
     },
     "output_type": "display_data"
    },
    {
     "name": "stdout",
     "output_type": "stream",
     "text": [
      "(1585916032.4978533, '2020-04-03 17:43:52', 15.0)\n",
      "(1585916034.663368, '2020-04-03 17:43:54', 15.0)\n",
      "(1585916143.8771005, '2020-04-03 17:45:43', 15.0)\n",
      "(1585916032.4978533, '2020-04-03 17:43:52', 15.0)\n",
      "(1585916034.663368, '2020-04-03 17:43:54', 15.0)\n",
      "(1585916036.84728, '2020-04-03 17:43:56', 7.0)\n",
      "(1585916038.9560788, '2020-04-03 17:43:58', 14.0)\n",
      "(1585916041.0699093, '2020-04-03 17:44:01', 1.0)\n",
      "(1585916043.1324096, '2020-04-03 17:44:03', 2.0)\n",
      "(1585916045.1944032, '2020-04-03 17:44:05', 9.0)\n",
      "(1585916047.2802777, '2020-04-03 17:44:07', 17.0)\n",
      "(1585916049.3934784, '2020-04-03 17:44:09', 12.0)\n",
      "(1585916141.6838176, '2020-04-03 17:45:41', 16.0)\n",
      "(1585916143.8771005, '2020-04-03 17:45:43', 15.0)\n",
      "(1585916145.9782605, '2020-04-03 17:45:45', 17.0)\n",
      "(1585916148.0930362, '2020-04-03 17:45:48', 0.0)\n",
      "(1585916150.1830628, '2020-04-03 17:45:50', 9.0)\n",
      "(1585916158.5815916, '2020-04-03 17:45:58', 7.0)\n",
      "(1585916160.6934853, '2020-04-03 17:46:00', 4.0)\n",
      "KINGKINGKINGKINGKINGKINGKINGKINGKINGKING\n"
     ]
    }
   ],
   "source": [
    "conn = sqlite3.connect('C:/Users/H/Downloads/d.db')\n",
    "c = conn.cursor()\n",
    "def create_table():\n",
    "    c.execute('CREATE TABLE IF NOT EXISTS sales(unix REAL,datestamp TEXT,value REAL)')\n",
    "    \n",
    "def data_entry():\n",
    "    c.execute(\"INSERT INTO sales VALUES(1,'2020-4-2',18)\")\n",
    "    conn.commit()\n",
    "    c.close()\n",
    "    conn.close()\n",
    "    \n",
    "def dynamic_data_entry():\n",
    "    unix = time.time()\n",
    "    date = str(datetime.datetime.fromtimestamp(unix).strftime('%Y-%m-%d %H:%M:%S'))\n",
    "    value = random.randrange(0,20)\n",
    "    c.execute(\"INSERT INTO sales (unix,datestamp,value) VALUES(?,?,?)\",(unix,date,value))\n",
    "    conn.commit()\n",
    "\n",
    "def read_from_db():\n",
    "    c.execute('SELECT * FROM sales')\n",
    "    #TO SELECT EVERYTHING * IS USED\n",
    "    for row in c.fetchall():\n",
    "        print(row)\n",
    "\n",
    "def graph_data():\n",
    "    c.execute('SELECT unix, value FROM sales')\n",
    "    dates = []\n",
    "    values = []\n",
    "    for row in c.fetchall():\n",
    "        #print(row[0])\n",
    "        #print(datetime.datetime.fromtimestamp(row[0]))\n",
    "        dates.append(datetime.datetime.fromtimestamp((row[0])))\n",
    "        values.append(row[1])\n",
    "    plt.plot_date(dates,values,'-')\n",
    "    plt.show()\n",
    "    \n",
    "def del_and_update():\n",
    "    c.execute('SELECT * FROM sales WHERE value = 15')\n",
    "    [print(row) for row in c.fetchall()]\n",
    "    \n",
    "    c.execute('UPDATE sales SET value = 99 WHERE value = 18')\n",
    "    conn.commit()\n",
    "    \n",
    "    c.execute('SELECT * FROM sales')\n",
    "    [print(row) for row in c.fetchall()]\n",
    "    \n",
    "    c.execute('DELETE FROM sales WHERE value = 99')\n",
    "    conn.commit()\n",
    "    print(10*'KING')\n",
    "#for i in range(10):\n",
    " #   dynamic_data_entry()\n",
    "  #  time.sleep(2)\n",
    "#read_from_db()\n",
    "graph_data()\n",
    "del_and_update()\n",
    "c.close()\n",
    "conn.close()"
   ]
  },
  {
   "cell_type": "code",
   "execution_count": 41,
   "metadata": {},
   "outputs": [],
   "source": [
    "#pd.read_sql_table(table_name,con = SQLAlchemy or database url as str)\n",
    "#Read sql database table into a dataframe"
   ]
  },
  {
   "cell_type": "code",
   "execution_count": 42,
   "metadata": {},
   "outputs": [],
   "source": [
    "#pd.read_gbq(query = 'str sql like query')\n",
    "#Load data from google big query"
   ]
  },
  {
   "cell_type": "code",
   "execution_count": 43,
   "metadata": {},
   "outputs": [],
   "source": [
    "#pd.read_stata(filepath)\n",
    "#Read Stata file into a dataframe\n",
    "\n",
    "s = pd.read_stata('C:/Users/H/Downloads/airline.dta')"
   ]
  },
  {
   "cell_type": "code",
   "execution_count": 44,
   "metadata": {},
   "outputs": [
    {
     "data": {
      "text/html": [
       "<div>\n",
       "<style scoped>\n",
       "    .dataframe tbody tr th:only-of-type {\n",
       "        vertical-align: middle;\n",
       "    }\n",
       "\n",
       "    .dataframe tbody tr th {\n",
       "        vertical-align: top;\n",
       "    }\n",
       "\n",
       "    .dataframe thead th {\n",
       "        text-align: right;\n",
       "    }\n",
       "</style>\n",
       "<table border=\"1\" class=\"dataframe\">\n",
       "  <thead>\n",
       "    <tr style=\"text-align: right;\">\n",
       "      <th></th>\n",
       "      <th>year</th>\n",
       "      <th>y</th>\n",
       "      <th>w</th>\n",
       "      <th>r</th>\n",
       "      <th>l</th>\n",
       "      <th>k</th>\n",
       "    </tr>\n",
       "  </thead>\n",
       "  <tbody>\n",
       "    <tr>\n",
       "      <th>0</th>\n",
       "      <td>1948</td>\n",
       "      <td>1.214000</td>\n",
       "      <td>0.243</td>\n",
       "      <td>0.1454</td>\n",
       "      <td>1.415</td>\n",
       "      <td>0.612</td>\n",
       "    </tr>\n",
       "    <tr>\n",
       "      <th>1</th>\n",
       "      <td>1949</td>\n",
       "      <td>1.354000</td>\n",
       "      <td>0.260</td>\n",
       "      <td>0.2181</td>\n",
       "      <td>1.384</td>\n",
       "      <td>0.559</td>\n",
       "    </tr>\n",
       "    <tr>\n",
       "      <th>2</th>\n",
       "      <td>1950</td>\n",
       "      <td>1.569000</td>\n",
       "      <td>0.278</td>\n",
       "      <td>0.3157</td>\n",
       "      <td>1.388</td>\n",
       "      <td>0.573</td>\n",
       "    </tr>\n",
       "    <tr>\n",
       "      <th>3</th>\n",
       "      <td>1951</td>\n",
       "      <td>1.948000</td>\n",
       "      <td>0.297</td>\n",
       "      <td>0.3940</td>\n",
       "      <td>1.550</td>\n",
       "      <td>0.564</td>\n",
       "    </tr>\n",
       "    <tr>\n",
       "      <th>4</th>\n",
       "      <td>1952</td>\n",
       "      <td>2.265000</td>\n",
       "      <td>0.310</td>\n",
       "      <td>0.3559</td>\n",
       "      <td>1.802</td>\n",
       "      <td>0.574</td>\n",
       "    </tr>\n",
       "    <tr>\n",
       "      <th>5</th>\n",
       "      <td>1953</td>\n",
       "      <td>2.731000</td>\n",
       "      <td>0.322</td>\n",
       "      <td>0.3593</td>\n",
       "      <td>1.926</td>\n",
       "      <td>0.711</td>\n",
       "    </tr>\n",
       "    <tr>\n",
       "      <th>6</th>\n",
       "      <td>1954</td>\n",
       "      <td>3.025000</td>\n",
       "      <td>0.335</td>\n",
       "      <td>0.4025</td>\n",
       "      <td>1.964</td>\n",
       "      <td>0.776</td>\n",
       "    </tr>\n",
       "    <tr>\n",
       "      <th>7</th>\n",
       "      <td>1955</td>\n",
       "      <td>3.562000</td>\n",
       "      <td>0.350</td>\n",
       "      <td>0.3961</td>\n",
       "      <td>2.116</td>\n",
       "      <td>0.827</td>\n",
       "    </tr>\n",
       "    <tr>\n",
       "      <th>8</th>\n",
       "      <td>1956</td>\n",
       "      <td>3.979000</td>\n",
       "      <td>0.361</td>\n",
       "      <td>0.3822</td>\n",
       "      <td>2.435</td>\n",
       "      <td>0.800</td>\n",
       "    </tr>\n",
       "    <tr>\n",
       "      <th>9</th>\n",
       "      <td>1957</td>\n",
       "      <td>4.420000</td>\n",
       "      <td>0.379</td>\n",
       "      <td>0.3045</td>\n",
       "      <td>2.707</td>\n",
       "      <td>0.921</td>\n",
       "    </tr>\n",
       "    <tr>\n",
       "      <th>10</th>\n",
       "      <td>1958</td>\n",
       "      <td>4.563000</td>\n",
       "      <td>0.391</td>\n",
       "      <td>0.3284</td>\n",
       "      <td>2.706</td>\n",
       "      <td>1.067</td>\n",
       "    </tr>\n",
       "    <tr>\n",
       "      <th>11</th>\n",
       "      <td>1959</td>\n",
       "      <td>5.385000</td>\n",
       "      <td>0.426</td>\n",
       "      <td>0.3856</td>\n",
       "      <td>2.846</td>\n",
       "      <td>1.083</td>\n",
       "    </tr>\n",
       "    <tr>\n",
       "      <th>12</th>\n",
       "      <td>1960</td>\n",
       "      <td>5.554000</td>\n",
       "      <td>0.441</td>\n",
       "      <td>0.3193</td>\n",
       "      <td>3.089</td>\n",
       "      <td>1.481</td>\n",
       "    </tr>\n",
       "    <tr>\n",
       "      <th>13</th>\n",
       "      <td>1961</td>\n",
       "      <td>5.465000</td>\n",
       "      <td>0.460</td>\n",
       "      <td>0.3079</td>\n",
       "      <td>3.122</td>\n",
       "      <td>1.736</td>\n",
       "    </tr>\n",
       "    <tr>\n",
       "      <th>14</th>\n",
       "      <td>1962</td>\n",
       "      <td>5.825000</td>\n",
       "      <td>0.485</td>\n",
       "      <td>0.3783</td>\n",
       "      <td>3.184</td>\n",
       "      <td>1.926</td>\n",
       "    </tr>\n",
       "    <tr>\n",
       "      <th>15</th>\n",
       "      <td>1963</td>\n",
       "      <td>6.876000</td>\n",
       "      <td>0.506</td>\n",
       "      <td>0.4180</td>\n",
       "      <td>3.263</td>\n",
       "      <td>2.041</td>\n",
       "    </tr>\n",
       "    <tr>\n",
       "      <th>16</th>\n",
       "      <td>1964</td>\n",
       "      <td>7.823000</td>\n",
       "      <td>0.538</td>\n",
       "      <td>0.5163</td>\n",
       "      <td>3.412</td>\n",
       "      <td>1.997</td>\n",
       "    </tr>\n",
       "    <tr>\n",
       "      <th>17</th>\n",
       "      <td>1965</td>\n",
       "      <td>9.120000</td>\n",
       "      <td>0.564</td>\n",
       "      <td>0.5879</td>\n",
       "      <td>3.623</td>\n",
       "      <td>2.257</td>\n",
       "    </tr>\n",
       "    <tr>\n",
       "      <th>18</th>\n",
       "      <td>1966</td>\n",
       "      <td>10.512000</td>\n",
       "      <td>0.586</td>\n",
       "      <td>0.5369</td>\n",
       "      <td>4.074</td>\n",
       "      <td>2.742</td>\n",
       "    </tr>\n",
       "    <tr>\n",
       "      <th>19</th>\n",
       "      <td>1967</td>\n",
       "      <td>13.020000</td>\n",
       "      <td>0.622</td>\n",
       "      <td>0.4443</td>\n",
       "      <td>4.710</td>\n",
       "      <td>3.564</td>\n",
       "    </tr>\n",
       "    <tr>\n",
       "      <th>20</th>\n",
       "      <td>1968</td>\n",
       "      <td>15.261000</td>\n",
       "      <td>0.666</td>\n",
       "      <td>0.3052</td>\n",
       "      <td>5.217</td>\n",
       "      <td>4.767</td>\n",
       "    </tr>\n",
       "    <tr>\n",
       "      <th>21</th>\n",
       "      <td>1969</td>\n",
       "      <td>16.313000</td>\n",
       "      <td>0.731</td>\n",
       "      <td>0.2332</td>\n",
       "      <td>5.569</td>\n",
       "      <td>6.511</td>\n",
       "    </tr>\n",
       "    <tr>\n",
       "      <th>22</th>\n",
       "      <td>1970</td>\n",
       "      <td>16.002001</td>\n",
       "      <td>0.831</td>\n",
       "      <td>0.1883</td>\n",
       "      <td>5.495</td>\n",
       "      <td>7.627</td>\n",
       "    </tr>\n",
       "    <tr>\n",
       "      <th>23</th>\n",
       "      <td>1971</td>\n",
       "      <td>15.876000</td>\n",
       "      <td>0.906</td>\n",
       "      <td>0.2023</td>\n",
       "      <td>5.334</td>\n",
       "      <td>8.673</td>\n",
       "    </tr>\n",
       "    <tr>\n",
       "      <th>24</th>\n",
       "      <td>1972</td>\n",
       "      <td>16.662001</td>\n",
       "      <td>1.000</td>\n",
       "      <td>0.2506</td>\n",
       "      <td>5.345</td>\n",
       "      <td>8.331</td>\n",
       "    </tr>\n",
       "    <tr>\n",
       "      <th>25</th>\n",
       "      <td>1973</td>\n",
       "      <td>17.014000</td>\n",
       "      <td>1.056</td>\n",
       "      <td>0.2668</td>\n",
       "      <td>5.662</td>\n",
       "      <td>8.557</td>\n",
       "    </tr>\n",
       "    <tr>\n",
       "      <th>26</th>\n",
       "      <td>1974</td>\n",
       "      <td>19.305000</td>\n",
       "      <td>1.131</td>\n",
       "      <td>0.2664</td>\n",
       "      <td>5.729</td>\n",
       "      <td>9.508</td>\n",
       "    </tr>\n",
       "    <tr>\n",
       "      <th>27</th>\n",
       "      <td>1975</td>\n",
       "      <td>18.721001</td>\n",
       "      <td>1.247</td>\n",
       "      <td>0.2301</td>\n",
       "      <td>5.722</td>\n",
       "      <td>9.062</td>\n",
       "    </tr>\n",
       "    <tr>\n",
       "      <th>28</th>\n",
       "      <td>1976</td>\n",
       "      <td>19.250000</td>\n",
       "      <td>1.375</td>\n",
       "      <td>0.3452</td>\n",
       "      <td>5.762</td>\n",
       "      <td>8.262</td>\n",
       "    </tr>\n",
       "    <tr>\n",
       "      <th>29</th>\n",
       "      <td>1977</td>\n",
       "      <td>20.646999</td>\n",
       "      <td>1.544</td>\n",
       "      <td>0.4508</td>\n",
       "      <td>5.877</td>\n",
       "      <td>7.474</td>\n",
       "    </tr>\n",
       "    <tr>\n",
       "      <th>30</th>\n",
       "      <td>1978</td>\n",
       "      <td>22.726000</td>\n",
       "      <td>1.703</td>\n",
       "      <td>0.5877</td>\n",
       "      <td>6.108</td>\n",
       "      <td>7.104</td>\n",
       "    </tr>\n",
       "    <tr>\n",
       "      <th>31</th>\n",
       "      <td>1979</td>\n",
       "      <td>23.618999</td>\n",
       "      <td>1.779</td>\n",
       "      <td>0.5346</td>\n",
       "      <td>6.852</td>\n",
       "      <td>6.874</td>\n",
       "    </tr>\n",
       "  </tbody>\n",
       "</table>\n",
       "</div>"
      ],
      "text/plain": [
       "    year          y      w       r      l      k\n",
       "0   1948   1.214000  0.243  0.1454  1.415  0.612\n",
       "1   1949   1.354000  0.260  0.2181  1.384  0.559\n",
       "2   1950   1.569000  0.278  0.3157  1.388  0.573\n",
       "3   1951   1.948000  0.297  0.3940  1.550  0.564\n",
       "4   1952   2.265000  0.310  0.3559  1.802  0.574\n",
       "5   1953   2.731000  0.322  0.3593  1.926  0.711\n",
       "6   1954   3.025000  0.335  0.4025  1.964  0.776\n",
       "7   1955   3.562000  0.350  0.3961  2.116  0.827\n",
       "8   1956   3.979000  0.361  0.3822  2.435  0.800\n",
       "9   1957   4.420000  0.379  0.3045  2.707  0.921\n",
       "10  1958   4.563000  0.391  0.3284  2.706  1.067\n",
       "11  1959   5.385000  0.426  0.3856  2.846  1.083\n",
       "12  1960   5.554000  0.441  0.3193  3.089  1.481\n",
       "13  1961   5.465000  0.460  0.3079  3.122  1.736\n",
       "14  1962   5.825000  0.485  0.3783  3.184  1.926\n",
       "15  1963   6.876000  0.506  0.4180  3.263  2.041\n",
       "16  1964   7.823000  0.538  0.5163  3.412  1.997\n",
       "17  1965   9.120000  0.564  0.5879  3.623  2.257\n",
       "18  1966  10.512000  0.586  0.5369  4.074  2.742\n",
       "19  1967  13.020000  0.622  0.4443  4.710  3.564\n",
       "20  1968  15.261000  0.666  0.3052  5.217  4.767\n",
       "21  1969  16.313000  0.731  0.2332  5.569  6.511\n",
       "22  1970  16.002001  0.831  0.1883  5.495  7.627\n",
       "23  1971  15.876000  0.906  0.2023  5.334  8.673\n",
       "24  1972  16.662001  1.000  0.2506  5.345  8.331\n",
       "25  1973  17.014000  1.056  0.2668  5.662  8.557\n",
       "26  1974  19.305000  1.131  0.2664  5.729  9.508\n",
       "27  1975  18.721001  1.247  0.2301  5.722  9.062\n",
       "28  1976  19.250000  1.375  0.3452  5.762  8.262\n",
       "29  1977  20.646999  1.544  0.4508  5.877  7.474\n",
       "30  1978  22.726000  1.703  0.5877  6.108  7.104\n",
       "31  1979  23.618999  1.779  0.5346  6.852  6.874"
      ]
     },
     "execution_count": 44,
     "metadata": {},
     "output_type": "execute_result"
    }
   ],
   "source": [
    "s"
   ]
  },
  {
   "cell_type": "code",
   "execution_count": 45,
   "metadata": {},
   "outputs": [
    {
     "data": {
      "text/plain": [
       "<property at 0x26cdaa82548>"
      ]
     },
     "execution_count": 45,
     "metadata": {},
     "output_type": "execute_result"
    }
   ],
   "source": [
    "#pd.io.stata.StataReader.data_label\n",
    "#return data label of stata file\n",
    "\n",
    "pd.io.stata.StataReader.data_label"
   ]
  },
  {
   "cell_type": "markdown",
   "metadata": {},
   "source": [
    " "
   ]
  },
  {
   "cell_type": "code",
   "execution_count": 46,
   "metadata": {},
   "outputs": [],
   "source": [
    "t = pd.DataFrame({'A':{0:'KING',1:'QUEEN',2:'TARGAYREN'},'B':{0:'PRINCESS',1:'KNIGHT',2:'STARK'},'C':{0:'SOLDIER',1:'LOVE',2:'LANNISTER'}})"
   ]
  },
  {
   "cell_type": "code",
   "execution_count": 47,
   "metadata": {},
   "outputs": [
    {
     "data": {
      "text/html": [
       "<div>\n",
       "<style scoped>\n",
       "    .dataframe tbody tr th:only-of-type {\n",
       "        vertical-align: middle;\n",
       "    }\n",
       "\n",
       "    .dataframe tbody tr th {\n",
       "        vertical-align: top;\n",
       "    }\n",
       "\n",
       "    .dataframe thead th {\n",
       "        text-align: right;\n",
       "    }\n",
       "</style>\n",
       "<table border=\"1\" class=\"dataframe\">\n",
       "  <thead>\n",
       "    <tr style=\"text-align: right;\">\n",
       "      <th></th>\n",
       "      <th>A</th>\n",
       "      <th>B</th>\n",
       "      <th>C</th>\n",
       "    </tr>\n",
       "  </thead>\n",
       "  <tbody>\n",
       "    <tr>\n",
       "      <th>0</th>\n",
       "      <td>KING</td>\n",
       "      <td>PRINCESS</td>\n",
       "      <td>SOLDIER</td>\n",
       "    </tr>\n",
       "    <tr>\n",
       "      <th>1</th>\n",
       "      <td>QUEEN</td>\n",
       "      <td>KNIGHT</td>\n",
       "      <td>LOVE</td>\n",
       "    </tr>\n",
       "    <tr>\n",
       "      <th>2</th>\n",
       "      <td>TARGAYREN</td>\n",
       "      <td>STARK</td>\n",
       "      <td>LANNISTER</td>\n",
       "    </tr>\n",
       "  </tbody>\n",
       "</table>\n",
       "</div>"
      ],
      "text/plain": [
       "           A         B          C\n",
       "0       KING  PRINCESS    SOLDIER\n",
       "1      QUEEN    KNIGHT       LOVE\n",
       "2  TARGAYREN     STARK  LANNISTER"
      ]
     },
     "execution_count": 47,
     "metadata": {},
     "output_type": "execute_result"
    }
   ],
   "source": [
    "t"
   ]
  },
  {
   "cell_type": "markdown",
   "metadata": {},
   "source": [
    "## GENERAL FUNCTIONS"
   ]
  },
  {
   "cell_type": "code",
   "execution_count": 48,
   "metadata": {},
   "outputs": [
    {
     "data": {
      "text/html": [
       "<div>\n",
       "<style scoped>\n",
       "    .dataframe tbody tr th:only-of-type {\n",
       "        vertical-align: middle;\n",
       "    }\n",
       "\n",
       "    .dataframe tbody tr th {\n",
       "        vertical-align: top;\n",
       "    }\n",
       "\n",
       "    .dataframe thead th {\n",
       "        text-align: right;\n",
       "    }\n",
       "</style>\n",
       "<table border=\"1\" class=\"dataframe\">\n",
       "  <thead>\n",
       "    <tr style=\"text-align: right;\">\n",
       "      <th></th>\n",
       "      <th>variable</th>\n",
       "      <th>value</th>\n",
       "    </tr>\n",
       "  </thead>\n",
       "  <tbody>\n",
       "    <tr>\n",
       "      <th>0</th>\n",
       "      <td>A</td>\n",
       "      <td>KING</td>\n",
       "    </tr>\n",
       "    <tr>\n",
       "      <th>1</th>\n",
       "      <td>A</td>\n",
       "      <td>QUEEN</td>\n",
       "    </tr>\n",
       "    <tr>\n",
       "      <th>2</th>\n",
       "      <td>A</td>\n",
       "      <td>TARGAYREN</td>\n",
       "    </tr>\n",
       "    <tr>\n",
       "      <th>3</th>\n",
       "      <td>B</td>\n",
       "      <td>PRINCESS</td>\n",
       "    </tr>\n",
       "    <tr>\n",
       "      <th>4</th>\n",
       "      <td>B</td>\n",
       "      <td>KNIGHT</td>\n",
       "    </tr>\n",
       "    <tr>\n",
       "      <th>5</th>\n",
       "      <td>B</td>\n",
       "      <td>STARK</td>\n",
       "    </tr>\n",
       "    <tr>\n",
       "      <th>6</th>\n",
       "      <td>C</td>\n",
       "      <td>SOLDIER</td>\n",
       "    </tr>\n",
       "    <tr>\n",
       "      <th>7</th>\n",
       "      <td>C</td>\n",
       "      <td>LOVE</td>\n",
       "    </tr>\n",
       "    <tr>\n",
       "      <th>8</th>\n",
       "      <td>C</td>\n",
       "      <td>LANNISTER</td>\n",
       "    </tr>\n",
       "  </tbody>\n",
       "</table>\n",
       "</div>"
      ],
      "text/plain": [
       "  variable      value\n",
       "0        A       KING\n",
       "1        A      QUEEN\n",
       "2        A  TARGAYREN\n",
       "3        B   PRINCESS\n",
       "4        B     KNIGHT\n",
       "5        B      STARK\n",
       "6        C    SOLDIER\n",
       "7        C       LOVE\n",
       "8        C  LANNISTER"
      ]
     },
     "execution_count": 48,
     "metadata": {},
     "output_type": "execute_result"
    }
   ],
   "source": [
    "#pd.melt(dataframe,id_vars='columns to use as identifier variables',value_vars = 'columns to unpivot')\n",
    "#Unpivot a DataFrame from wide to long format,optionally leaving identifiers set\n",
    "t\n",
    "pd.melt(t)"
   ]
  },
  {
   "cell_type": "code",
   "execution_count": 49,
   "metadata": {},
   "outputs": [
    {
     "data": {
      "text/html": [
       "<div>\n",
       "<style scoped>\n",
       "    .dataframe tbody tr th:only-of-type {\n",
       "        vertical-align: middle;\n",
       "    }\n",
       "\n",
       "    .dataframe tbody tr th {\n",
       "        vertical-align: top;\n",
       "    }\n",
       "\n",
       "    .dataframe thead th {\n",
       "        text-align: right;\n",
       "    }\n",
       "</style>\n",
       "<table border=\"1\" class=\"dataframe\">\n",
       "  <thead>\n",
       "    <tr style=\"text-align: right;\">\n",
       "      <th></th>\n",
       "      <th>A</th>\n",
       "      <th>variable</th>\n",
       "      <th>value</th>\n",
       "    </tr>\n",
       "  </thead>\n",
       "  <tbody>\n",
       "    <tr>\n",
       "      <th>0</th>\n",
       "      <td>KING</td>\n",
       "      <td>B</td>\n",
       "      <td>PRINCESS</td>\n",
       "    </tr>\n",
       "    <tr>\n",
       "      <th>1</th>\n",
       "      <td>QUEEN</td>\n",
       "      <td>B</td>\n",
       "      <td>KNIGHT</td>\n",
       "    </tr>\n",
       "    <tr>\n",
       "      <th>2</th>\n",
       "      <td>TARGAYREN</td>\n",
       "      <td>B</td>\n",
       "      <td>STARK</td>\n",
       "    </tr>\n",
       "  </tbody>\n",
       "</table>\n",
       "</div>"
      ],
      "text/plain": [
       "           A variable     value\n",
       "0       KING        B  PRINCESS\n",
       "1      QUEEN        B    KNIGHT\n",
       "2  TARGAYREN        B     STARK"
      ]
     },
     "execution_count": 49,
     "metadata": {},
     "output_type": "execute_result"
    }
   ],
   "source": [
    "pd.melt(t,id_vars = 'A',value_vars = 'B')"
   ]
  },
  {
   "cell_type": "code",
   "execution_count": 50,
   "metadata": {},
   "outputs": [],
   "source": [
    "#pd.pivot(dataframe,index = column to use to make new frmae's index,columns = 'column to use to make new frames column's)\n",
    "#Return reshaped dataframe organized by given index/column values\n",
    "\n",
    "pd.pivot(t,index = 'C',columns = 'A')\n",
    "ul = pd.pivot(t,columns = 'A')"
   ]
  },
  {
   "cell_type": "code",
   "execution_count": 51,
   "metadata": {},
   "outputs": [
    {
     "data": {
      "text/html": [
       "<div>\n",
       "<style scoped>\n",
       "    .dataframe tbody tr th:only-of-type {\n",
       "        vertical-align: middle;\n",
       "    }\n",
       "\n",
       "    .dataframe tbody tr th {\n",
       "        vertical-align: top;\n",
       "    }\n",
       "\n",
       "    .dataframe thead tr th {\n",
       "        text-align: left;\n",
       "    }\n",
       "</style>\n",
       "<table border=\"1\" class=\"dataframe\">\n",
       "  <thead>\n",
       "    <tr>\n",
       "      <th></th>\n",
       "      <th colspan=\"3\" halign=\"left\">B</th>\n",
       "      <th colspan=\"3\" halign=\"left\">C</th>\n",
       "    </tr>\n",
       "    <tr>\n",
       "      <th>A</th>\n",
       "      <th>KING</th>\n",
       "      <th>QUEEN</th>\n",
       "      <th>TARGAYREN</th>\n",
       "      <th>KING</th>\n",
       "      <th>QUEEN</th>\n",
       "      <th>TARGAYREN</th>\n",
       "    </tr>\n",
       "  </thead>\n",
       "  <tbody>\n",
       "    <tr>\n",
       "      <th>0</th>\n",
       "      <td>PRINCESS</td>\n",
       "      <td>NaN</td>\n",
       "      <td>NaN</td>\n",
       "      <td>SOLDIER</td>\n",
       "      <td>NaN</td>\n",
       "      <td>NaN</td>\n",
       "    </tr>\n",
       "    <tr>\n",
       "      <th>1</th>\n",
       "      <td>NaN</td>\n",
       "      <td>KNIGHT</td>\n",
       "      <td>NaN</td>\n",
       "      <td>NaN</td>\n",
       "      <td>LOVE</td>\n",
       "      <td>NaN</td>\n",
       "    </tr>\n",
       "    <tr>\n",
       "      <th>2</th>\n",
       "      <td>NaN</td>\n",
       "      <td>NaN</td>\n",
       "      <td>STARK</td>\n",
       "      <td>NaN</td>\n",
       "      <td>NaN</td>\n",
       "      <td>LANNISTER</td>\n",
       "    </tr>\n",
       "  </tbody>\n",
       "</table>\n",
       "</div>"
      ],
      "text/plain": [
       "          B                          C                 \n",
       "A      KING   QUEEN TARGAYREN     KING QUEEN  TARGAYREN\n",
       "0  PRINCESS     NaN       NaN  SOLDIER   NaN        NaN\n",
       "1       NaN  KNIGHT       NaN      NaN  LOVE        NaN\n",
       "2       NaN     NaN     STARK      NaN   NaN  LANNISTER"
      ]
     },
     "execution_count": 51,
     "metadata": {},
     "output_type": "execute_result"
    }
   ],
   "source": [
    "ul"
   ]
  },
  {
   "cell_type": "code",
   "execution_count": 52,
   "metadata": {},
   "outputs": [],
   "source": [
    "#creating another dataframe for examle purpose"
   ]
  },
  {
   "cell_type": "code",
   "execution_count": 53,
   "metadata": {},
   "outputs": [
    {
     "data": {
      "text/html": [
       "<div>\n",
       "<style scoped>\n",
       "    .dataframe tbody tr th:only-of-type {\n",
       "        vertical-align: middle;\n",
       "    }\n",
       "\n",
       "    .dataframe tbody tr th {\n",
       "        vertical-align: top;\n",
       "    }\n",
       "\n",
       "    .dataframe thead th {\n",
       "        text-align: right;\n",
       "    }\n",
       "</style>\n",
       "<table border=\"1\" class=\"dataframe\">\n",
       "  <thead>\n",
       "    <tr style=\"text-align: right;\">\n",
       "      <th></th>\n",
       "      <th>A</th>\n",
       "      <th>B</th>\n",
       "      <th>C</th>\n",
       "      <th>D</th>\n",
       "      <th>E</th>\n",
       "    </tr>\n",
       "  </thead>\n",
       "  <tbody>\n",
       "    <tr>\n",
       "      <th>0</th>\n",
       "      <td>foo</td>\n",
       "      <td>one</td>\n",
       "      <td>small</td>\n",
       "      <td>1</td>\n",
       "      <td>2</td>\n",
       "    </tr>\n",
       "    <tr>\n",
       "      <th>1</th>\n",
       "      <td>foo</td>\n",
       "      <td>one</td>\n",
       "      <td>large</td>\n",
       "      <td>2</td>\n",
       "      <td>4</td>\n",
       "    </tr>\n",
       "    <tr>\n",
       "      <th>2</th>\n",
       "      <td>foo</td>\n",
       "      <td>one</td>\n",
       "      <td>large</td>\n",
       "      <td>2</td>\n",
       "      <td>5</td>\n",
       "    </tr>\n",
       "    <tr>\n",
       "      <th>3</th>\n",
       "      <td>foo</td>\n",
       "      <td>two</td>\n",
       "      <td>small</td>\n",
       "      <td>3</td>\n",
       "      <td>5</td>\n",
       "    </tr>\n",
       "    <tr>\n",
       "      <th>4</th>\n",
       "      <td>foo</td>\n",
       "      <td>two</td>\n",
       "      <td>small</td>\n",
       "      <td>3</td>\n",
       "      <td>6</td>\n",
       "    </tr>\n",
       "    <tr>\n",
       "      <th>5</th>\n",
       "      <td>bar</td>\n",
       "      <td>one</td>\n",
       "      <td>large</td>\n",
       "      <td>4</td>\n",
       "      <td>6</td>\n",
       "    </tr>\n",
       "    <tr>\n",
       "      <th>6</th>\n",
       "      <td>bar</td>\n",
       "      <td>one</td>\n",
       "      <td>small</td>\n",
       "      <td>5</td>\n",
       "      <td>8</td>\n",
       "    </tr>\n",
       "    <tr>\n",
       "      <th>7</th>\n",
       "      <td>bar</td>\n",
       "      <td>two</td>\n",
       "      <td>small</td>\n",
       "      <td>6</td>\n",
       "      <td>9</td>\n",
       "    </tr>\n",
       "    <tr>\n",
       "      <th>8</th>\n",
       "      <td>bar</td>\n",
       "      <td>two</td>\n",
       "      <td>large</td>\n",
       "      <td>7</td>\n",
       "      <td>9</td>\n",
       "    </tr>\n",
       "  </tbody>\n",
       "</table>\n",
       "</div>"
      ],
      "text/plain": [
       "     A    B      C  D  E\n",
       "0  foo  one  small  1  2\n",
       "1  foo  one  large  2  4\n",
       "2  foo  one  large  2  5\n",
       "3  foo  two  small  3  5\n",
       "4  foo  two  small  3  6\n",
       "5  bar  one  large  4  6\n",
       "6  bar  one  small  5  8\n",
       "7  bar  two  small  6  9\n",
       "8  bar  two  large  7  9"
      ]
     },
     "execution_count": 53,
     "metadata": {},
     "output_type": "execute_result"
    }
   ],
   "source": [
    "df = pd.DataFrame({\"A\": [\"foo\", \"foo\", \"foo\", \"foo\", \"foo\",\n",
    "                         \"bar\", \"bar\", \"bar\", \"bar\"],\n",
    "                   \"B\": [\"one\", \"one\", \"one\", \"two\", \"two\",\n",
    "                         \"one\", \"one\", \"two\", \"two\"],\n",
    "                   \"C\": [\"small\", \"large\", \"large\", \"small\",\n",
    "                         \"small\", \"large\", \"small\", \"small\",\n",
    "                         \"large\"],\n",
    "                   \"D\": [1, 2, 2, 3, 3, 4, 5, 6, 7],\n",
    "                   \"E\": [2, 4, 5, 5, 6, 6, 8, 9, 9]})\n",
    "df"
   ]
  },
  {
   "cell_type": "code",
   "execution_count": 54,
   "metadata": {},
   "outputs": [
    {
     "data": {
      "text/html": [
       "<div>\n",
       "<style scoped>\n",
       "    .dataframe tbody tr th:only-of-type {\n",
       "        vertical-align: middle;\n",
       "    }\n",
       "\n",
       "    .dataframe tbody tr th {\n",
       "        vertical-align: top;\n",
       "    }\n",
       "\n",
       "    .dataframe thead th {\n",
       "        text-align: right;\n",
       "    }\n",
       "</style>\n",
       "<table border=\"1\" class=\"dataframe\">\n",
       "  <thead>\n",
       "    <tr style=\"text-align: right;\">\n",
       "      <th></th>\n",
       "      <th>C</th>\n",
       "      <th>large</th>\n",
       "      <th>small</th>\n",
       "    </tr>\n",
       "    <tr>\n",
       "      <th>A</th>\n",
       "      <th>B</th>\n",
       "      <th></th>\n",
       "      <th></th>\n",
       "    </tr>\n",
       "  </thead>\n",
       "  <tbody>\n",
       "    <tr>\n",
       "      <th rowspan=\"2\" valign=\"top\">bar</th>\n",
       "      <th>one</th>\n",
       "      <td>4.0</td>\n",
       "      <td>5.0</td>\n",
       "    </tr>\n",
       "    <tr>\n",
       "      <th>two</th>\n",
       "      <td>7.0</td>\n",
       "      <td>6.0</td>\n",
       "    </tr>\n",
       "    <tr>\n",
       "      <th rowspan=\"2\" valign=\"top\">foo</th>\n",
       "      <th>one</th>\n",
       "      <td>4.0</td>\n",
       "      <td>1.0</td>\n",
       "    </tr>\n",
       "    <tr>\n",
       "      <th>two</th>\n",
       "      <td>NaN</td>\n",
       "      <td>6.0</td>\n",
       "    </tr>\n",
       "  </tbody>\n",
       "</table>\n",
       "</div>"
      ],
      "text/plain": [
       "C        large  small\n",
       "A   B                \n",
       "bar one    4.0    5.0\n",
       "    two    7.0    6.0\n",
       "foo one    4.0    1.0\n",
       "    two    NaN    6.0"
      ]
     },
     "execution_count": 54,
     "metadata": {},
     "output_type": "execute_result"
    }
   ],
   "source": [
    "#pd.pivot_table(dataframe,values = 'column to aggregate',index = 'columns to group by on index',aggfunc = 'function to be applied on aggregated values')\n",
    "#Create a srpeadsheet style pivot table as a DataFrame\n",
    "\n",
    "pd.pivot_table(df,values=\"D\",index = ['A','B'],columns = ['C'],aggfunc = np.sum)"
   ]
  },
  {
   "cell_type": "code",
   "execution_count": 55,
   "metadata": {},
   "outputs": [
    {
     "data": {
      "text/plain": [
       "[soldier, soldier, soldier, soldier, minister, minister, minister, king, king, king]\n",
       "Categories (3, object): [soldier < minister < king]"
      ]
     },
     "execution_count": 55,
     "metadata": {},
     "output_type": "execute_result"
    }
   ],
   "source": [
    "#pd.cut(array to be binned,bins,labels,index = if needed)\n",
    "#Segments and sorts datavalues into bins\n",
    "\n",
    "pd.cut([1,2,3,4,5,6,7,8,9,10],3,labels = ['soldier','minister','king'])"
   ]
  },
  {
   "cell_type": "code",
   "execution_count": 56,
   "metadata": {},
   "outputs": [
    {
     "data": {
      "text/plain": [
       "[good, good, good, bad, bad]\n",
       "Categories (2, object): [good < bad]"
      ]
     },
     "execution_count": 56,
     "metadata": {},
     "output_type": "execute_result"
    }
   ],
   "source": [
    "#pd.qcut(array or series,bins,labels)\n",
    "#Quantile based discretization function it discretize variable into equal sized buckets based on sample quantities\n",
    "\n",
    "pd.qcut([1,2,3,4,5],2,labels = ['good','bad'])"
   ]
  },
  {
   "cell_type": "code",
   "execution_count": 57,
   "metadata": {},
   "outputs": [],
   "source": [
    "a1 = pd.read_csv('C:/Users/H/Documents/Department_ID.csv')"
   ]
  },
  {
   "cell_type": "code",
   "execution_count": 58,
   "metadata": {},
   "outputs": [],
   "source": [
    "a2 = pd.read_csv('C:/Users/H/Documents/BioData.csv')"
   ]
  },
  {
   "cell_type": "code",
   "execution_count": 59,
   "metadata": {},
   "outputs": [
    {
     "data": {
      "text/html": [
       "<div>\n",
       "<style scoped>\n",
       "    .dataframe tbody tr th:only-of-type {\n",
       "        vertical-align: middle;\n",
       "    }\n",
       "\n",
       "    .dataframe tbody tr th {\n",
       "        vertical-align: top;\n",
       "    }\n",
       "\n",
       "    .dataframe thead th {\n",
       "        text-align: right;\n",
       "    }\n",
       "</style>\n",
       "<table border=\"1\" class=\"dataframe\">\n",
       "  <thead>\n",
       "    <tr style=\"text-align: right;\">\n",
       "      <th></th>\n",
       "      <th>ID</th>\n",
       "      <th>Department names</th>\n",
       "    </tr>\n",
       "  </thead>\n",
       "  <tbody>\n",
       "    <tr>\n",
       "      <th>0</th>\n",
       "      <td>1</td>\n",
       "      <td>IT</td>\n",
       "    </tr>\n",
       "    <tr>\n",
       "      <th>1</th>\n",
       "      <td>2</td>\n",
       "      <td>HR</td>\n",
       "    </tr>\n",
       "    <tr>\n",
       "      <th>2</th>\n",
       "      <td>3</td>\n",
       "      <td>Marketing</td>\n",
       "    </tr>\n",
       "    <tr>\n",
       "      <th>3</th>\n",
       "      <td>4</td>\n",
       "      <td>Finance</td>\n",
       "    </tr>\n",
       "    <tr>\n",
       "      <th>4</th>\n",
       "      <td>5</td>\n",
       "      <td>Sales</td>\n",
       "    </tr>\n",
       "  </tbody>\n",
       "</table>\n",
       "</div>"
      ],
      "text/plain": [
       "   ID Department names\n",
       "0   1               IT\n",
       "1   2               HR\n",
       "2   3        Marketing\n",
       "3   4          Finance\n",
       "4   5            Sales"
      ]
     },
     "execution_count": 59,
     "metadata": {},
     "output_type": "execute_result"
    }
   ],
   "source": [
    "a1"
   ]
  },
  {
   "cell_type": "code",
   "execution_count": 60,
   "metadata": {},
   "outputs": [
    {
     "data": {
      "text/html": [
       "<div>\n",
       "<style scoped>\n",
       "    .dataframe tbody tr th:only-of-type {\n",
       "        vertical-align: middle;\n",
       "    }\n",
       "\n",
       "    .dataframe tbody tr th {\n",
       "        vertical-align: top;\n",
       "    }\n",
       "\n",
       "    .dataframe thead th {\n",
       "        text-align: right;\n",
       "    }\n",
       "</style>\n",
       "<table border=\"1\" class=\"dataframe\">\n",
       "  <thead>\n",
       "    <tr style=\"text-align: right;\">\n",
       "      <th></th>\n",
       "      <th>ID</th>\n",
       "      <th>Name</th>\n",
       "      <th>Age</th>\n",
       "      <th>DateOfBirth</th>\n",
       "      <th>Department_ID</th>\n",
       "      <th>Email</th>\n",
       "      <th>Today</th>\n",
       "    </tr>\n",
       "  </thead>\n",
       "  <tbody>\n",
       "    <tr>\n",
       "      <th>0</th>\n",
       "      <td>1</td>\n",
       "      <td>Abhishek</td>\n",
       "      <td>23</td>\n",
       "      <td>5/1/1993</td>\n",
       "      <td>1</td>\n",
       "      <td>Abhishek@yahoo.com</td>\n",
       "      <td>7/28/2017</td>\n",
       "    </tr>\n",
       "    <tr>\n",
       "      <th>1</th>\n",
       "      <td>2</td>\n",
       "      <td>Charles</td>\n",
       "      <td>26</td>\n",
       "      <td>3/31/1990</td>\n",
       "      <td>2</td>\n",
       "      <td>Charles@yahoo.com</td>\n",
       "      <td>7/28/2017</td>\n",
       "    </tr>\n",
       "    <tr>\n",
       "      <th>2</th>\n",
       "      <td>3</td>\n",
       "      <td>Suraj</td>\n",
       "      <td>35</td>\n",
       "      <td>9/6/1981</td>\n",
       "      <td>3</td>\n",
       "      <td>Suraj@yahoo.com</td>\n",
       "      <td>7/28/2017</td>\n",
       "    </tr>\n",
       "    <tr>\n",
       "      <th>3</th>\n",
       "      <td>4</td>\n",
       "      <td>Ram</td>\n",
       "      <td>43</td>\n",
       "      <td>7/21/1973</td>\n",
       "      <td>1</td>\n",
       "      <td>Ram@yahoo.com</td>\n",
       "      <td>7/28/2017</td>\n",
       "    </tr>\n",
       "    <tr>\n",
       "      <th>4</th>\n",
       "      <td>5</td>\n",
       "      <td>Tony</td>\n",
       "      <td>25</td>\n",
       "      <td>4/4/1991</td>\n",
       "      <td>2</td>\n",
       "      <td>Tony@yahoo.com</td>\n",
       "      <td>7/28/2017</td>\n",
       "    </tr>\n",
       "    <tr>\n",
       "      <th>5</th>\n",
       "      <td>6</td>\n",
       "      <td>Rohit</td>\n",
       "      <td>31</td>\n",
       "      <td>8/25/1985</td>\n",
       "      <td>4</td>\n",
       "      <td>Rohit@yahoo.com</td>\n",
       "      <td>7/28/2017</td>\n",
       "    </tr>\n",
       "    <tr>\n",
       "      <th>6</th>\n",
       "      <td>7</td>\n",
       "      <td>Jacob</td>\n",
       "      <td>29</td>\n",
       "      <td>6/5/1987</td>\n",
       "      <td>1</td>\n",
       "      <td>Jacob@yahoo.com</td>\n",
       "      <td>7/28/2017</td>\n",
       "    </tr>\n",
       "    <tr>\n",
       "      <th>7</th>\n",
       "      <td>8</td>\n",
       "      <td>John</td>\n",
       "      <td>26</td>\n",
       "      <td>3/26/1990</td>\n",
       "      <td>2</td>\n",
       "      <td>John@yahoo.com</td>\n",
       "      <td>7/28/2017</td>\n",
       "    </tr>\n",
       "    <tr>\n",
       "      <th>8</th>\n",
       "      <td>9</td>\n",
       "      <td>Arun</td>\n",
       "      <td>30</td>\n",
       "      <td>2/10/1986</td>\n",
       "      <td>3</td>\n",
       "      <td>Arun@yahoo.com</td>\n",
       "      <td>7/28/2017</td>\n",
       "    </tr>\n",
       "    <tr>\n",
       "      <th>9</th>\n",
       "      <td>10</td>\n",
       "      <td>Akshay</td>\n",
       "      <td>34</td>\n",
       "      <td>1/12/1982</td>\n",
       "      <td>4</td>\n",
       "      <td>Akshay@yahoo.com</td>\n",
       "      <td>7/28/2017</td>\n",
       "    </tr>\n",
       "    <tr>\n",
       "      <th>10</th>\n",
       "      <td>11</td>\n",
       "      <td>Aniket</td>\n",
       "      <td>24</td>\n",
       "      <td>1/12/1999</td>\n",
       "      <td>10</td>\n",
       "      <td>Aniket@yahoo.com</td>\n",
       "      <td>7/28/2017</td>\n",
       "    </tr>\n",
       "  </tbody>\n",
       "</table>\n",
       "</div>"
      ],
      "text/plain": [
       "    ID      Name  Age DateOfBirth  Department_ID               Email  \\\n",
       "0    1  Abhishek   23    5/1/1993              1  Abhishek@yahoo.com   \n",
       "1    2   Charles   26   3/31/1990              2   Charles@yahoo.com   \n",
       "2    3     Suraj   35    9/6/1981              3     Suraj@yahoo.com   \n",
       "3    4       Ram   43   7/21/1973              1       Ram@yahoo.com   \n",
       "4    5      Tony   25    4/4/1991              2      Tony@yahoo.com   \n",
       "5    6     Rohit   31   8/25/1985              4     Rohit@yahoo.com   \n",
       "6    7     Jacob   29    6/5/1987              1     Jacob@yahoo.com   \n",
       "7    8      John   26   3/26/1990              2      John@yahoo.com   \n",
       "8    9      Arun   30   2/10/1986              3      Arun@yahoo.com   \n",
       "9   10    Akshay   34   1/12/1982              4    Akshay@yahoo.com   \n",
       "10  11    Aniket   24   1/12/1999             10    Aniket@yahoo.com   \n",
       "\n",
       "        Today  \n",
       "0   7/28/2017  \n",
       "1   7/28/2017  \n",
       "2   7/28/2017  \n",
       "3   7/28/2017  \n",
       "4   7/28/2017  \n",
       "5   7/28/2017  \n",
       "6   7/28/2017  \n",
       "7   7/28/2017  \n",
       "8   7/28/2017  \n",
       "9   7/28/2017  \n",
       "10  7/28/2017  "
      ]
     },
     "execution_count": 60,
     "metadata": {},
     "output_type": "execute_result"
    }
   ],
   "source": [
    "a2"
   ]
  },
  {
   "cell_type": "code",
   "execution_count": 61,
   "metadata": {},
   "outputs": [],
   "source": [
    "#a1,a2 has common row with name id so that all the people in the a2 has there dept_id in a1"
   ]
  },
  {
   "cell_type": "code",
   "execution_count": 62,
   "metadata": {},
   "outputs": [
    {
     "data": {
      "text/html": [
       "<div>\n",
       "<style scoped>\n",
       "    .dataframe tbody tr th:only-of-type {\n",
       "        vertical-align: middle;\n",
       "    }\n",
       "\n",
       "    .dataframe tbody tr th {\n",
       "        vertical-align: top;\n",
       "    }\n",
       "\n",
       "    .dataframe thead th {\n",
       "        text-align: right;\n",
       "    }\n",
       "</style>\n",
       "<table border=\"1\" class=\"dataframe\">\n",
       "  <thead>\n",
       "    <tr style=\"text-align: right;\">\n",
       "      <th></th>\n",
       "      <th>ID_x</th>\n",
       "      <th>Department names</th>\n",
       "      <th>ID_y</th>\n",
       "      <th>Name</th>\n",
       "      <th>Age</th>\n",
       "      <th>DateOfBirth</th>\n",
       "      <th>Department_ID</th>\n",
       "      <th>Email</th>\n",
       "      <th>Today</th>\n",
       "    </tr>\n",
       "  </thead>\n",
       "  <tbody>\n",
       "    <tr>\n",
       "      <th>0</th>\n",
       "      <td>1</td>\n",
       "      <td>IT</td>\n",
       "      <td>1</td>\n",
       "      <td>Abhishek</td>\n",
       "      <td>23</td>\n",
       "      <td>5/1/1993</td>\n",
       "      <td>1</td>\n",
       "      <td>Abhishek@yahoo.com</td>\n",
       "      <td>7/28/2017</td>\n",
       "    </tr>\n",
       "    <tr>\n",
       "      <th>1</th>\n",
       "      <td>1</td>\n",
       "      <td>IT</td>\n",
       "      <td>4</td>\n",
       "      <td>Ram</td>\n",
       "      <td>43</td>\n",
       "      <td>7/21/1973</td>\n",
       "      <td>1</td>\n",
       "      <td>Ram@yahoo.com</td>\n",
       "      <td>7/28/2017</td>\n",
       "    </tr>\n",
       "    <tr>\n",
       "      <th>2</th>\n",
       "      <td>1</td>\n",
       "      <td>IT</td>\n",
       "      <td>7</td>\n",
       "      <td>Jacob</td>\n",
       "      <td>29</td>\n",
       "      <td>6/5/1987</td>\n",
       "      <td>1</td>\n",
       "      <td>Jacob@yahoo.com</td>\n",
       "      <td>7/28/2017</td>\n",
       "    </tr>\n",
       "    <tr>\n",
       "      <th>3</th>\n",
       "      <td>2</td>\n",
       "      <td>HR</td>\n",
       "      <td>2</td>\n",
       "      <td>Charles</td>\n",
       "      <td>26</td>\n",
       "      <td>3/31/1990</td>\n",
       "      <td>2</td>\n",
       "      <td>Charles@yahoo.com</td>\n",
       "      <td>7/28/2017</td>\n",
       "    </tr>\n",
       "    <tr>\n",
       "      <th>4</th>\n",
       "      <td>2</td>\n",
       "      <td>HR</td>\n",
       "      <td>5</td>\n",
       "      <td>Tony</td>\n",
       "      <td>25</td>\n",
       "      <td>4/4/1991</td>\n",
       "      <td>2</td>\n",
       "      <td>Tony@yahoo.com</td>\n",
       "      <td>7/28/2017</td>\n",
       "    </tr>\n",
       "    <tr>\n",
       "      <th>5</th>\n",
       "      <td>2</td>\n",
       "      <td>HR</td>\n",
       "      <td>8</td>\n",
       "      <td>John</td>\n",
       "      <td>26</td>\n",
       "      <td>3/26/1990</td>\n",
       "      <td>2</td>\n",
       "      <td>John@yahoo.com</td>\n",
       "      <td>7/28/2017</td>\n",
       "    </tr>\n",
       "    <tr>\n",
       "      <th>6</th>\n",
       "      <td>3</td>\n",
       "      <td>Marketing</td>\n",
       "      <td>3</td>\n",
       "      <td>Suraj</td>\n",
       "      <td>35</td>\n",
       "      <td>9/6/1981</td>\n",
       "      <td>3</td>\n",
       "      <td>Suraj@yahoo.com</td>\n",
       "      <td>7/28/2017</td>\n",
       "    </tr>\n",
       "    <tr>\n",
       "      <th>7</th>\n",
       "      <td>3</td>\n",
       "      <td>Marketing</td>\n",
       "      <td>9</td>\n",
       "      <td>Arun</td>\n",
       "      <td>30</td>\n",
       "      <td>2/10/1986</td>\n",
       "      <td>3</td>\n",
       "      <td>Arun@yahoo.com</td>\n",
       "      <td>7/28/2017</td>\n",
       "    </tr>\n",
       "    <tr>\n",
       "      <th>8</th>\n",
       "      <td>4</td>\n",
       "      <td>Finance</td>\n",
       "      <td>6</td>\n",
       "      <td>Rohit</td>\n",
       "      <td>31</td>\n",
       "      <td>8/25/1985</td>\n",
       "      <td>4</td>\n",
       "      <td>Rohit@yahoo.com</td>\n",
       "      <td>7/28/2017</td>\n",
       "    </tr>\n",
       "    <tr>\n",
       "      <th>9</th>\n",
       "      <td>4</td>\n",
       "      <td>Finance</td>\n",
       "      <td>10</td>\n",
       "      <td>Akshay</td>\n",
       "      <td>34</td>\n",
       "      <td>1/12/1982</td>\n",
       "      <td>4</td>\n",
       "      <td>Akshay@yahoo.com</td>\n",
       "      <td>7/28/2017</td>\n",
       "    </tr>\n",
       "  </tbody>\n",
       "</table>\n",
       "</div>"
      ],
      "text/plain": [
       "   ID_x Department names  ID_y      Name  Age DateOfBirth  Department_ID  \\\n",
       "0     1               IT     1  Abhishek   23    5/1/1993              1   \n",
       "1     1               IT     4       Ram   43   7/21/1973              1   \n",
       "2     1               IT     7     Jacob   29    6/5/1987              1   \n",
       "3     2               HR     2   Charles   26   3/31/1990              2   \n",
       "4     2               HR     5      Tony   25    4/4/1991              2   \n",
       "5     2               HR     8      John   26   3/26/1990              2   \n",
       "6     3        Marketing     3     Suraj   35    9/6/1981              3   \n",
       "7     3        Marketing     9      Arun   30   2/10/1986              3   \n",
       "8     4          Finance     6     Rohit   31   8/25/1985              4   \n",
       "9     4          Finance    10    Akshay   34   1/12/1982              4   \n",
       "\n",
       "                Email      Today  \n",
       "0  Abhishek@yahoo.com  7/28/2017  \n",
       "1       Ram@yahoo.com  7/28/2017  \n",
       "2     Jacob@yahoo.com  7/28/2017  \n",
       "3   Charles@yahoo.com  7/28/2017  \n",
       "4      Tony@yahoo.com  7/28/2017  \n",
       "5      John@yahoo.com  7/28/2017  \n",
       "6     Suraj@yahoo.com  7/28/2017  \n",
       "7      Arun@yahoo.com  7/28/2017  \n",
       "8     Rohit@yahoo.com  7/28/2017  \n",
       "9    Akshay@yahoo.com  7/28/2017  "
      ]
     },
     "execution_count": 62,
     "metadata": {},
     "output_type": "execute_result"
    }
   ],
   "source": [
    "#pd.merge(dataframe1,dataframe2,how='join styles eg.inner,outer,left,right',left_on = 'column name in df1',right_on = 'colum name in df2')\n",
    "#Merge Data Fram or named series objects with a data base style join\n",
    "\n",
    "pd.merge(a1,a2,how = 'inner',left_on='ID',right_on = 'Department_ID')"
   ]
  },
  {
   "cell_type": "code",
   "execution_count": 63,
   "metadata": {},
   "outputs": [
    {
     "data": {
      "text/html": [
       "<div>\n",
       "<style scoped>\n",
       "    .dataframe tbody tr th:only-of-type {\n",
       "        vertical-align: middle;\n",
       "    }\n",
       "\n",
       "    .dataframe tbody tr th {\n",
       "        vertical-align: top;\n",
       "    }\n",
       "\n",
       "    .dataframe thead th {\n",
       "        text-align: right;\n",
       "    }\n",
       "</style>\n",
       "<table border=\"1\" class=\"dataframe\">\n",
       "  <thead>\n",
       "    <tr style=\"text-align: right;\">\n",
       "      <th></th>\n",
       "      <th>ID_x</th>\n",
       "      <th>Department names</th>\n",
       "      <th>ID_y</th>\n",
       "      <th>Name</th>\n",
       "      <th>Age</th>\n",
       "      <th>DateOfBirth</th>\n",
       "      <th>Department_ID</th>\n",
       "      <th>Email</th>\n",
       "      <th>Today</th>\n",
       "    </tr>\n",
       "  </thead>\n",
       "  <tbody>\n",
       "    <tr>\n",
       "      <th>0</th>\n",
       "      <td>1.0</td>\n",
       "      <td>IT</td>\n",
       "      <td>1.0</td>\n",
       "      <td>Abhishek</td>\n",
       "      <td>23.0</td>\n",
       "      <td>5/1/1993</td>\n",
       "      <td>1.0</td>\n",
       "      <td>Abhishek@yahoo.com</td>\n",
       "      <td>7/28/2017</td>\n",
       "    </tr>\n",
       "    <tr>\n",
       "      <th>1</th>\n",
       "      <td>1.0</td>\n",
       "      <td>IT</td>\n",
       "      <td>4.0</td>\n",
       "      <td>Ram</td>\n",
       "      <td>43.0</td>\n",
       "      <td>7/21/1973</td>\n",
       "      <td>1.0</td>\n",
       "      <td>Ram@yahoo.com</td>\n",
       "      <td>7/28/2017</td>\n",
       "    </tr>\n",
       "    <tr>\n",
       "      <th>2</th>\n",
       "      <td>1.0</td>\n",
       "      <td>IT</td>\n",
       "      <td>7.0</td>\n",
       "      <td>Jacob</td>\n",
       "      <td>29.0</td>\n",
       "      <td>6/5/1987</td>\n",
       "      <td>1.0</td>\n",
       "      <td>Jacob@yahoo.com</td>\n",
       "      <td>7/28/2017</td>\n",
       "    </tr>\n",
       "    <tr>\n",
       "      <th>3</th>\n",
       "      <td>2.0</td>\n",
       "      <td>HR</td>\n",
       "      <td>2.0</td>\n",
       "      <td>Charles</td>\n",
       "      <td>26.0</td>\n",
       "      <td>3/31/1990</td>\n",
       "      <td>2.0</td>\n",
       "      <td>Charles@yahoo.com</td>\n",
       "      <td>7/28/2017</td>\n",
       "    </tr>\n",
       "    <tr>\n",
       "      <th>4</th>\n",
       "      <td>2.0</td>\n",
       "      <td>HR</td>\n",
       "      <td>5.0</td>\n",
       "      <td>Tony</td>\n",
       "      <td>25.0</td>\n",
       "      <td>4/4/1991</td>\n",
       "      <td>2.0</td>\n",
       "      <td>Tony@yahoo.com</td>\n",
       "      <td>7/28/2017</td>\n",
       "    </tr>\n",
       "    <tr>\n",
       "      <th>5</th>\n",
       "      <td>2.0</td>\n",
       "      <td>HR</td>\n",
       "      <td>8.0</td>\n",
       "      <td>John</td>\n",
       "      <td>26.0</td>\n",
       "      <td>3/26/1990</td>\n",
       "      <td>2.0</td>\n",
       "      <td>John@yahoo.com</td>\n",
       "      <td>7/28/2017</td>\n",
       "    </tr>\n",
       "    <tr>\n",
       "      <th>6</th>\n",
       "      <td>3.0</td>\n",
       "      <td>Marketing</td>\n",
       "      <td>3.0</td>\n",
       "      <td>Suraj</td>\n",
       "      <td>35.0</td>\n",
       "      <td>9/6/1981</td>\n",
       "      <td>3.0</td>\n",
       "      <td>Suraj@yahoo.com</td>\n",
       "      <td>7/28/2017</td>\n",
       "    </tr>\n",
       "    <tr>\n",
       "      <th>7</th>\n",
       "      <td>3.0</td>\n",
       "      <td>Marketing</td>\n",
       "      <td>9.0</td>\n",
       "      <td>Arun</td>\n",
       "      <td>30.0</td>\n",
       "      <td>2/10/1986</td>\n",
       "      <td>3.0</td>\n",
       "      <td>Arun@yahoo.com</td>\n",
       "      <td>7/28/2017</td>\n",
       "    </tr>\n",
       "    <tr>\n",
       "      <th>8</th>\n",
       "      <td>4.0</td>\n",
       "      <td>Finance</td>\n",
       "      <td>6.0</td>\n",
       "      <td>Rohit</td>\n",
       "      <td>31.0</td>\n",
       "      <td>8/25/1985</td>\n",
       "      <td>4.0</td>\n",
       "      <td>Rohit@yahoo.com</td>\n",
       "      <td>7/28/2017</td>\n",
       "    </tr>\n",
       "    <tr>\n",
       "      <th>9</th>\n",
       "      <td>4.0</td>\n",
       "      <td>Finance</td>\n",
       "      <td>10.0</td>\n",
       "      <td>Akshay</td>\n",
       "      <td>34.0</td>\n",
       "      <td>1/12/1982</td>\n",
       "      <td>4.0</td>\n",
       "      <td>Akshay@yahoo.com</td>\n",
       "      <td>7/28/2017</td>\n",
       "    </tr>\n",
       "    <tr>\n",
       "      <th>10</th>\n",
       "      <td>5.0</td>\n",
       "      <td>Sales</td>\n",
       "      <td>NaN</td>\n",
       "      <td>NaN</td>\n",
       "      <td>NaN</td>\n",
       "      <td>NaN</td>\n",
       "      <td>NaN</td>\n",
       "      <td>NaN</td>\n",
       "      <td>NaN</td>\n",
       "    </tr>\n",
       "    <tr>\n",
       "      <th>11</th>\n",
       "      <td>NaN</td>\n",
       "      <td>NaN</td>\n",
       "      <td>11.0</td>\n",
       "      <td>Aniket</td>\n",
       "      <td>24.0</td>\n",
       "      <td>1/12/1999</td>\n",
       "      <td>10.0</td>\n",
       "      <td>Aniket@yahoo.com</td>\n",
       "      <td>7/28/2017</td>\n",
       "    </tr>\n",
       "  </tbody>\n",
       "</table>\n",
       "</div>"
      ],
      "text/plain": [
       "    ID_x Department names  ID_y      Name   Age DateOfBirth  Department_ID  \\\n",
       "0    1.0               IT   1.0  Abhishek  23.0    5/1/1993            1.0   \n",
       "1    1.0               IT   4.0       Ram  43.0   7/21/1973            1.0   \n",
       "2    1.0               IT   7.0     Jacob  29.0    6/5/1987            1.0   \n",
       "3    2.0               HR   2.0   Charles  26.0   3/31/1990            2.0   \n",
       "4    2.0               HR   5.0      Tony  25.0    4/4/1991            2.0   \n",
       "5    2.0               HR   8.0      John  26.0   3/26/1990            2.0   \n",
       "6    3.0        Marketing   3.0     Suraj  35.0    9/6/1981            3.0   \n",
       "7    3.0        Marketing   9.0      Arun  30.0   2/10/1986            3.0   \n",
       "8    4.0          Finance   6.0     Rohit  31.0   8/25/1985            4.0   \n",
       "9    4.0          Finance  10.0    Akshay  34.0   1/12/1982            4.0   \n",
       "10   5.0            Sales   NaN       NaN   NaN         NaN            NaN   \n",
       "11   NaN              NaN  11.0    Aniket  24.0   1/12/1999           10.0   \n",
       "\n",
       "                 Email      Today  \n",
       "0   Abhishek@yahoo.com  7/28/2017  \n",
       "1        Ram@yahoo.com  7/28/2017  \n",
       "2      Jacob@yahoo.com  7/28/2017  \n",
       "3    Charles@yahoo.com  7/28/2017  \n",
       "4       Tony@yahoo.com  7/28/2017  \n",
       "5       John@yahoo.com  7/28/2017  \n",
       "6      Suraj@yahoo.com  7/28/2017  \n",
       "7       Arun@yahoo.com  7/28/2017  \n",
       "8      Rohit@yahoo.com  7/28/2017  \n",
       "9     Akshay@yahoo.com  7/28/2017  \n",
       "10                 NaN        NaN  \n",
       "11    Aniket@yahoo.com  7/28/2017  "
      ]
     },
     "execution_count": 63,
     "metadata": {},
     "output_type": "execute_result"
    }
   ],
   "source": [
    "#pd.merge_ordered(left,right,on='fieldnames to join - should be in both data frames',left_on = 'fieldnames to join from left',right_on = 'fieldnames to join from right')\n",
    "#Perform merge with optional filling/interpolation mainly designed for ordered data like time series data\n",
    "\n",
    "ds = pd.merge_ordered(a1,a2,left_on='ID',right_on = 'Department_ID')\n",
    "ds"
   ]
  },
  {
   "cell_type": "code",
   "execution_count": 64,
   "metadata": {},
   "outputs": [],
   "source": [
    "df1 = pd.DataFrame([['a',1],['b',2]],columns = ['letter','number'])"
   ]
  },
  {
   "cell_type": "code",
   "execution_count": 65,
   "metadata": {},
   "outputs": [],
   "source": [
    "df2 = pd.DataFrame([['c',3],['d',4]],columns = ['letter','number'])"
   ]
  },
  {
   "cell_type": "code",
   "execution_count": 66,
   "metadata": {},
   "outputs": [
    {
     "data": {
      "text/html": [
       "<div>\n",
       "<style scoped>\n",
       "    .dataframe tbody tr th:only-of-type {\n",
       "        vertical-align: middle;\n",
       "    }\n",
       "\n",
       "    .dataframe tbody tr th {\n",
       "        vertical-align: top;\n",
       "    }\n",
       "\n",
       "    .dataframe thead th {\n",
       "        text-align: right;\n",
       "    }\n",
       "</style>\n",
       "<table border=\"1\" class=\"dataframe\">\n",
       "  <thead>\n",
       "    <tr style=\"text-align: right;\">\n",
       "      <th></th>\n",
       "      <th>letter</th>\n",
       "      <th>number</th>\n",
       "    </tr>\n",
       "  </thead>\n",
       "  <tbody>\n",
       "    <tr>\n",
       "      <th>0</th>\n",
       "      <td>a</td>\n",
       "      <td>1</td>\n",
       "    </tr>\n",
       "    <tr>\n",
       "      <th>1</th>\n",
       "      <td>b</td>\n",
       "      <td>2</td>\n",
       "    </tr>\n",
       "    <tr>\n",
       "      <th>0</th>\n",
       "      <td>c</td>\n",
       "      <td>3</td>\n",
       "    </tr>\n",
       "    <tr>\n",
       "      <th>1</th>\n",
       "      <td>d</td>\n",
       "      <td>4</td>\n",
       "    </tr>\n",
       "  </tbody>\n",
       "</table>\n",
       "</div>"
      ],
      "text/plain": [
       "  letter  number\n",
       "0      a       1\n",
       "1      b       2\n",
       "0      c       3\n",
       "1      d       4"
      ]
     },
     "execution_count": 66,
     "metadata": {},
     "output_type": "execute_result"
    }
   ],
   "source": [
    "#pd.concat(dataframe1,dataframe2)\n",
    "#Concatenate pandas objects along a particular axis with optional set logic along the other axes\n",
    "\n",
    "pd.concat([df1,df2])"
   ]
  },
  {
   "cell_type": "code",
   "execution_count": 67,
   "metadata": {},
   "outputs": [],
   "source": [
    "df = pd.DataFrame({'key':list('abcabcbc'),'val':np.random.randn(8)})"
   ]
  },
  {
   "cell_type": "code",
   "execution_count": 68,
   "metadata": {},
   "outputs": [
    {
     "data": {
      "text/html": [
       "<div>\n",
       "<style scoped>\n",
       "    .dataframe tbody tr th:only-of-type {\n",
       "        vertical-align: middle;\n",
       "    }\n",
       "\n",
       "    .dataframe tbody tr th {\n",
       "        vertical-align: top;\n",
       "    }\n",
       "\n",
       "    .dataframe thead th {\n",
       "        text-align: right;\n",
       "    }\n",
       "</style>\n",
       "<table border=\"1\" class=\"dataframe\">\n",
       "  <thead>\n",
       "    <tr style=\"text-align: right;\">\n",
       "      <th></th>\n",
       "      <th>KING_a</th>\n",
       "      <th>KING_b</th>\n",
       "      <th>KING_c</th>\n",
       "    </tr>\n",
       "  </thead>\n",
       "  <tbody>\n",
       "    <tr>\n",
       "      <th>0</th>\n",
       "      <td>1</td>\n",
       "      <td>0</td>\n",
       "      <td>0</td>\n",
       "    </tr>\n",
       "    <tr>\n",
       "      <th>1</th>\n",
       "      <td>0</td>\n",
       "      <td>1</td>\n",
       "      <td>0</td>\n",
       "    </tr>\n",
       "    <tr>\n",
       "      <th>2</th>\n",
       "      <td>0</td>\n",
       "      <td>0</td>\n",
       "      <td>1</td>\n",
       "    </tr>\n",
       "    <tr>\n",
       "      <th>3</th>\n",
       "      <td>1</td>\n",
       "      <td>0</td>\n",
       "      <td>0</td>\n",
       "    </tr>\n",
       "    <tr>\n",
       "      <th>4</th>\n",
       "      <td>0</td>\n",
       "      <td>1</td>\n",
       "      <td>0</td>\n",
       "    </tr>\n",
       "    <tr>\n",
       "      <th>5</th>\n",
       "      <td>0</td>\n",
       "      <td>0</td>\n",
       "      <td>1</td>\n",
       "    </tr>\n",
       "    <tr>\n",
       "      <th>6</th>\n",
       "      <td>0</td>\n",
       "      <td>1</td>\n",
       "      <td>0</td>\n",
       "    </tr>\n",
       "    <tr>\n",
       "      <th>7</th>\n",
       "      <td>0</td>\n",
       "      <td>0</td>\n",
       "      <td>1</td>\n",
       "    </tr>\n",
       "  </tbody>\n",
       "</table>\n",
       "</div>"
      ],
      "text/plain": [
       "   KING_a  KING_b  KING_c\n",
       "0       1       0       0\n",
       "1       0       1       0\n",
       "2       0       0       1\n",
       "3       1       0       0\n",
       "4       0       1       0\n",
       "5       0       0       1\n",
       "6       0       1       0\n",
       "7       0       0       1"
      ]
     },
     "execution_count": 68,
     "metadata": {},
     "output_type": "execute_result"
    }
   ],
   "source": [
    "#pd.get_dummies(dataframe/array/series , prefix = 'str')\n",
    "#Convert categorical variable into dummy/indicator variable\n",
    "\n",
    "pd.get_dummies(df['key'],prefix = 'KING')"
   ]
  },
  {
   "cell_type": "code",
   "execution_count": 69,
   "metadata": {},
   "outputs": [],
   "source": [
    "#pd.factorize(values/sequence)\n",
    "#Encode the object as an enumerated type or categorical variable\n",
    "\n",
    "sh , hs = pd.factorize([2,2,3,4,2])"
   ]
  },
  {
   "cell_type": "code",
   "execution_count": 70,
   "metadata": {},
   "outputs": [
    {
     "data": {
      "text/plain": [
       "array([0, 0, 1, 2, 0], dtype=int64)"
      ]
     },
     "execution_count": 70,
     "metadata": {},
     "output_type": "execute_result"
    }
   ],
   "source": [
    "sh"
   ]
  },
  {
   "cell_type": "code",
   "execution_count": 71,
   "metadata": {},
   "outputs": [
    {
     "data": {
      "text/plain": [
       "array([2, 3, 4], dtype=int64)"
      ]
     },
     "execution_count": 71,
     "metadata": {},
     "output_type": "execute_result"
    }
   ],
   "source": [
    "hs"
   ]
  },
  {
   "cell_type": "code",
   "execution_count": 72,
   "metadata": {},
   "outputs": [
    {
     "data": {
      "text/plain": [
       "array([1, 2, 3])"
      ]
     },
     "execution_count": 72,
     "metadata": {},
     "output_type": "execute_result"
    }
   ],
   "source": [
    "#pd.unique(values)\n",
    "#Hash table based unique and are returned in teh order of appearence and not sorted\n",
    "pd.unique([1,2,2,2,3,2,1,3,3,1,3,1,1])"
   ]
  },
  {
   "cell_type": "code",
   "execution_count": 73,
   "metadata": {},
   "outputs": [],
   "source": [
    "df = pd.DataFrame({'dany':[1,1,2,2,2,1,1,3,3,3],'sam':[1,2,3,1,2,1,2,3,1,3],'john':list(np.random.randn(10)),'nani':list(np.random.randn(10))})"
   ]
  },
  {
   "cell_type": "code",
   "execution_count": 74,
   "metadata": {},
   "outputs": [
    {
     "data": {
      "text/html": [
       "<div>\n",
       "<style scoped>\n",
       "    .dataframe tbody tr th:only-of-type {\n",
       "        vertical-align: middle;\n",
       "    }\n",
       "\n",
       "    .dataframe tbody tr th {\n",
       "        vertical-align: top;\n",
       "    }\n",
       "\n",
       "    .dataframe thead th {\n",
       "        text-align: right;\n",
       "    }\n",
       "</style>\n",
       "<table border=\"1\" class=\"dataframe\">\n",
       "  <thead>\n",
       "    <tr style=\"text-align: right;\">\n",
       "      <th></th>\n",
       "      <th>dany</th>\n",
       "      <th>sam</th>\n",
       "      <th>john</th>\n",
       "      <th>nani</th>\n",
       "    </tr>\n",
       "  </thead>\n",
       "  <tbody>\n",
       "    <tr>\n",
       "      <th>0</th>\n",
       "      <td>1</td>\n",
       "      <td>1</td>\n",
       "      <td>-1.035213</td>\n",
       "      <td>0.930668</td>\n",
       "    </tr>\n",
       "    <tr>\n",
       "      <th>1</th>\n",
       "      <td>1</td>\n",
       "      <td>2</td>\n",
       "      <td>0.344351</td>\n",
       "      <td>1.980282</td>\n",
       "    </tr>\n",
       "    <tr>\n",
       "      <th>2</th>\n",
       "      <td>2</td>\n",
       "      <td>3</td>\n",
       "      <td>-1.461500</td>\n",
       "      <td>0.556100</td>\n",
       "    </tr>\n",
       "    <tr>\n",
       "      <th>3</th>\n",
       "      <td>2</td>\n",
       "      <td>1</td>\n",
       "      <td>-0.431149</td>\n",
       "      <td>0.872028</td>\n",
       "    </tr>\n",
       "    <tr>\n",
       "      <th>4</th>\n",
       "      <td>2</td>\n",
       "      <td>2</td>\n",
       "      <td>-2.039969</td>\n",
       "      <td>1.806519</td>\n",
       "    </tr>\n",
       "    <tr>\n",
       "      <th>5</th>\n",
       "      <td>1</td>\n",
       "      <td>1</td>\n",
       "      <td>0.248629</td>\n",
       "      <td>-0.496375</td>\n",
       "    </tr>\n",
       "    <tr>\n",
       "      <th>6</th>\n",
       "      <td>1</td>\n",
       "      <td>2</td>\n",
       "      <td>-0.417725</td>\n",
       "      <td>0.127818</td>\n",
       "    </tr>\n",
       "    <tr>\n",
       "      <th>7</th>\n",
       "      <td>3</td>\n",
       "      <td>3</td>\n",
       "      <td>0.420338</td>\n",
       "      <td>0.631970</td>\n",
       "    </tr>\n",
       "    <tr>\n",
       "      <th>8</th>\n",
       "      <td>3</td>\n",
       "      <td>1</td>\n",
       "      <td>-1.986819</td>\n",
       "      <td>2.089754</td>\n",
       "    </tr>\n",
       "    <tr>\n",
       "      <th>9</th>\n",
       "      <td>3</td>\n",
       "      <td>3</td>\n",
       "      <td>-2.751374</td>\n",
       "      <td>-1.544449</td>\n",
       "    </tr>\n",
       "  </tbody>\n",
       "</table>\n",
       "</div>"
      ],
      "text/plain": [
       "   dany  sam      john      nani\n",
       "0     1    1 -1.035213  0.930668\n",
       "1     1    2  0.344351  1.980282\n",
       "2     2    3 -1.461500  0.556100\n",
       "3     2    1 -0.431149  0.872028\n",
       "4     2    2 -2.039969  1.806519\n",
       "5     1    1  0.248629 -0.496375\n",
       "6     1    2 -0.417725  0.127818\n",
       "7     3    3  0.420338  0.631970\n",
       "8     3    1 -1.986819  2.089754\n",
       "9     3    3 -2.751374 -1.544449"
      ]
     },
     "execution_count": 74,
     "metadata": {},
     "output_type": "execute_result"
    }
   ],
   "source": [
    "df"
   ]
  },
  {
   "cell_type": "code",
   "execution_count": 75,
   "metadata": {
    "scrolled": true
   },
   "outputs": [
    {
     "data": {
      "text/html": [
       "<div>\n",
       "<style scoped>\n",
       "    .dataframe tbody tr th:only-of-type {\n",
       "        vertical-align: middle;\n",
       "    }\n",
       "\n",
       "    .dataframe tbody tr th {\n",
       "        vertical-align: top;\n",
       "    }\n",
       "\n",
       "    .dataframe thead th {\n",
       "        text-align: right;\n",
       "    }\n",
       "</style>\n",
       "<table border=\"1\" class=\"dataframe\">\n",
       "  <thead>\n",
       "    <tr style=\"text-align: right;\">\n",
       "      <th></th>\n",
       "      <th></th>\n",
       "      <th></th>\n",
       "      <th>john</th>\n",
       "      <th>sam</th>\n",
       "      <th>d</th>\n",
       "    </tr>\n",
       "    <tr>\n",
       "      <th>dany</th>\n",
       "      <th>nani</th>\n",
       "      <th>valour</th>\n",
       "      <th></th>\n",
       "      <th></th>\n",
       "      <th></th>\n",
       "    </tr>\n",
       "  </thead>\n",
       "  <tbody>\n",
       "  </tbody>\n",
       "</table>\n",
       "</div>"
      ],
      "text/plain": [
       "Empty DataFrame\n",
       "Columns: [john, sam, d]\n",
       "Index: []"
      ]
     },
     "execution_count": 75,
     "metadata": {},
     "output_type": "execute_result"
    }
   ],
   "source": [
    "#pd.wide_to_long(dataframe,stubnames = 'str', i = 'columns to use as id variables',j = 'name as sub-onservation variable')\n",
    "#Wide panel to long format.lessflexible but more feasible to melt\n",
    "\n",
    "pd.wide_to_long(df,stubnames = 'd',i = ['dany','nani'], j='valour')"
   ]
  },
  {
   "cell_type": "code",
   "execution_count": 76,
   "metadata": {},
   "outputs": [
    {
     "data": {
      "text/html": [
       "<div>\n",
       "<style scoped>\n",
       "    .dataframe tbody tr th:only-of-type {\n",
       "        vertical-align: middle;\n",
       "    }\n",
       "\n",
       "    .dataframe tbody tr th {\n",
       "        vertical-align: top;\n",
       "    }\n",
       "\n",
       "    .dataframe thead tr th {\n",
       "        text-align: left;\n",
       "    }\n",
       "</style>\n",
       "<table border=\"1\" class=\"dataframe\">\n",
       "  <thead>\n",
       "    <tr>\n",
       "      <th></th>\n",
       "      <th colspan=\"3\" halign=\"left\">B</th>\n",
       "      <th colspan=\"3\" halign=\"left\">C</th>\n",
       "    </tr>\n",
       "    <tr>\n",
       "      <th>A</th>\n",
       "      <th>KING</th>\n",
       "      <th>QUEEN</th>\n",
       "      <th>TARGAYREN</th>\n",
       "      <th>KING</th>\n",
       "      <th>QUEEN</th>\n",
       "      <th>TARGAYREN</th>\n",
       "    </tr>\n",
       "  </thead>\n",
       "  <tbody>\n",
       "    <tr>\n",
       "      <th>0</th>\n",
       "      <td>False</td>\n",
       "      <td>True</td>\n",
       "      <td>True</td>\n",
       "      <td>False</td>\n",
       "      <td>True</td>\n",
       "      <td>True</td>\n",
       "    </tr>\n",
       "    <tr>\n",
       "      <th>1</th>\n",
       "      <td>True</td>\n",
       "      <td>False</td>\n",
       "      <td>True</td>\n",
       "      <td>True</td>\n",
       "      <td>False</td>\n",
       "      <td>True</td>\n",
       "    </tr>\n",
       "    <tr>\n",
       "      <th>2</th>\n",
       "      <td>True</td>\n",
       "      <td>True</td>\n",
       "      <td>False</td>\n",
       "      <td>True</td>\n",
       "      <td>True</td>\n",
       "      <td>False</td>\n",
       "    </tr>\n",
       "  </tbody>\n",
       "</table>\n",
       "</div>"
      ],
      "text/plain": [
       "       B                       C                 \n",
       "A   KING  QUEEN TARGAYREN   KING  QUEEN TARGAYREN\n",
       "0  False   True      True  False   True      True\n",
       "1   True  False      True   True  False      True\n",
       "2   True   True     False   True   True     False"
      ]
     },
     "execution_count": 76,
     "metadata": {},
     "output_type": "execute_result"
    }
   ],
   "source": [
    "#pd.isna(dataframe)/pd.isnull(dataframe)\n",
    "#Detect missing values for an array like object and returns true for none and false for remaining\n",
    "\n",
    "pd.isna(ul)"
   ]
  },
  {
   "cell_type": "code",
   "execution_count": 77,
   "metadata": {},
   "outputs": [
    {
     "data": {
      "text/html": [
       "<div>\n",
       "<style scoped>\n",
       "    .dataframe tbody tr th:only-of-type {\n",
       "        vertical-align: middle;\n",
       "    }\n",
       "\n",
       "    .dataframe tbody tr th {\n",
       "        vertical-align: top;\n",
       "    }\n",
       "\n",
       "    .dataframe thead tr th {\n",
       "        text-align: left;\n",
       "    }\n",
       "</style>\n",
       "<table border=\"1\" class=\"dataframe\">\n",
       "  <thead>\n",
       "    <tr>\n",
       "      <th></th>\n",
       "      <th colspan=\"3\" halign=\"left\">B</th>\n",
       "      <th colspan=\"3\" halign=\"left\">C</th>\n",
       "    </tr>\n",
       "    <tr>\n",
       "      <th>A</th>\n",
       "      <th>KING</th>\n",
       "      <th>QUEEN</th>\n",
       "      <th>TARGAYREN</th>\n",
       "      <th>KING</th>\n",
       "      <th>QUEEN</th>\n",
       "      <th>TARGAYREN</th>\n",
       "    </tr>\n",
       "  </thead>\n",
       "  <tbody>\n",
       "    <tr>\n",
       "      <th>0</th>\n",
       "      <td>True</td>\n",
       "      <td>False</td>\n",
       "      <td>False</td>\n",
       "      <td>True</td>\n",
       "      <td>False</td>\n",
       "      <td>False</td>\n",
       "    </tr>\n",
       "    <tr>\n",
       "      <th>1</th>\n",
       "      <td>False</td>\n",
       "      <td>True</td>\n",
       "      <td>False</td>\n",
       "      <td>False</td>\n",
       "      <td>True</td>\n",
       "      <td>False</td>\n",
       "    </tr>\n",
       "    <tr>\n",
       "      <th>2</th>\n",
       "      <td>False</td>\n",
       "      <td>False</td>\n",
       "      <td>True</td>\n",
       "      <td>False</td>\n",
       "      <td>False</td>\n",
       "      <td>True</td>\n",
       "    </tr>\n",
       "  </tbody>\n",
       "</table>\n",
       "</div>"
      ],
      "text/plain": [
       "       B                       C                 \n",
       "A   KING  QUEEN TARGAYREN   KING  QUEEN TARGAYREN\n",
       "0   True  False     False   True  False     False\n",
       "1  False   True     False  False   True     False\n",
       "2  False  False      True  False  False      True"
      ]
     },
     "execution_count": 77,
     "metadata": {},
     "output_type": "execute_result"
    }
   ],
   "source": [
    "#pd.notna(dataframe)/pd.notnull(dataframe)\n",
    "#Detect non-missing values for an array like object (just opposite to pd.isna())\n",
    "\n",
    "pd.notna(ul)"
   ]
  },
  {
   "cell_type": "code",
   "execution_count": 78,
   "metadata": {},
   "outputs": [],
   "source": [
    "sd = pd.read_excel('C:/Users/H/Downloads/d.xlsx')"
   ]
  },
  {
   "cell_type": "code",
   "execution_count": 79,
   "metadata": {},
   "outputs": [
    {
     "data": {
      "text/html": [
       "<div>\n",
       "<style scoped>\n",
       "    .dataframe tbody tr th:only-of-type {\n",
       "        vertical-align: middle;\n",
       "    }\n",
       "\n",
       "    .dataframe tbody tr th {\n",
       "        vertical-align: top;\n",
       "    }\n",
       "\n",
       "    .dataframe thead th {\n",
       "        text-align: right;\n",
       "    }\n",
       "</style>\n",
       "<table border=\"1\" class=\"dataframe\">\n",
       "  <thead>\n",
       "    <tr style=\"text-align: right;\">\n",
       "      <th></th>\n",
       "      <th>Row ID</th>\n",
       "      <th>Order ID</th>\n",
       "      <th>Order Date</th>\n",
       "      <th>Order Priority</th>\n",
       "      <th>Order Quantity</th>\n",
       "      <th>Sales</th>\n",
       "      <th>Discount</th>\n",
       "      <th>Ship Mode</th>\n",
       "      <th>Profit</th>\n",
       "      <th>Unit Price</th>\n",
       "      <th>...</th>\n",
       "      <th>Customer Name</th>\n",
       "      <th>Province</th>\n",
       "      <th>Region</th>\n",
       "      <th>Customer Segment</th>\n",
       "      <th>Product Category</th>\n",
       "      <th>Product Sub-Category</th>\n",
       "      <th>Product Name</th>\n",
       "      <th>Product Container</th>\n",
       "      <th>Product Base Margin</th>\n",
       "      <th>Ship Date</th>\n",
       "    </tr>\n",
       "  </thead>\n",
       "  <tbody>\n",
       "    <tr>\n",
       "      <th>0</th>\n",
       "      <td>1</td>\n",
       "      <td>3</td>\n",
       "      <td>2010-10-13</td>\n",
       "      <td>Low</td>\n",
       "      <td>6</td>\n",
       "      <td>261.5400</td>\n",
       "      <td>0.04</td>\n",
       "      <td>Regular Air</td>\n",
       "      <td>-213.250</td>\n",
       "      <td>38.94</td>\n",
       "      <td>...</td>\n",
       "      <td>Muhammed MacIntyre</td>\n",
       "      <td>Nunavut</td>\n",
       "      <td>Nunavut</td>\n",
       "      <td>Small Business</td>\n",
       "      <td>Office Supplies</td>\n",
       "      <td>Storage &amp; Organization</td>\n",
       "      <td>Eldon Base for stackable storage shelf, platinum</td>\n",
       "      <td>Large Box</td>\n",
       "      <td>0.80</td>\n",
       "      <td>2010-10-20</td>\n",
       "    </tr>\n",
       "    <tr>\n",
       "      <th>1</th>\n",
       "      <td>2</td>\n",
       "      <td>6</td>\n",
       "      <td>2012-02-20</td>\n",
       "      <td>Not Specified</td>\n",
       "      <td>2</td>\n",
       "      <td>6.9300</td>\n",
       "      <td>0.01</td>\n",
       "      <td>Regular Air</td>\n",
       "      <td>-4.640</td>\n",
       "      <td>2.08</td>\n",
       "      <td>...</td>\n",
       "      <td>Ruben Dartt</td>\n",
       "      <td>Alberta</td>\n",
       "      <td>West</td>\n",
       "      <td>Corporate</td>\n",
       "      <td>Office Supplies</td>\n",
       "      <td>Scissors, Rulers and Trimmers</td>\n",
       "      <td>Kleencut® Forged Office Shears by Acme United ...</td>\n",
       "      <td>Small Pack</td>\n",
       "      <td>0.55</td>\n",
       "      <td>2012-02-21</td>\n",
       "    </tr>\n",
       "    <tr>\n",
       "      <th>2</th>\n",
       "      <td>3</td>\n",
       "      <td>32</td>\n",
       "      <td>2011-07-15</td>\n",
       "      <td>High</td>\n",
       "      <td>26</td>\n",
       "      <td>2808.0800</td>\n",
       "      <td>0.07</td>\n",
       "      <td>Regular Air</td>\n",
       "      <td>1054.820</td>\n",
       "      <td>107.53</td>\n",
       "      <td>...</td>\n",
       "      <td>Liz Pelletier</td>\n",
       "      <td>Alberta</td>\n",
       "      <td>West</td>\n",
       "      <td>Corporate</td>\n",
       "      <td>Furniture</td>\n",
       "      <td>Office Furnishings</td>\n",
       "      <td>Tenex Contemporary Contur Chairmats for Low an...</td>\n",
       "      <td>Medium Box</td>\n",
       "      <td>0.65</td>\n",
       "      <td>2011-07-17</td>\n",
       "    </tr>\n",
       "    <tr>\n",
       "      <th>3</th>\n",
       "      <td>4</td>\n",
       "      <td>32</td>\n",
       "      <td>2011-07-15</td>\n",
       "      <td>High</td>\n",
       "      <td>24</td>\n",
       "      <td>1761.4000</td>\n",
       "      <td>0.09</td>\n",
       "      <td>Delivery Truck</td>\n",
       "      <td>-1748.560</td>\n",
       "      <td>70.89</td>\n",
       "      <td>...</td>\n",
       "      <td>Liz Pelletier</td>\n",
       "      <td>Alberta</td>\n",
       "      <td>West</td>\n",
       "      <td>Corporate</td>\n",
       "      <td>Furniture</td>\n",
       "      <td>Tables</td>\n",
       "      <td>KI Conference Tables</td>\n",
       "      <td>Jumbo Box</td>\n",
       "      <td>0.72</td>\n",
       "      <td>2011-07-16</td>\n",
       "    </tr>\n",
       "    <tr>\n",
       "      <th>4</th>\n",
       "      <td>5</td>\n",
       "      <td>32</td>\n",
       "      <td>2011-07-15</td>\n",
       "      <td>High</td>\n",
       "      <td>23</td>\n",
       "      <td>160.2335</td>\n",
       "      <td>0.04</td>\n",
       "      <td>Regular Air</td>\n",
       "      <td>-85.129</td>\n",
       "      <td>7.99</td>\n",
       "      <td>...</td>\n",
       "      <td>Liz Pelletier</td>\n",
       "      <td>Alberta</td>\n",
       "      <td>West</td>\n",
       "      <td>Corporate</td>\n",
       "      <td>Technology</td>\n",
       "      <td>Telephones and Communication</td>\n",
       "      <td>Bell Sonecor JB700 Caller ID</td>\n",
       "      <td>Medium Box</td>\n",
       "      <td>0.60</td>\n",
       "      <td>2011-07-17</td>\n",
       "    </tr>\n",
       "  </tbody>\n",
       "</table>\n",
       "<p>5 rows × 21 columns</p>\n",
       "</div>"
      ],
      "text/plain": [
       "   Row ID  Order ID Order Date Order Priority  Order Quantity      Sales  \\\n",
       "0       1         3 2010-10-13            Low               6   261.5400   \n",
       "1       2         6 2012-02-20  Not Specified               2     6.9300   \n",
       "2       3        32 2011-07-15           High              26  2808.0800   \n",
       "3       4        32 2011-07-15           High              24  1761.4000   \n",
       "4       5        32 2011-07-15           High              23   160.2335   \n",
       "\n",
       "   Discount       Ship Mode    Profit  Unit Price  ...       Customer Name  \\\n",
       "0      0.04     Regular Air  -213.250       38.94  ...  Muhammed MacIntyre   \n",
       "1      0.01     Regular Air    -4.640        2.08  ...         Ruben Dartt   \n",
       "2      0.07     Regular Air  1054.820      107.53  ...       Liz Pelletier   \n",
       "3      0.09  Delivery Truck -1748.560       70.89  ...       Liz Pelletier   \n",
       "4      0.04     Regular Air   -85.129        7.99  ...       Liz Pelletier   \n",
       "\n",
       "  Province   Region Customer Segment Product Category  \\\n",
       "0  Nunavut  Nunavut   Small Business  Office Supplies   \n",
       "1  Alberta     West        Corporate  Office Supplies   \n",
       "2  Alberta     West        Corporate        Furniture   \n",
       "3  Alberta     West        Corporate        Furniture   \n",
       "4  Alberta     West        Corporate       Technology   \n",
       "\n",
       "            Product Sub-Category  \\\n",
       "0         Storage & Organization   \n",
       "1  Scissors, Rulers and Trimmers   \n",
       "2             Office Furnishings   \n",
       "3                         Tables   \n",
       "4   Telephones and Communication   \n",
       "\n",
       "                                        Product Name Product Container  \\\n",
       "0   Eldon Base for stackable storage shelf, platinum         Large Box   \n",
       "1  Kleencut® Forged Office Shears by Acme United ...        Small Pack   \n",
       "2  Tenex Contemporary Contur Chairmats for Low an...        Medium Box   \n",
       "3                               KI Conference Tables         Jumbo Box   \n",
       "4                       Bell Sonecor JB700 Caller ID        Medium Box   \n",
       "\n",
       "  Product Base Margin  Ship Date  \n",
       "0                0.80 2010-10-20  \n",
       "1                0.55 2012-02-21  \n",
       "2                0.65 2011-07-17  \n",
       "3                0.72 2011-07-16  \n",
       "4                0.60 2011-07-17  \n",
       "\n",
       "[5 rows x 21 columns]"
      ]
     },
     "execution_count": 79,
     "metadata": {},
     "output_type": "execute_result"
    }
   ],
   "source": [
    "sd.head()"
   ]
  },
  {
   "cell_type": "code",
   "execution_count": 80,
   "metadata": {},
   "outputs": [
    {
     "name": "stdout",
     "output_type": "stream",
     "text": [
      "<class 'pandas.core.frame.DataFrame'>\n",
      "RangeIndex: 8399 entries, 0 to 8398\n",
      "Data columns (total 21 columns):\n",
      " #   Column                Non-Null Count  Dtype         \n",
      "---  ------                --------------  -----         \n",
      " 0   Row ID                8399 non-null   int64         \n",
      " 1   Order ID              8399 non-null   int64         \n",
      " 2   Order Date            8399 non-null   datetime64[ns]\n",
      " 3   Order Priority        8399 non-null   object        \n",
      " 4   Order Quantity        8399 non-null   int64         \n",
      " 5   Sales                 8399 non-null   float64       \n",
      " 6   Discount              8399 non-null   float64       \n",
      " 7   Ship Mode             8399 non-null   object        \n",
      " 8   Profit                8399 non-null   float64       \n",
      " 9   Unit Price            8399 non-null   float64       \n",
      " 10  Shipping Cost         8399 non-null   float64       \n",
      " 11  Customer Name         8399 non-null   object        \n",
      " 12  Province              8399 non-null   object        \n",
      " 13  Region                8399 non-null   object        \n",
      " 14  Customer Segment      8399 non-null   object        \n",
      " 15  Product Category      8399 non-null   object        \n",
      " 16  Product Sub-Category  8399 non-null   object        \n",
      " 17  Product Name          8399 non-null   object        \n",
      " 18  Product Container     8399 non-null   object        \n",
      " 19  Product Base Margin   8336 non-null   float64       \n",
      " 20  Ship Date             8399 non-null   datetime64[ns]\n",
      "dtypes: datetime64[ns](2), float64(6), int64(3), object(10)\n",
      "memory usage: 1.3+ MB\n"
     ]
    }
   ],
   "source": [
    "sd.info()"
   ]
  },
  {
   "cell_type": "code",
   "execution_count": 81,
   "metadata": {},
   "outputs": [],
   "source": [
    "#pd.to_numeric(argument = (datetime,str,lsit,tuple,1-darray,Series,dataframe),errors = 'raise/ignore/coerse')\n",
    "#Convert argument to numeric type\n",
    "#this above example converts datetimestamp to numeric\n",
    "\n",
    "a = pd.to_numeric(sd['Order Date'])"
   ]
  },
  {
   "cell_type": "code",
   "execution_count": 82,
   "metadata": {},
   "outputs": [
    {
     "data": {
      "text/plain": [
       "0       1286928000000000000\n",
       "1       1329696000000000000\n",
       "2       1310688000000000000\n",
       "3       1310688000000000000\n",
       "4       1310688000000000000\n",
       "               ...         \n",
       "8394    1306800000000000000\n",
       "8395    1306800000000000000\n",
       "8396    1306800000000000000\n",
       "8397    1321315200000000000\n",
       "8398    1321315200000000000\n",
       "Name: Order Date, Length: 8399, dtype: int64"
      ]
     },
     "execution_count": 82,
     "metadata": {},
     "output_type": "execute_result"
    }
   ],
   "source": [
    "a"
   ]
  },
  {
   "cell_type": "code",
   "execution_count": 83,
   "metadata": {},
   "outputs": [],
   "source": [
    "#pd.to_datetime(argument may be (int,float,str,lsit,tuple,1-darray,Series,dataframe),errors = 'raise/ignore/coerse')\n",
    "#Converts argument to datetime\n",
    "\n",
    "a = pd.to_datetime(a)"
   ]
  },
  {
   "cell_type": "code",
   "execution_count": 84,
   "metadata": {},
   "outputs": [
    {
     "data": {
      "text/plain": [
       "0      2010-10-13\n",
       "1      2012-02-20\n",
       "2      2011-07-15\n",
       "3      2011-07-15\n",
       "4      2011-07-15\n",
       "          ...    \n",
       "8394   2011-05-31\n",
       "8395   2011-05-31\n",
       "8396   2011-05-31\n",
       "8397   2011-11-15\n",
       "8398   2011-11-15\n",
       "Name: Order Date, Length: 8399, dtype: datetime64[ns]"
      ]
     },
     "execution_count": 84,
     "metadata": {},
     "output_type": "execute_result"
    }
   ],
   "source": [
    "a"
   ]
  },
  {
   "cell_type": "code",
   "execution_count": 85,
   "metadata": {},
   "outputs": [
    {
     "data": {
      "text/plain": [
       "TimedeltaIndex(['0 days', '1 days', '2 days', '3 days', '4 days'], dtype='timedelta64[ns]', freq=None)"
      ]
     },
     "execution_count": 85,
     "metadata": {},
     "output_type": "execute_result"
    }
   ],
   "source": [
    "#pd.timedelta(argument,unit = 'ns/s/m/h/d/y')\n",
    "#Convert argument to timedelta (Timedeltas are absolute differences in times in different units)\n",
    "#here np.arange(5) gives data of range 5 explained in numpy documentation\n",
    "\n",
    "pd.to_timedelta(np.arange(5),unit = 'd')"
   ]
  },
  {
   "cell_type": "code",
   "execution_count": 86,
   "metadata": {},
   "outputs": [
    {
     "data": {
      "text/plain": [
       "DatetimeIndex(['2000-12-31 00:00:00+09:00', '2001-03-31 00:00:00+09:00',\n",
       "               '2001-06-30 00:00:00+09:00', '2001-09-30 00:00:00+09:00',\n",
       "               '2001-12-31 00:00:00+09:00'],\n",
       "              dtype='datetime64[ns, Asia/Tokyo]', freq='3M')"
      ]
     },
     "execution_count": 86,
     "metadata": {},
     "output_type": "execute_result"
    }
   ],
   "source": [
    "#pd.date_range(start,end,periods,frequency,tz) #exactly 3 parameters must be specified\n",
    "#Returns a fixed frequency datetime index\n",
    "\n",
    "pd.date_range(start = '15/12/2000', periods = 5,freq = '3M',tz = 'Asia/Tokyo')"
   ]
  },
  {
   "cell_type": "code",
   "execution_count": 87,
   "metadata": {},
   "outputs": [
    {
     "data": {
      "text/plain": [
       "DatetimeIndex(['2018-01-01', '2018-01-02', '2018-01-03', '2018-01-04',\n",
       "               '2018-01-05', '2018-01-08', '2018-01-09', '2018-01-10',\n",
       "               '2018-01-11', '2018-01-12',\n",
       "               ...\n",
       "               '2020-01-20', '2020-01-21', '2020-01-22', '2020-01-23',\n",
       "               '2020-01-24', '2020-01-27', '2020-01-28', '2020-01-29',\n",
       "               '2020-01-30', '2020-01-31'],\n",
       "              dtype='datetime64[ns]', length=545, freq='B')"
      ]
     },
     "execution_count": 87,
     "metadata": {},
     "output_type": "execute_result"
    }
   ],
   "source": [
    "#pd.bdate_range(start,end,periods,frequency) #exactly 3 parameters must be specified\n",
    "#Return fixed frequency date time index, with business day as default frequency\n",
    "\n",
    "pd.bdate_range(start = '1/1/2018',end = '2/2/2020')"
   ]
  },
  {
   "cell_type": "code",
   "execution_count": 88,
   "metadata": {},
   "outputs": [
    {
     "data": {
      "text/plain": [
       "PeriodIndex(['2019-01', '2019-04', '2019-07', '2019-10', '2020-01'], dtype='period[3M]', freq='3M')"
      ]
     },
     "execution_count": 88,
     "metadata": {},
     "output_type": "execute_result"
    }
   ],
   "source": [
    "#pd.period_range(start,end,frequency)\n",
    "#Returns a fixed frequency period range\n",
    "\n",
    "pd.period_range(start = '1/1/2019',end = '1/1/2020',freq = '3M')"
   ]
  },
  {
   "cell_type": "code",
   "execution_count": 89,
   "metadata": {},
   "outputs": [],
   "source": [
    "#pd.timedelta_range(start,end,frequency)\n",
    "#Returns a fixed frequency TimedeltaIndex with day as default frequency\n",
    "\n",
    "ul2 = pd.timedelta_range(start = '1day',end = '15days', freq = '1d')"
   ]
  },
  {
   "cell_type": "code",
   "execution_count": 90,
   "metadata": {},
   "outputs": [
    {
     "data": {
      "text/plain": [
       "TimedeltaIndex([ '1 days',  '2 days',  '3 days',  '4 days',  '5 days',\n",
       "                 '6 days',  '7 days',  '8 days',  '9 days', '10 days',\n",
       "                '11 days', '12 days', '13 days', '14 days', '15 days'],\n",
       "               dtype='timedelta64[ns]', freq='D')"
      ]
     },
     "execution_count": 90,
     "metadata": {},
     "output_type": "execute_result"
    }
   ],
   "source": [
    "ul2"
   ]
  },
  {
   "cell_type": "code",
   "execution_count": 91,
   "metadata": {},
   "outputs": [
    {
     "data": {
      "text/plain": [
       "'D'"
      ]
     },
     "execution_count": 91,
     "metadata": {},
     "output_type": "execute_result"
    }
   ],
   "source": [
    "#pd.infer_freq(datetimeindex or timedeltaindex)\n",
    "#Infer the most likely frequency given the input index and if the frequency is uncertain a warning will be printed\n",
    "\n",
    "pd.infer_freq(ul2)"
   ]
  },
  {
   "cell_type": "code",
   "execution_count": 92,
   "metadata": {},
   "outputs": [
    {
     "data": {
      "text/plain": [
       "IntervalIndex([(0.0, 2.5], (2.5, 5.0]],\n",
       "              closed='right',\n",
       "              dtype='interval[float64]')"
      ]
     },
     "execution_count": 92,
     "metadata": {},
     "output_type": "execute_result"
    }
   ],
   "source": [
    "#pd.inerval_range(start = numeric or datetime , end = numeric or date time like, periods = integer)\n",
    "#Return a fixed frequency Interval Index\n",
    "\n",
    "pd.interval_range(start = 0,end = 5,periods = 2)"
   ]
  },
  {
   "cell_type": "code",
   "execution_count": 93,
   "metadata": {},
   "outputs": [
    {
     "data": {
      "text/plain": [
       "0.5"
      ]
     },
     "execution_count": 93,
     "metadata": {},
     "output_type": "execute_result"
    }
   ],
   "source": [
    "#pd.eval(expression)\n",
    "#Evaluate a Python expression as a string using various backends\n",
    "\n",
    "pd.eval(1/2)"
   ]
  },
  {
   "cell_type": "code",
   "execution_count": 94,
   "metadata": {},
   "outputs": [
    {
     "data": {
      "text/plain": [
       "array([-1.0032479 ,  0.73824804,  0.32595088, -0.54534497, -0.18391494,\n",
       "       -0.55036373,  0.66873809,  0.82181439,  0.35300838, -1.96840045])"
      ]
     },
     "execution_count": 94,
     "metadata": {},
     "output_type": "execute_result"
    }
   ],
   "source": [
    "es  = np.array(np.random.randn(10))\n",
    "es"
   ]
  },
  {
   "cell_type": "code",
   "execution_count": 95,
   "metadata": {},
   "outputs": [
    {
     "data": {
      "text/plain": [
       "array([ 3902563709295608902,  3747912470437682446, 11994678054771892887,\n",
       "       13619413246322341957,  3183932506079085473,  2296685034627754857,\n",
       "        7399216047951887268,  5052245261315014590, 12836520526450805466,\n",
       "         454033122093152987], dtype=uint64)"
      ]
     },
     "execution_count": 95,
     "metadata": {},
     "output_type": "execute_result"
    }
   ],
   "source": [
    "#pd.util.hash_array(nd array)\n",
    "#Returns an array of deterministic integers\n",
    "\n",
    "pd.util.hash_array(es)"
   ]
  },
  {
   "cell_type": "code",
   "execution_count": 96,
   "metadata": {
    "scrolled": true
   },
   "outputs": [
    {
     "data": {
      "text/html": [
       "<div>\n",
       "<style scoped>\n",
       "    .dataframe tbody tr th:only-of-type {\n",
       "        vertical-align: middle;\n",
       "    }\n",
       "\n",
       "    .dataframe tbody tr th {\n",
       "        vertical-align: top;\n",
       "    }\n",
       "\n",
       "    .dataframe thead th {\n",
       "        text-align: right;\n",
       "    }\n",
       "</style>\n",
       "<table border=\"1\" class=\"dataframe\">\n",
       "  <thead>\n",
       "    <tr style=\"text-align: right;\">\n",
       "      <th></th>\n",
       "      <th>Row ID</th>\n",
       "      <th>Order ID</th>\n",
       "      <th>Order Date</th>\n",
       "      <th>Order Priority</th>\n",
       "      <th>Order Quantity</th>\n",
       "      <th>Sales</th>\n",
       "      <th>Discount</th>\n",
       "      <th>Ship Mode</th>\n",
       "      <th>Profit</th>\n",
       "      <th>Unit Price</th>\n",
       "      <th>...</th>\n",
       "      <th>Customer Name</th>\n",
       "      <th>Province</th>\n",
       "      <th>Region</th>\n",
       "      <th>Customer Segment</th>\n",
       "      <th>Product Category</th>\n",
       "      <th>Product Sub-Category</th>\n",
       "      <th>Product Name</th>\n",
       "      <th>Product Container</th>\n",
       "      <th>Product Base Margin</th>\n",
       "      <th>Ship Date</th>\n",
       "    </tr>\n",
       "  </thead>\n",
       "  <tbody>\n",
       "    <tr>\n",
       "      <th>0</th>\n",
       "      <td>1</td>\n",
       "      <td>3</td>\n",
       "      <td>2010-10-13</td>\n",
       "      <td>Low</td>\n",
       "      <td>6</td>\n",
       "      <td>261.5400</td>\n",
       "      <td>0.04</td>\n",
       "      <td>Regular Air</td>\n",
       "      <td>-213.250</td>\n",
       "      <td>38.94</td>\n",
       "      <td>...</td>\n",
       "      <td>Muhammed MacIntyre</td>\n",
       "      <td>Nunavut</td>\n",
       "      <td>Nunavut</td>\n",
       "      <td>Small Business</td>\n",
       "      <td>Office Supplies</td>\n",
       "      <td>Storage &amp; Organization</td>\n",
       "      <td>Eldon Base for stackable storage shelf, platinum</td>\n",
       "      <td>Large Box</td>\n",
       "      <td>0.80</td>\n",
       "      <td>2010-10-20</td>\n",
       "    </tr>\n",
       "    <tr>\n",
       "      <th>1</th>\n",
       "      <td>2</td>\n",
       "      <td>6</td>\n",
       "      <td>2012-02-20</td>\n",
       "      <td>Not Specified</td>\n",
       "      <td>2</td>\n",
       "      <td>6.9300</td>\n",
       "      <td>0.01</td>\n",
       "      <td>Regular Air</td>\n",
       "      <td>-4.640</td>\n",
       "      <td>2.08</td>\n",
       "      <td>...</td>\n",
       "      <td>Ruben Dartt</td>\n",
       "      <td>Alberta</td>\n",
       "      <td>West</td>\n",
       "      <td>Corporate</td>\n",
       "      <td>Office Supplies</td>\n",
       "      <td>Scissors, Rulers and Trimmers</td>\n",
       "      <td>Kleencut® Forged Office Shears by Acme United ...</td>\n",
       "      <td>Small Pack</td>\n",
       "      <td>0.55</td>\n",
       "      <td>2012-02-21</td>\n",
       "    </tr>\n",
       "    <tr>\n",
       "      <th>2</th>\n",
       "      <td>3</td>\n",
       "      <td>32</td>\n",
       "      <td>2011-07-15</td>\n",
       "      <td>High</td>\n",
       "      <td>26</td>\n",
       "      <td>2808.0800</td>\n",
       "      <td>0.07</td>\n",
       "      <td>Regular Air</td>\n",
       "      <td>1054.820</td>\n",
       "      <td>107.53</td>\n",
       "      <td>...</td>\n",
       "      <td>Liz Pelletier</td>\n",
       "      <td>Alberta</td>\n",
       "      <td>West</td>\n",
       "      <td>Corporate</td>\n",
       "      <td>Furniture</td>\n",
       "      <td>Office Furnishings</td>\n",
       "      <td>Tenex Contemporary Contur Chairmats for Low an...</td>\n",
       "      <td>Medium Box</td>\n",
       "      <td>0.65</td>\n",
       "      <td>2011-07-17</td>\n",
       "    </tr>\n",
       "    <tr>\n",
       "      <th>3</th>\n",
       "      <td>4</td>\n",
       "      <td>32</td>\n",
       "      <td>2011-07-15</td>\n",
       "      <td>High</td>\n",
       "      <td>24</td>\n",
       "      <td>1761.4000</td>\n",
       "      <td>0.09</td>\n",
       "      <td>Delivery Truck</td>\n",
       "      <td>-1748.560</td>\n",
       "      <td>70.89</td>\n",
       "      <td>...</td>\n",
       "      <td>Liz Pelletier</td>\n",
       "      <td>Alberta</td>\n",
       "      <td>West</td>\n",
       "      <td>Corporate</td>\n",
       "      <td>Furniture</td>\n",
       "      <td>Tables</td>\n",
       "      <td>KI Conference Tables</td>\n",
       "      <td>Jumbo Box</td>\n",
       "      <td>0.72</td>\n",
       "      <td>2011-07-16</td>\n",
       "    </tr>\n",
       "    <tr>\n",
       "      <th>4</th>\n",
       "      <td>5</td>\n",
       "      <td>32</td>\n",
       "      <td>2011-07-15</td>\n",
       "      <td>High</td>\n",
       "      <td>23</td>\n",
       "      <td>160.2335</td>\n",
       "      <td>0.04</td>\n",
       "      <td>Regular Air</td>\n",
       "      <td>-85.129</td>\n",
       "      <td>7.99</td>\n",
       "      <td>...</td>\n",
       "      <td>Liz Pelletier</td>\n",
       "      <td>Alberta</td>\n",
       "      <td>West</td>\n",
       "      <td>Corporate</td>\n",
       "      <td>Technology</td>\n",
       "      <td>Telephones and Communication</td>\n",
       "      <td>Bell Sonecor JB700 Caller ID</td>\n",
       "      <td>Medium Box</td>\n",
       "      <td>0.60</td>\n",
       "      <td>2011-07-17</td>\n",
       "    </tr>\n",
       "  </tbody>\n",
       "</table>\n",
       "<p>5 rows × 21 columns</p>\n",
       "</div>"
      ],
      "text/plain": [
       "   Row ID  Order ID Order Date Order Priority  Order Quantity      Sales  \\\n",
       "0       1         3 2010-10-13            Low               6   261.5400   \n",
       "1       2         6 2012-02-20  Not Specified               2     6.9300   \n",
       "2       3        32 2011-07-15           High              26  2808.0800   \n",
       "3       4        32 2011-07-15           High              24  1761.4000   \n",
       "4       5        32 2011-07-15           High              23   160.2335   \n",
       "\n",
       "   Discount       Ship Mode    Profit  Unit Price  ...       Customer Name  \\\n",
       "0      0.04     Regular Air  -213.250       38.94  ...  Muhammed MacIntyre   \n",
       "1      0.01     Regular Air    -4.640        2.08  ...         Ruben Dartt   \n",
       "2      0.07     Regular Air  1054.820      107.53  ...       Liz Pelletier   \n",
       "3      0.09  Delivery Truck -1748.560       70.89  ...       Liz Pelletier   \n",
       "4      0.04     Regular Air   -85.129        7.99  ...       Liz Pelletier   \n",
       "\n",
       "  Province   Region Customer Segment Product Category  \\\n",
       "0  Nunavut  Nunavut   Small Business  Office Supplies   \n",
       "1  Alberta     West        Corporate  Office Supplies   \n",
       "2  Alberta     West        Corporate        Furniture   \n",
       "3  Alberta     West        Corporate        Furniture   \n",
       "4  Alberta     West        Corporate       Technology   \n",
       "\n",
       "            Product Sub-Category  \\\n",
       "0         Storage & Organization   \n",
       "1  Scissors, Rulers and Trimmers   \n",
       "2             Office Furnishings   \n",
       "3                         Tables   \n",
       "4   Telephones and Communication   \n",
       "\n",
       "                                        Product Name Product Container  \\\n",
       "0   Eldon Base for stackable storage shelf, platinum         Large Box   \n",
       "1  Kleencut® Forged Office Shears by Acme United ...        Small Pack   \n",
       "2  Tenex Contemporary Contur Chairmats for Low an...        Medium Box   \n",
       "3                               KI Conference Tables         Jumbo Box   \n",
       "4                       Bell Sonecor JB700 Caller ID        Medium Box   \n",
       "\n",
       "  Product Base Margin  Ship Date  \n",
       "0                0.80 2010-10-20  \n",
       "1                0.55 2012-02-21  \n",
       "2                0.65 2011-07-17  \n",
       "3                0.72 2011-07-16  \n",
       "4                0.60 2011-07-17  \n",
       "\n",
       "[5 rows x 21 columns]"
      ]
     },
     "execution_count": 96,
     "metadata": {},
     "output_type": "execute_result"
    }
   ],
   "source": [
    "s = pd.read_excel('C:/Users/H/Downloads/d.xlsx')\n",
    "s.head()"
   ]
  },
  {
   "cell_type": "code",
   "execution_count": 97,
   "metadata": {},
   "outputs": [
    {
     "data": {
      "text/plain": [
       "0        9224338284780639821\n",
       "1       10378508968156567760\n",
       "2       10452992092613078005\n",
       "3       11823667436766830378\n",
       "4        9079322912096539894\n",
       "                ...         \n",
       "8394    14183880194184232509\n",
       "8395    12767684670674617868\n",
       "8396    12106985992731307444\n",
       "8397    11330261279649738791\n",
       "8398    11527471847415125041\n",
       "Length: 8399, dtype: uint64"
      ]
     },
     "execution_count": 97,
     "metadata": {},
     "output_type": "execute_result"
    }
   ],
   "source": [
    "#pd.util.hash_pandas_object(object)\n",
    "#Returns a data hash of the index or series or dataframe\n",
    "\n",
    "pd.util.hash_pandas_object(s)"
   ]
  },
  {
   "cell_type": "code",
   "execution_count": 98,
   "metadata": {},
   "outputs": [
    {
     "data": {
      "text/plain": [
       "0   -0.477555\n",
       "1   -0.327620\n",
       "2   -0.291241\n",
       "3   -1.831623\n",
       "4   -0.470176\n",
       "5    0.084721\n",
       "6    0.914407\n",
       "7   -0.757139\n",
       "8    0.031784\n",
       "9    0.077568\n",
       "dtype: float64"
      ]
     },
     "execution_count": 98,
     "metadata": {},
     "output_type": "execute_result"
    }
   ],
   "source": [
    "#pd.Series(data)\n",
    "#Returns one dimensional nd array with axis labels\n",
    "\n",
    "u = pd.Series(np.array(np.random.randn(10)))\n",
    "u"
   ]
  },
  {
   "cell_type": "code",
   "execution_count": 99,
   "metadata": {},
   "outputs": [
    {
     "data": {
      "text/plain": [
       "RangeIndex(start=0, stop=10, step=1)"
      ]
     },
     "execution_count": 99,
     "metadata": {},
     "output_type": "execute_result"
    }
   ],
   "source": [
    "#pd.Series(data).index\n",
    "#The index(axis labels) of the series\n",
    "\n",
    "pd.Series(np.array(np.random.randn(10))).index"
   ]
  },
  {
   "cell_type": "code",
   "execution_count": 100,
   "metadata": {},
   "outputs": [
    {
     "data": {
      "text/plain": [
       "<PandasArray>\n",
       "[0.24836810853158592,  1.1657256049773848,  -0.328997228901671,\n",
       " 0.11455054339161967, -2.6437163917748863, -0.8309876482421028,\n",
       " -1.6541806844703744,  1.6747529527476084,  0.6228549210138788,\n",
       " -1.6460633374093112]\n",
       "Length: 10, dtype: float64"
      ]
     },
     "execution_count": 100,
     "metadata": {},
     "output_type": "execute_result"
    }
   ],
   "source": [
    "#pd.Series(data).array\n",
    "#The extension of data backing this Series or index\n",
    "\n",
    "pd.Series(np.array(np.random.randn(10))).array"
   ]
  },
  {
   "cell_type": "code",
   "execution_count": 101,
   "metadata": {},
   "outputs": [
    {
     "data": {
      "text/plain": [
       "array([-0.09934034, -0.74227377,  0.31450523, -0.96031337,  0.83780961,\n",
       "        0.46351826,  0.60871097,  0.40422565, -1.68156789, -1.07378955])"
      ]
     },
     "execution_count": 101,
     "metadata": {},
     "output_type": "execute_result"
    }
   ],
   "source": [
    "#pd.Series(data).values\n",
    "#Return Series as ndarray or ndarray-like depending on the d-type\n",
    "\n",
    "pd.Series(np.array(np.random.randn(10))).values"
   ]
  },
  {
   "cell_type": "code",
   "execution_count": 102,
   "metadata": {},
   "outputs": [
    {
     "data": {
      "text/plain": [
       "dtype('float64')"
      ]
     },
     "execution_count": 102,
     "metadata": {},
     "output_type": "execute_result"
    }
   ],
   "source": [
    "#pd.Series(data).dtype\n",
    "#Return the dtype object of the underlying data\n",
    "\n",
    "pd.Series(np.array(np.random.randn(10))).dtype"
   ]
  },
  {
   "cell_type": "code",
   "execution_count": 103,
   "metadata": {},
   "outputs": [
    {
     "data": {
      "text/plain": [
       "(10,)"
      ]
     },
     "execution_count": 103,
     "metadata": {},
     "output_type": "execute_result"
    }
   ],
   "source": [
    "#pd.Series(data).shape\n",
    "#Return a tuple of the shape of the underlying data\n",
    "\n",
    "pd.Series(np.array(np.random.randn(10))).shape"
   ]
  },
  {
   "cell_type": "code",
   "execution_count": 104,
   "metadata": {},
   "outputs": [
    {
     "data": {
      "text/plain": [
       "80"
      ]
     },
     "execution_count": 104,
     "metadata": {},
     "output_type": "execute_result"
    }
   ],
   "source": [
    "#pd.Series(data).nbytes\n",
    "#Return the number of bytes in underlying data\n",
    "\n",
    "pd.Series(np.array(np.random.randn(10))).nbytes"
   ]
  },
  {
   "cell_type": "code",
   "execution_count": 105,
   "metadata": {},
   "outputs": [
    {
     "data": {
      "text/plain": [
       "1"
      ]
     },
     "execution_count": 105,
     "metadata": {},
     "output_type": "execute_result"
    }
   ],
   "source": [
    "#pd.Series(data).ndim\n",
    "#Number of dimensions of the underlying data,by definition 1\n",
    "\n",
    "pd.Series(np.array(np.random.randn(10))).ndim"
   ]
  },
  {
   "cell_type": "code",
   "execution_count": 106,
   "metadata": {},
   "outputs": [
    {
     "data": {
      "text/plain": [
       "10"
      ]
     },
     "execution_count": 106,
     "metadata": {},
     "output_type": "execute_result"
    }
   ],
   "source": [
    "#pd.Series(data).size\n",
    "#Return the number of elements in the underlying data\n",
    "\n",
    "pd.Series(np.array(np.random.randn(10))).size"
   ]
  },
  {
   "cell_type": "code",
   "execution_count": 107,
   "metadata": {},
   "outputs": [
    {
     "data": {
      "text/plain": [
       "0   -0.983998\n",
       "1    0.259841\n",
       "2   -0.973231\n",
       "3    0.268431\n",
       "4   -0.239089\n",
       "5   -0.397134\n",
       "6    1.232978\n",
       "7    0.906238\n",
       "8   -1.360362\n",
       "9    0.154525\n",
       "dtype: float64"
      ]
     },
     "execution_count": 107,
     "metadata": {},
     "output_type": "execute_result"
    }
   ],
   "source": [
    "#pd.Series(data).T\n",
    "#Return the transpose, which is by definition self\n",
    "\n",
    "pd.Series(np.array(np.random.randn(10))).T"
   ]
  },
  {
   "cell_type": "code",
   "execution_count": null,
   "metadata": {},
   "outputs": [],
   "source": []
  },
  {
   "cell_type": "code",
   "execution_count": 108,
   "metadata": {},
   "outputs": [
    {
     "data": {
      "text/plain": [
       "208"
      ]
     },
     "execution_count": 108,
     "metadata": {},
     "output_type": "execute_result"
    }
   ],
   "source": [
    "#pd.Series(data).memory_usage()\n",
    "#Return the memory usage of the Series\n",
    "\n",
    "pd.Series(np.array(np.random.randn(10))).memory_usage()"
   ]
  },
  {
   "cell_type": "code",
   "execution_count": 109,
   "metadata": {},
   "outputs": [
    {
     "data": {
      "text/plain": [
       "False"
      ]
     },
     "execution_count": 109,
     "metadata": {},
     "output_type": "execute_result"
    }
   ],
   "source": [
    "#pd.Series(data).hasnans\n",
    "#Return if I have any nans and enables various perf speed ups\n",
    "\n",
    "pd.Series([1,2,3,4,5,0]).hasnans"
   ]
  },
  {
   "cell_type": "code",
   "execution_count": 110,
   "metadata": {},
   "outputs": [
    {
     "data": {
      "text/plain": [
       "False"
      ]
     },
     "execution_count": 110,
     "metadata": {},
     "output_type": "execute_result"
    }
   ],
   "source": [
    "#pd.Series(data).empty\n",
    "#Return true if series passed is empty and viceversa\n",
    "\n",
    "pd.Series([1,2,3,4,5]).empty"
   ]
  },
  {
   "cell_type": "code",
   "execution_count": 111,
   "metadata": {},
   "outputs": [
    {
     "name": "stderr",
     "output_type": "stream",
     "text": [
      "C:\\Users\\H\\anaconda3\\lib\\site-packages\\ipykernel_launcher.py:1: DeprecationWarning: The default dtype for empty Series will be 'object' instead of 'float64' in a future version. Specify a dtype explicitly to silence this warning.\n",
      "  \"\"\"Entry point for launching an IPython kernel.\n"
     ]
    },
    {
     "data": {
      "text/plain": [
       "True"
      ]
     },
     "execution_count": 111,
     "metadata": {},
     "output_type": "execute_result"
    }
   ],
   "source": [
    "pd.Series([]).empty"
   ]
  },
  {
   "cell_type": "code",
   "execution_count": 112,
   "metadata": {},
   "outputs": [
    {
     "data": {
      "text/plain": [
       "dtype('float64')"
      ]
     },
     "execution_count": 112,
     "metadata": {},
     "output_type": "execute_result"
    }
   ],
   "source": [
    "#pd.Series(data).dtypes\n",
    "#Gives the dtype object of the underlying data\n",
    "\n",
    "pd.Series([1,2,3,4,5,3.1,4/2]).dtypes"
   ]
  },
  {
   "cell_type": "code",
   "execution_count": 113,
   "metadata": {},
   "outputs": [],
   "source": [
    "v = pd.Series([1.2,2.3,3.1,4.4,5.4],dtype = 'float64').astype('int64')"
   ]
  },
  {
   "cell_type": "code",
   "execution_count": 114,
   "metadata": {},
   "outputs": [
    {
     "data": {
      "text/plain": [
       "0    1\n",
       "1    2\n",
       "2    3\n",
       "3    4\n",
       "4    5\n",
       "dtype: int64"
      ]
     },
     "execution_count": 114,
     "metadata": {},
     "output_type": "execute_result"
    }
   ],
   "source": [
    "v"
   ]
  },
  {
   "cell_type": "code",
   "execution_count": 115,
   "metadata": {},
   "outputs": [
    {
     "data": {
      "text/plain": [
       "0    1.0\n",
       "1    2.0\n",
       "2    3.0\n",
       "3    4.0\n",
       "4    5.0\n",
       "dtype: float64"
      ]
     },
     "execution_count": 115,
     "metadata": {},
     "output_type": "execute_result"
    }
   ],
   "source": [
    "#pd.Series(data,dtype = 'datatype1').astype(datatype2)\n",
    "#Cast a pandas object to a specified datatype here datatype 2\n",
    "\n",
    "v = v.astype('float64')\n",
    "v"
   ]
  },
  {
   "cell_type": "code",
   "execution_count": 116,
   "metadata": {},
   "outputs": [
    {
     "data": {
      "text/plain": [
       "0    1\n",
       "1    2\n",
       "2    3\n",
       "3    4\n",
       "4    5\n",
       "dtype: Int64"
      ]
     },
     "execution_count": 116,
     "metadata": {},
     "output_type": "execute_result"
    }
   ],
   "source": [
    "#pd.Series(Series/Dataframe).convert_dtypes()\n",
    "#Coverts columns to best possible dtypes using dtypes supporting pd.NA\n",
    "\n",
    "pd.Series(v).convert_dtypes()"
   ]
  },
  {
   "cell_type": "code",
   "execution_count": 117,
   "metadata": {},
   "outputs": [
    {
     "data": {
      "text/plain": [
       "0      1\n",
       "1      2\n",
       "2    3.4\n",
       "3      a\n",
       "dtype: object"
      ]
     },
     "execution_count": 117,
     "metadata": {},
     "output_type": "execute_result"
    }
   ],
   "source": [
    "#pd.Series(Series/Dataframe).infer_objects()\n",
    "#Attempt to infer better dtypes for object columns\n",
    "\n",
    "pd.Series([1,2,3.4,'a']).infer_objects()"
   ]
  },
  {
   "cell_type": "code",
   "execution_count": 118,
   "metadata": {},
   "outputs": [
    {
     "data": {
      "text/plain": [
       "0    1\n",
       "1    2\n",
       "2    3\n",
       "3    4\n",
       "dtype: int64"
      ]
     },
     "execution_count": 118,
     "metadata": {},
     "output_type": "execute_result"
    }
   ],
   "source": [
    "#df2 = pd.Series(Dataframe/Series).copy()\n",
    "#Make a copy of this object's indices and data\n",
    "\n",
    "y = pd.Series([1,2,3,4]).copy()\n",
    "y"
   ]
  },
  {
   "cell_type": "code",
   "execution_count": 119,
   "metadata": {},
   "outputs": [
    {
     "data": {
      "text/plain": [
       "True"
      ]
     },
     "execution_count": 119,
     "metadata": {},
     "output_type": "execute_result"
    }
   ],
   "source": [
    "#pd.Series(self).bool()\n",
    "#Return the bool of a single element pandas object\n",
    "\n",
    "pd.Series(1==1).bool()"
   ]
  },
  {
   "cell_type": "code",
   "execution_count": 120,
   "metadata": {},
   "outputs": [
    {
     "data": {
      "text/plain": [
       "array([1. , 2. , 3. , 2.4])"
      ]
     },
     "execution_count": 120,
     "metadata": {},
     "output_type": "execute_result"
    }
   ],
   "source": [
    "#pd.Series(self,dtype = optional)\n",
    "#Returns a NumPy ndarray representing the values in this Series or Index\n",
    "\n",
    "pd.Series([1,2,3,2.4]).to_numpy()"
   ]
  },
  {
   "cell_type": "code",
   "execution_count": 121,
   "metadata": {},
   "outputs": [
    {
     "data": {
      "text/html": [
       "<div>\n",
       "<style scoped>\n",
       "    .dataframe tbody tr th:only-of-type {\n",
       "        vertical-align: middle;\n",
       "    }\n",
       "\n",
       "    .dataframe tbody tr th {\n",
       "        vertical-align: top;\n",
       "    }\n",
       "\n",
       "    .dataframe thead th {\n",
       "        text-align: right;\n",
       "    }\n",
       "</style>\n",
       "<table border=\"1\" class=\"dataframe\">\n",
       "  <thead>\n",
       "    <tr style=\"text-align: right;\">\n",
       "      <th></th>\n",
       "      <th>Row ID</th>\n",
       "      <th>Order ID</th>\n",
       "      <th>Order Date</th>\n",
       "      <th>Order Priority</th>\n",
       "      <th>Order Quantity</th>\n",
       "      <th>Sales</th>\n",
       "      <th>Discount</th>\n",
       "      <th>Ship Mode</th>\n",
       "      <th>Profit</th>\n",
       "      <th>Unit Price</th>\n",
       "      <th>...</th>\n",
       "      <th>Customer Name</th>\n",
       "      <th>Province</th>\n",
       "      <th>Region</th>\n",
       "      <th>Customer Segment</th>\n",
       "      <th>Product Category</th>\n",
       "      <th>Product Sub-Category</th>\n",
       "      <th>Product Name</th>\n",
       "      <th>Product Container</th>\n",
       "      <th>Product Base Margin</th>\n",
       "      <th>Ship Date</th>\n",
       "    </tr>\n",
       "  </thead>\n",
       "  <tbody>\n",
       "    <tr>\n",
       "      <th>0</th>\n",
       "      <td>1</td>\n",
       "      <td>3</td>\n",
       "      <td>2010-10-13</td>\n",
       "      <td>Low</td>\n",
       "      <td>6</td>\n",
       "      <td>261.5400</td>\n",
       "      <td>0.04</td>\n",
       "      <td>Regular Air</td>\n",
       "      <td>-213.250</td>\n",
       "      <td>38.94</td>\n",
       "      <td>...</td>\n",
       "      <td>Muhammed MacIntyre</td>\n",
       "      <td>Nunavut</td>\n",
       "      <td>Nunavut</td>\n",
       "      <td>Small Business</td>\n",
       "      <td>Office Supplies</td>\n",
       "      <td>Storage &amp; Organization</td>\n",
       "      <td>Eldon Base for stackable storage shelf, platinum</td>\n",
       "      <td>Large Box</td>\n",
       "      <td>0.80</td>\n",
       "      <td>2010-10-20</td>\n",
       "    </tr>\n",
       "    <tr>\n",
       "      <th>1</th>\n",
       "      <td>2</td>\n",
       "      <td>6</td>\n",
       "      <td>2012-02-20</td>\n",
       "      <td>Not Specified</td>\n",
       "      <td>2</td>\n",
       "      <td>6.9300</td>\n",
       "      <td>0.01</td>\n",
       "      <td>Regular Air</td>\n",
       "      <td>-4.640</td>\n",
       "      <td>2.08</td>\n",
       "      <td>...</td>\n",
       "      <td>Ruben Dartt</td>\n",
       "      <td>Alberta</td>\n",
       "      <td>West</td>\n",
       "      <td>Corporate</td>\n",
       "      <td>Office Supplies</td>\n",
       "      <td>Scissors, Rulers and Trimmers</td>\n",
       "      <td>Kleencut® Forged Office Shears by Acme United ...</td>\n",
       "      <td>Small Pack</td>\n",
       "      <td>0.55</td>\n",
       "      <td>2012-02-21</td>\n",
       "    </tr>\n",
       "    <tr>\n",
       "      <th>2</th>\n",
       "      <td>3</td>\n",
       "      <td>32</td>\n",
       "      <td>2011-07-15</td>\n",
       "      <td>High</td>\n",
       "      <td>26</td>\n",
       "      <td>2808.0800</td>\n",
       "      <td>0.07</td>\n",
       "      <td>Regular Air</td>\n",
       "      <td>1054.820</td>\n",
       "      <td>107.53</td>\n",
       "      <td>...</td>\n",
       "      <td>Liz Pelletier</td>\n",
       "      <td>Alberta</td>\n",
       "      <td>West</td>\n",
       "      <td>Corporate</td>\n",
       "      <td>Furniture</td>\n",
       "      <td>Office Furnishings</td>\n",
       "      <td>Tenex Contemporary Contur Chairmats for Low an...</td>\n",
       "      <td>Medium Box</td>\n",
       "      <td>0.65</td>\n",
       "      <td>2011-07-17</td>\n",
       "    </tr>\n",
       "    <tr>\n",
       "      <th>3</th>\n",
       "      <td>4</td>\n",
       "      <td>32</td>\n",
       "      <td>2011-07-15</td>\n",
       "      <td>High</td>\n",
       "      <td>24</td>\n",
       "      <td>1761.4000</td>\n",
       "      <td>0.09</td>\n",
       "      <td>Delivery Truck</td>\n",
       "      <td>-1748.560</td>\n",
       "      <td>70.89</td>\n",
       "      <td>...</td>\n",
       "      <td>Liz Pelletier</td>\n",
       "      <td>Alberta</td>\n",
       "      <td>West</td>\n",
       "      <td>Corporate</td>\n",
       "      <td>Furniture</td>\n",
       "      <td>Tables</td>\n",
       "      <td>KI Conference Tables</td>\n",
       "      <td>Jumbo Box</td>\n",
       "      <td>0.72</td>\n",
       "      <td>2011-07-16</td>\n",
       "    </tr>\n",
       "    <tr>\n",
       "      <th>4</th>\n",
       "      <td>5</td>\n",
       "      <td>32</td>\n",
       "      <td>2011-07-15</td>\n",
       "      <td>High</td>\n",
       "      <td>23</td>\n",
       "      <td>160.2335</td>\n",
       "      <td>0.04</td>\n",
       "      <td>Regular Air</td>\n",
       "      <td>-85.129</td>\n",
       "      <td>7.99</td>\n",
       "      <td>...</td>\n",
       "      <td>Liz Pelletier</td>\n",
       "      <td>Alberta</td>\n",
       "      <td>West</td>\n",
       "      <td>Corporate</td>\n",
       "      <td>Technology</td>\n",
       "      <td>Telephones and Communication</td>\n",
       "      <td>Bell Sonecor JB700 Caller ID</td>\n",
       "      <td>Medium Box</td>\n",
       "      <td>0.60</td>\n",
       "      <td>2011-07-17</td>\n",
       "    </tr>\n",
       "  </tbody>\n",
       "</table>\n",
       "<p>5 rows × 21 columns</p>\n",
       "</div>"
      ],
      "text/plain": [
       "   Row ID  Order ID Order Date Order Priority  Order Quantity      Sales  \\\n",
       "0       1         3 2010-10-13            Low               6   261.5400   \n",
       "1       2         6 2012-02-20  Not Specified               2     6.9300   \n",
       "2       3        32 2011-07-15           High              26  2808.0800   \n",
       "3       4        32 2011-07-15           High              24  1761.4000   \n",
       "4       5        32 2011-07-15           High              23   160.2335   \n",
       "\n",
       "   Discount       Ship Mode    Profit  Unit Price  ...       Customer Name  \\\n",
       "0      0.04     Regular Air  -213.250       38.94  ...  Muhammed MacIntyre   \n",
       "1      0.01     Regular Air    -4.640        2.08  ...         Ruben Dartt   \n",
       "2      0.07     Regular Air  1054.820      107.53  ...       Liz Pelletier   \n",
       "3      0.09  Delivery Truck -1748.560       70.89  ...       Liz Pelletier   \n",
       "4      0.04     Regular Air   -85.129        7.99  ...       Liz Pelletier   \n",
       "\n",
       "  Province   Region Customer Segment Product Category  \\\n",
       "0  Nunavut  Nunavut   Small Business  Office Supplies   \n",
       "1  Alberta     West        Corporate  Office Supplies   \n",
       "2  Alberta     West        Corporate        Furniture   \n",
       "3  Alberta     West        Corporate        Furniture   \n",
       "4  Alberta     West        Corporate       Technology   \n",
       "\n",
       "            Product Sub-Category  \\\n",
       "0         Storage & Organization   \n",
       "1  Scissors, Rulers and Trimmers   \n",
       "2             Office Furnishings   \n",
       "3                         Tables   \n",
       "4   Telephones and Communication   \n",
       "\n",
       "                                        Product Name Product Container  \\\n",
       "0   Eldon Base for stackable storage shelf, platinum         Large Box   \n",
       "1  Kleencut® Forged Office Shears by Acme United ...        Small Pack   \n",
       "2  Tenex Contemporary Contur Chairmats for Low an...        Medium Box   \n",
       "3                               KI Conference Tables         Jumbo Box   \n",
       "4                       Bell Sonecor JB700 Caller ID        Medium Box   \n",
       "\n",
       "  Product Base Margin  Ship Date  \n",
       "0                0.80 2010-10-20  \n",
       "1                0.55 2012-02-21  \n",
       "2                0.65 2011-07-17  \n",
       "3                0.72 2011-07-16  \n",
       "4                0.60 2011-07-17  \n",
       "\n",
       "[5 rows x 21 columns]"
      ]
     },
     "execution_count": 121,
     "metadata": {},
     "output_type": "execute_result"
    }
   ],
   "source": [
    "sd = pd.read_excel('C:/Users/H/Downloads/d.xlsx')\n",
    "sd.head()"
   ]
  },
  {
   "cell_type": "code",
   "execution_count": 122,
   "metadata": {},
   "outputs": [
    {
     "data": {
      "text/plain": [
       "<bound method Series.to_period of 0      2010-10-13\n",
       "1      2012-02-20\n",
       "2      2011-07-15\n",
       "3      2011-07-15\n",
       "4      2011-07-15\n",
       "          ...    \n",
       "8394   2011-05-31\n",
       "8395   2011-05-31\n",
       "8396   2011-05-31\n",
       "8397   2011-11-15\n",
       "8398   2011-11-15\n",
       "Name: Order Date, Length: 8399, dtype: datetime64[ns]>"
      ]
     },
     "execution_count": 122,
     "metadata": {},
     "output_type": "execute_result"
    }
   ],
   "source": [
    "#pd.Series(self,freq = None,copy = True)\n",
    "#Convert Series from Datetimeindex to PeriodIndex with desired frequency\n",
    "pd.Series(sd['Order Date']).to_period"
   ]
  },
  {
   "cell_type": "code",
   "execution_count": 123,
   "metadata": {},
   "outputs": [
    {
     "data": {
      "text/plain": [
       "<bound method Series.to_timestamp of 0      2010-10-13\n",
       "1      2012-02-20\n",
       "2      2011-07-15\n",
       "3      2011-07-15\n",
       "4      2011-07-15\n",
       "          ...    \n",
       "8394   2011-05-31\n",
       "8395   2011-05-31\n",
       "8396   2011-05-31\n",
       "8397   2011-11-15\n",
       "8398   2011-11-15\n",
       "Name: Order Date, Length: 8399, dtype: datetime64[ns]>"
      ]
     },
     "execution_count": 123,
     "metadata": {},
     "output_type": "execute_result"
    }
   ],
   "source": [
    "#pd.Series(Series).to_timestamp\n",
    "#Cast to DatetimeIndex of TimeStamps, at beginning of period\n",
    "\n",
    "aw = pd.Series(sd['Order Date']).to_timestamp\n",
    "aw"
   ]
  },
  {
   "cell_type": "code",
   "execution_count": 124,
   "metadata": {},
   "outputs": [
    {
     "data": {
      "text/plain": [
       "[261.54,\n",
       " 6.93,\n",
       " 2808.08,\n",
       " 1761.4,\n",
       " 160.2335,\n",
       " 140.56,\n",
       " 288.56,\n",
       " 1892.848,\n",
       " 2484.7455,\n",
       " 3812.73,\n",
       " 108.15,\n",
       " 1186.06,\n",
       " 51.53,\n",
       " 90.05,\n",
       " 7804.53,\n",
       " 4158.1235,\n",
       " 75.57,\n",
       " 32.72,\n",
       " 461.89,\n",
       " 575.11,\n",
       " 236.46,\n",
       " 192.814,\n",
       " 4011.65,\n",
       " 1132.6,\n",
       " 125.85,\n",
       " 567.936,\n",
       " 174.89,\n",
       " 329.03,\n",
       " 20.19,\n",
       " 1315.74,\n",
       " 310.52,\n",
       " 184.86,\n",
       " 267.85,\n",
       " 528.5,\n",
       " 126.58,\n",
       " 23.7,\n",
       " 586.11,\n",
       " 599.1,\n",
       " 2029.75,\n",
       " 1118.396,\n",
       " 689.74,\n",
       " 154.35,\n",
       " 201.36,\n",
       " 216.77,\n",
       " 5677.609,\n",
       " 136.77,\n",
       " 188.73,\n",
       " 412.62,\n",
       " 10123.02,\n",
       " 244.57,\n",
       " 6375.28,\n",
       " 2634.8555,\n",
       " 281.0,\n",
       " 108.09,\n",
       " 55.34,\n",
       " 3872.634,\n",
       " 884.1275,\n",
       " 218.27,\n",
       " 100.95,\n",
       " 46.94,\n",
       " 1239.6315,\n",
       " 1640.9,\n",
       " 1235.87,\n",
       " 3659.66,\n",
       " 7666.04,\n",
       " 14.96,\n",
       " 15.69,\n",
       " 517.93,\n",
       " 1156.6715,\n",
       " 15260.78,\n",
       " 540.41,\n",
       " 43.29,\n",
       " 41.7,\n",
       " 1162.4005,\n",
       " 356.7,\n",
       " 1000.78,\n",
       " 543.72,\n",
       " 234.2,\n",
       " 4509.3775,\n",
       " 4965.7595,\n",
       " 210.4,\n",
       " 1309.53,\n",
       " 806.37,\n",
       " 5437.92,\n",
       " 394.27,\n",
       " 146.69,\n",
       " 129.49,\n",
       " 202.95,\n",
       " 2753.1925,\n",
       " 70.24,\n",
       " 40.75,\n",
       " 1150.88,\n",
       " 283.65,\n",
       " 840.04,\n",
       " 262.87,\n",
       " 2531.0875,\n",
       " 93.54,\n",
       " 905.08,\n",
       " 628.22,\n",
       " 3366.1,\n",
       " 4913.69,\n",
       " 464.77,\n",
       " 2781.82,\n",
       " 1679.58,\n",
       " 557.85,\n",
       " 173.2,\n",
       " 228.41,\n",
       " 75.14,\n",
       " 161.77,\n",
       " 447.09,\n",
       " 4192.88,\n",
       " 560.51,\n",
       " 189.95,\n",
       " 28.01,\n",
       " 4261.94,\n",
       " 88.84,\n",
       " 589.24,\n",
       " 233.05,\n",
       " 2071.3395,\n",
       " 126.57,\n",
       " 43.57,\n",
       " 31.87,\n",
       " 59.85,\n",
       " 378.6,\n",
       " 38.5,\n",
       " 197.56,\n",
       " 196.85,\n",
       " 124.56,\n",
       " 53.46,\n",
       " 19.32,\n",
       " 1813.04,\n",
       " 125.16,\n",
       " 65.7,\n",
       " 716.84,\n",
       " 1474.33,\n",
       " 1661.04,\n",
       " 104.94,\n",
       " 1246.52,\n",
       " 676.13,\n",
       " 7668.55,\n",
       " 1193.65,\n",
       " 1925.83,\n",
       " 1222.68,\n",
       " 390.2,\n",
       " 227.66,\n",
       " 84.33,\n",
       " 922.39,\n",
       " 79.19,\n",
       " 80.61,\n",
       " 605.97,\n",
       " 4064.05,\n",
       " 3213.87,\n",
       " 315.02,\n",
       " 40.02,\n",
       " 11230.25,\n",
       " 90.56,\n",
       " 1634.9,\n",
       " 11278.18,\n",
       " 132.07,\n",
       " 1815.49,\n",
       " 248.26,\n",
       " 583.64,\n",
       " 1406.15,\n",
       " 165.75,\n",
       " 2021.147,\n",
       " 226.1,\n",
       " 341.36,\n",
       " 469.438,\n",
       " 127.33,\n",
       " 990.1,\n",
       " 1187.55,\n",
       " 269.02,\n",
       " 142.18,\n",
       " 5340.5,\n",
       " 4462.23,\n",
       " 663.784,\n",
       " 115.1,\n",
       " 516.65,\n",
       " 374.78,\n",
       " 222.91,\n",
       " 129.1,\n",
       " 3532.96,\n",
       " 662.16,\n",
       " 46.46,\n",
       " 14.68,\n",
       " 10145.14,\n",
       " 68.45,\n",
       " 257.39,\n",
       " 494.34,\n",
       " 827.27,\n",
       " 892.38,\n",
       " 29.41,\n",
       " 3874.12,\n",
       " 1452.216,\n",
       " 234.37,\n",
       " 1000.3565,\n",
       " 3908.65,\n",
       " 840.07,\n",
       " 42.58,\n",
       " 523.42,\n",
       " 192.54,\n",
       " 156.7,\n",
       " 834.904,\n",
       " 2480.9205,\n",
       " 2443.85,\n",
       " 4789.89,\n",
       " 89.335,\n",
       " 158.46,\n",
       " 7180.83,\n",
       " 17129.97,\n",
       " 5748.2,\n",
       " 6717.9325,\n",
       " 59.03,\n",
       " 97.48,\n",
       " 4530.96,\n",
       " 726.22,\n",
       " 21717.36,\n",
       " 15823.27,\n",
       " 21.44,\n",
       " 416.4,\n",
       " 772.24,\n",
       " 1326.09,\n",
       " 339.49,\n",
       " 2135.9735,\n",
       " 293.18,\n",
       " 4345.86,\n",
       " 16.6,\n",
       " 1297.304,\n",
       " 511.83,\n",
       " 184.99,\n",
       " 80.9,\n",
       " 2150.25,\n",
       " 448.0,\n",
       " 759.94,\n",
       " 133.65,\n",
       " 525.674,\n",
       " 303.59,\n",
       " 191.6,\n",
       " 622.82,\n",
       " 1225.52,\n",
       " 1024.29,\n",
       " 1348.57,\n",
       " 163.14,\n",
       " 755.6075,\n",
       " 5642.18,\n",
       " 430.88,\n",
       " 2047.58,\n",
       " 56.61,\n",
       " 67.24,\n",
       " 12028.23,\n",
       " 857.11,\n",
       " 69.6,\n",
       " 1279.505,\n",
       " 59.99,\n",
       " 46.34,\n",
       " 370.48,\n",
       " 233.43,\n",
       " 183.41,\n",
       " 1187.12,\n",
       " 108.31,\n",
       " 10656.26,\n",
       " 17.06,\n",
       " 38.26,\n",
       " 28.32,\n",
       " 133.04,\n",
       " 12586.19,\n",
       " 1449.3,\n",
       " 4374.6865,\n",
       " 4283.235,\n",
       " 199.76,\n",
       " 2415.38,\n",
       " 1264.46,\n",
       " 158.25,\n",
       " 302.36,\n",
       " 193.63,\n",
       " 64.29,\n",
       " 41.25,\n",
       " 7871.91,\n",
       " 909.82,\n",
       " 1874.37,\n",
       " 7287.55,\n",
       " 137.64,\n",
       " 15464.01,\n",
       " 11.35,\n",
       " 122.14,\n",
       " 3491.06,\n",
       " 14383.83,\n",
       " 213.75,\n",
       " 186.44,\n",
       " 294.89,\n",
       " 246.57,\n",
       " 3752.61,\n",
       " 548.36,\n",
       " 44.46,\n",
       " 542.11,\n",
       " 107.93,\n",
       " 19342.84,\n",
       " 771.783,\n",
       " 343.78,\n",
       " 826.09,\n",
       " 66.41,\n",
       " 692.73,\n",
       " 1411.58,\n",
       " 2115.242,\n",
       " 1246.68,\n",
       " 5945.3675,\n",
       " 6111.1685,\n",
       " 113.71,\n",
       " 605.1,\n",
       " 43.56,\n",
       " 3905.75,\n",
       " 102.56,\n",
       " 15.87,\n",
       " 82.06,\n",
       " 23281.05,\n",
       " 9418.73,\n",
       " 5.68,\n",
       " 174.59,\n",
       " 1265.497,\n",
       " 1651.09,\n",
       " 95.89,\n",
       " 80.38,\n",
       " 40.31,\n",
       " 186.02,\n",
       " 142.44,\n",
       " 967.78,\n",
       " 88.61,\n",
       " 21134.71,\n",
       " 7680.29,\n",
       " 278.0,\n",
       " 66.54,\n",
       " 845.32,\n",
       " 4577.18,\n",
       " 845.9,\n",
       " 3116.47,\n",
       " 12.41,\n",
       " 1382.8,\n",
       " 113.5,\n",
       " 182.33,\n",
       " 27.01,\n",
       " 1324.09,\n",
       " 1634.98,\n",
       " 157.49,\n",
       " 508.73,\n",
       " 679.6,\n",
       " 257.42,\n",
       " 317.59,\n",
       " 78.17,\n",
       " 24105.87,\n",
       " 330.21,\n",
       " 278.68,\n",
       " 717.468,\n",
       " 1082.45,\n",
       " 2553.84,\n",
       " 4147.47,\n",
       " 3629.1175,\n",
       " 22.56,\n",
       " 91.15,\n",
       " 171.48,\n",
       " 162.1545,\n",
       " 23.46,\n",
       " 282.07,\n",
       " 426.037,\n",
       " 82.72,\n",
       " 731.22,\n",
       " 114.14,\n",
       " 64.82,\n",
       " 77.6,\n",
       " 821.18,\n",
       " 31.77,\n",
       " 208.05,\n",
       " 2004.12,\n",
       " 3841.72,\n",
       " 11764.25,\n",
       " 25.17,\n",
       " 208.47,\n",
       " 48.37,\n",
       " 34.59,\n",
       " 5029.216,\n",
       " 146.51,\n",
       " 1078.49,\n",
       " 523.11,\n",
       " 913.41,\n",
       " 8316.76,\n",
       " 2143.2155,\n",
       " 229.51,\n",
       " 473.0,\n",
       " 881.65,\n",
       " 2080.035,\n",
       " 145.42,\n",
       " 1559.4355,\n",
       " 3363.14,\n",
       " 2051.016,\n",
       " 1895.55,\n",
       " 2178.431,\n",
       " 695.47,\n",
       " 152.59,\n",
       " 365.62,\n",
       " 575.569,\n",
       " 1427.67,\n",
       " 499.26,\n",
       " 736.3,\n",
       " 346.06,\n",
       " 1344.88,\n",
       " 248.54,\n",
       " 3554.46,\n",
       " 569.32,\n",
       " 827.47,\n",
       " 45.91,\n",
       " 22319.58,\n",
       " 330.24,\n",
       " 520.65,\n",
       " 191.67,\n",
       " 5586.33,\n",
       " 507.64,\n",
       " 787.56,\n",
       " 3830.14,\n",
       " 1559.86,\n",
       " 565.91,\n",
       " 593.21,\n",
       " 89.23,\n",
       " 357.43,\n",
       " 4754.08,\n",
       " 1476.39,\n",
       " 863.583,\n",
       " 74.87,\n",
       " 3931.318,\n",
       " 4253.65,\n",
       " 3872.87,\n",
       " 356.72,\n",
       " 2154.34,\n",
       " 197.41,\n",
       " 712.18,\n",
       " 16587.13,\n",
       " 507.98,\n",
       " 62.88,\n",
       " 231.26,\n",
       " 987.17,\n",
       " 57.04,\n",
       " 14223.82,\n",
       " 6264.1855,\n",
       " 5410.95,\n",
       " 4671.1495,\n",
       " 6831.72,\n",
       " 120.03,\n",
       " 4002.14,\n",
       " 98.39,\n",
       " 103.87,\n",
       " 10094.43,\n",
       " 10.58,\n",
       " 2119.67,\n",
       " 45923.76,\n",
       " 33.86,\n",
       " 316.61,\n",
       " 336.06,\n",
       " 380.38,\n",
       " 65.39,\n",
       " 1005.74,\n",
       " 6477.7395,\n",
       " 1601.32,\n",
       " 238.74,\n",
       " 718.03,\n",
       " 534.96,\n",
       " 80.6,\n",
       " 35.58,\n",
       " 584.511,\n",
       " 3553.62,\n",
       " 554.21,\n",
       " 136.61,\n",
       " 2907.63,\n",
       " 42.66,\n",
       " 142.97,\n",
       " 17.12,\n",
       " 11532.99,\n",
       " 146.1,\n",
       " 158.7,\n",
       " 92.02,\n",
       " 1736.41,\n",
       " 153.28,\n",
       " 22.19,\n",
       " 927.97,\n",
       " 59.05,\n",
       " 213.71,\n",
       " 133.66,\n",
       " 1699.52,\n",
       " 760.85,\n",
       " 8185.89,\n",
       " 127.74,\n",
       " 325.92,\n",
       " 181.17,\n",
       " 13.16,\n",
       " 107.88,\n",
       " 623.02,\n",
       " 815.89,\n",
       " 30.61,\n",
       " 5418.68,\n",
       " 627.91,\n",
       " 46.89,\n",
       " 2152.404,\n",
       " 153.23,\n",
       " 2053.379,\n",
       " 3206.3955,\n",
       " 264.75,\n",
       " 4669.19,\n",
       " 133.4,\n",
       " 2393.63,\n",
       " 6177.53,\n",
       " 94.6,\n",
       " 7518.12,\n",
       " 204.11,\n",
       " 1935.17,\n",
       " 812.68,\n",
       " 427.32,\n",
       " 115.43,\n",
       " 246.06,\n",
       " 20.5,\n",
       " 288.91,\n",
       " 269.37,\n",
       " 4933.99,\n",
       " 136.67,\n",
       " 259.72,\n",
       " 54.69,\n",
       " 383.57,\n",
       " 461.1,\n",
       " 374.38,\n",
       " 1557.42,\n",
       " 410.27,\n",
       " 1531.93,\n",
       " 72.93,\n",
       " 321.57,\n",
       " 1085.16,\n",
       " 83.87,\n",
       " 76.6,\n",
       " 134.81,\n",
       " 5488.5265,\n",
       " 79.42,\n",
       " 75.6,\n",
       " 139.95,\n",
       " 5207.5,\n",
       " 271.11,\n",
       " 95.73,\n",
       " 7338.79,\n",
       " 12569.31,\n",
       " 62.54,\n",
       " 2750.107,\n",
       " 177.95,\n",
       " 99.53,\n",
       " 106.78,\n",
       " 79.37,\n",
       " 1143.35,\n",
       " 1463.0965,\n",
       " 246.3,\n",
       " 353.62,\n",
       " 76.16,\n",
       " 244.85,\n",
       " 268.09,\n",
       " 557.03,\n",
       " 26.53,\n",
       " 5133.9235,\n",
       " 92.14,\n",
       " 257.43,\n",
       " 6.13,\n",
       " 221.86,\n",
       " 78.26,\n",
       " 1225.41,\n",
       " 1184.45,\n",
       " 25409.63,\n",
       " 7308.283,\n",
       " 3064.27,\n",
       " 475.72,\n",
       " 123.91,\n",
       " 700.46,\n",
       " 2537.88,\n",
       " 218.12,\n",
       " 729.83,\n",
       " 1083.19,\n",
       " 820.284,\n",
       " 370.72,\n",
       " 225.14,\n",
       " 1559.7755,\n",
       " 1032.97,\n",
       " 324.83,\n",
       " 316.35,\n",
       " 63.52,\n",
       " 1512.25,\n",
       " 1441.61,\n",
       " 1038.4,\n",
       " 305.82,\n",
       " 763.12,\n",
       " 19269.05,\n",
       " 3367.24,\n",
       " 5723.24,\n",
       " 188.07,\n",
       " 118.38,\n",
       " 54.43,\n",
       " 124.94,\n",
       " 78.46,\n",
       " 646.07,\n",
       " 128.28,\n",
       " 1691.51,\n",
       " 122.93,\n",
       " 47.86,\n",
       " 3607.8505,\n",
       " 42.5,\n",
       " 391.42,\n",
       " 14.76,\n",
       " 6403.39,\n",
       " 757.91,\n",
       " 381.6,\n",
       " 138.85,\n",
       " 64.29,\n",
       " 75.77,\n",
       " 255.74,\n",
       " 639.71,\n",
       " 409.16,\n",
       " 2508.316,\n",
       " 253.89,\n",
       " 1556.87,\n",
       " 195.98,\n",
       " 9235.97,\n",
       " 274.38,\n",
       " 17.72,\n",
       " 1505.57,\n",
       " 1165.33,\n",
       " 49.04,\n",
       " 215.76,\n",
       " 640.21,\n",
       " 179.45,\n",
       " 7987.43,\n",
       " 2455.276,\n",
       " 2592.432,\n",
       " 7441.29,\n",
       " 313.43,\n",
       " 390.11,\n",
       " 992.95,\n",
       " 55.45,\n",
       " 279.29,\n",
       " 325.24,\n",
       " 6077.11,\n",
       " 2841.4395,\n",
       " 887.94,\n",
       " 294.78,\n",
       " 126.38,\n",
       " 33.1,\n",
       " 3730.54,\n",
       " 282.71,\n",
       " 724.13,\n",
       " 294.66,\n",
       " 1765.05,\n",
       " 7384.54,\n",
       " 2325.42,\n",
       " 3021.64,\n",
       " 66.88,\n",
       " 447.34,\n",
       " 16172.44,\n",
       " 89.55,\n",
       " 65.61,\n",
       " 309.62,\n",
       " 920.0,\n",
       " 104.2,\n",
       " 3563.88,\n",
       " 1590.163,\n",
       " 482.93,\n",
       " 1203.73,\n",
       " 75.19,\n",
       " 152.44,\n",
       " 3041.33,\n",
       " 17.89,\n",
       " 1210.0515,\n",
       " 187.83,\n",
       " 49.59,\n",
       " 4253.009,\n",
       " 123.85,\n",
       " 2116.7,\n",
       " 180.38,\n",
       " 314.21,\n",
       " 10.39,\n",
       " 48.57,\n",
       " 342.97,\n",
       " 352.55,\n",
       " 719.64,\n",
       " 117.4,\n",
       " 135.928,\n",
       " 1560.617,\n",
       " 6746.312,\n",
       " 311.38,\n",
       " 126.87,\n",
       " 41.94,\n",
       " 89.25,\n",
       " 79.81,\n",
       " 463.83,\n",
       " 55.38,\n",
       " 9.4,\n",
       " 159.43,\n",
       " 4901.99,\n",
       " 17248.09,\n",
       " 775.74,\n",
       " 238.34,\n",
       " 831.52,\n",
       " 1089.87,\n",
       " 121.3,\n",
       " 168.31,\n",
       " 4282.725,\n",
       " 109.37,\n",
       " 106.64,\n",
       " 40.87,\n",
       " 8363.65,\n",
       " 1068.79,\n",
       " 287.13,\n",
       " 4305.79,\n",
       " 79.68,\n",
       " 41.18,\n",
       " 12.8,\n",
       " 709.04,\n",
       " 978.77,\n",
       " 79.58,\n",
       " 786.675,\n",
       " 1991.703,\n",
       " 4896.93,\n",
       " 569.21,\n",
       " 192.8,\n",
       " 900.06,\n",
       " 2066.63,\n",
       " 24.72,\n",
       " 339.35,\n",
       " 33.67,\n",
       " 1347.63,\n",
       " 14451.75,\n",
       " 3821.039,\n",
       " 1735.3515,\n",
       " 4733.7,\n",
       " 2718.07,\n",
       " 2508.673,\n",
       " 59.38,\n",
       " 1285.37,\n",
       " 212.57,\n",
       " 1469.48,\n",
       " 4279.24,\n",
       " 1042.25,\n",
       " 5010.7415,\n",
       " 2932.99,\n",
       " 9194.8,\n",
       " 2285.12,\n",
       " 525.555,\n",
       " 276.029,\n",
       " 187.204,\n",
       " 434.73,\n",
       " 7017.42,\n",
       " 54.28,\n",
       " 4888.14,\n",
       " 63.87,\n",
       " 260.12,\n",
       " 88.82,\n",
       " 2392.23,\n",
       " 48.91,\n",
       " 284.62,\n",
       " 226.83,\n",
       " 278.92,\n",
       " 885.94,\n",
       " 29.42,\n",
       " 46.48,\n",
       " 433.68,\n",
       " 216.08,\n",
       " 339.03,\n",
       " 1098.149,\n",
       " 355.69,\n",
       " 49.55,\n",
       " 606.56,\n",
       " 129.62,\n",
       " 68.46,\n",
       " 885.23,\n",
       " 116.38,\n",
       " 129.44,\n",
       " 1829.387,\n",
       " 1281.28,\n",
       " 1940.31,\n",
       " 430.848,\n",
       " 703.54,\n",
       " 65.93,\n",
       " 67.3,\n",
       " 120.22,\n",
       " 118.97,\n",
       " 288.55,\n",
       " 254.69,\n",
       " 120.53,\n",
       " 61.8715,\n",
       " 198.78,\n",
       " 281.58,\n",
       " 138.17,\n",
       " 501.38,\n",
       " 2206.17,\n",
       " 621.12,\n",
       " 175.92,\n",
       " 371.68,\n",
       " 297.05,\n",
       " 108.26,\n",
       " 9.25,\n",
       " 573.89,\n",
       " 2039.39,\n",
       " 357.96,\n",
       " 2665.64,\n",
       " 5261.73,\n",
       " 193.79,\n",
       " 849.46,\n",
       " 163.54,\n",
       " 2390.54,\n",
       " 9626.86,\n",
       " 6005.21,\n",
       " 2012.14,\n",
       " 10307.01,\n",
       " 2531.66,\n",
       " 5382.3105,\n",
       " 56.73,\n",
       " 933.21,\n",
       " 813.535,\n",
       " 44.45,\n",
       " 384.33,\n",
       " 239.03,\n",
       " 582.59,\n",
       " 384.74,\n",
       " 3922.42,\n",
       " 1733.3625,\n",
       " 18316.3,\n",
       " 68.32,\n",
       " 536.38,\n",
       " 391.8755,\n",
       " 2036.97,\n",
       " 2629.664,\n",
       " 394.62,\n",
       " 464.64,\n",
       " 96.68,\n",
       " 5556.18,\n",
       " 1021.55,\n",
       " 205.24,\n",
       " 19109.61,\n",
       " 155.48,\n",
       " 56.77,\n",
       " 63.91,\n",
       " 208.28,\n",
       " 206.09,\n",
       " 124.25,\n",
       " 66.09,\n",
       " 261.94,\n",
       " 9574.82,\n",
       " 16.08,\n",
       " 27.32,\n",
       " 643.31,\n",
       " 1734.72,\n",
       " 1597.37,\n",
       " 1753.958,\n",
       " 409.08,\n",
       " 150.77,\n",
       " 9620.82,\n",
       " 157.03,\n",
       " 67.35,\n",
       " 1472.31,\n",
       " 510.56,\n",
       " 389.52,\n",
       " 191.14,\n",
       " 477.53,\n",
       " 2690.7515,\n",
       " 2443.342,\n",
       " 255.48,\n",
       " 130.32,\n",
       " 1991.93,\n",
       " 67.72,\n",
       " 68.64,\n",
       " 133.94,\n",
       " 5433.0895,\n",
       " 52.38,\n",
       " 497.4,\n",
       " 4965.384,\n",
       " 358.4195,\n",
       " 3232.68,\n",
       " 46.36,\n",
       " 3283.74,\n",
       " 199.11,\n",
       " 29.79,\n",
       " 216.95,\n",
       " 1297.4485,\n",
       " 320.26,\n",
       " 3397.72,\n",
       " 449.42,\n",
       " 303.69,\n",
       " 19100.45,\n",
       " 14922.16,\n",
       " 62.77,\n",
       " 857.42,\n",
       " 2.24,\n",
       " 373.33,\n",
       " 17874.26,\n",
       " 92.63,\n",
       " 311.08,\n",
       " 159.26,\n",
       " 59.58,\n",
       " 75.72,\n",
       " 225.21,\n",
       " 57.84,\n",
       " 3991.99,\n",
       " 240.14,\n",
       " 336.85,\n",
       " 448.07,\n",
       " 38.29,\n",
       " 236.99,\n",
       " 4617.336,\n",
       " 116.11,\n",
       " 306.92,\n",
       " 89.71,\n",
       " 188.23,\n",
       " 541.95,\n",
       " 312.36,\n",
       " 169.18,\n",
       " 8252.392,\n",
       " 17274.87,\n",
       " 448.23,\n",
       " 748.83,\n",
       " 194.29,\n",
       " 1621.1,\n",
       " 18028.07,\n",
       " 21062.91,\n",
       " 1802.0,\n",
       " 1832.22,\n",
       " 19224.92,\n",
       " 778.62,\n",
       " 40.85,\n",
       " 295.24,\n",
       " 164.62,\n",
       " 4225.77,\n",
       " 53.89,\n",
       " 33.43,\n",
       " 53.14,\n",
       " 2388.636,\n",
       " 156.47,\n",
       " 869.78,\n",
       " 2503.008,\n",
       " 181.32,\n",
       " 127.84,\n",
       " 11.15,\n",
       " 730.33,\n",
       " 1262.72,\n",
       " 524.19,\n",
       " 116.84,\n",
       " 81.56,\n",
       " 2088.5,\n",
       " 2126.72,\n",
       " 3753.72,\n",
       " 22.13,\n",
       " 129.84,\n",
       " 235.49,\n",
       " 217.0,\n",
       " 296.13,\n",
       " 481.27,\n",
       " 879.54,\n",
       " 8177.07,\n",
       " 294.52,\n",
       " 436.17,\n",
       " 1559.5,\n",
       " 520.49,\n",
       " 1143.88,\n",
       " 187.3995,\n",
       " 371.95,\n",
       " 334.89,\n",
       " 136.29,\n",
       " 1311.25,\n",
       " 544.41,\n",
       " 844.09,\n",
       " 1880.8,\n",
       " 7143.927,\n",
       " 1187.864,\n",
       " 11.08,\n",
       " 258.61,\n",
       " 241.89,\n",
       " 83.34,\n",
       " 304.52,\n",
       " 112.12,\n",
       " 49.58,\n",
       " 1939.65,\n",
       " 465.52,\n",
       " 12296.49,\n",
       " 128.13,\n",
       " 77.19,\n",
       " 118.98,\n",
       " 4910.09,\n",
       " 1058.45,\n",
       " 172.04,\n",
       " 113.14,\n",
       " 1724.82,\n",
       " 6396.2,\n",
       " 642.9,\n",
       " 47.28,\n",
       " 132.86,\n",
       " 446.72,\n",
       " 1580.6005,\n",
       " 1703.8505,\n",
       " 303.1865,\n",
       " 141.92,\n",
       " 748.25,\n",
       " 21752.01,\n",
       " 6206.16,\n",
       " 262.32,\n",
       " ...]"
      ]
     },
     "execution_count": 124,
     "metadata": {},
     "output_type": "execute_result"
    }
   ],
   "source": [
    "#pd.Series(Series).to_list()\n",
    "#Return a list of values\n",
    "\n",
    "pd.Series(sd['Sales']).to_list()"
   ]
  },
  {
   "cell_type": "code",
   "execution_count": 125,
   "metadata": {},
   "outputs": [
    {
     "data": {
      "text/plain": [
       "array(['Muhammed MacIntyre', 'Ruben Dartt', 'Liz Pelletier', ...,\n",
       "       'Brad Thomas', 'Suzanne McNair', 'Suzanne McNair'], dtype=object)"
      ]
     },
     "execution_count": 125,
     "metadata": {},
     "output_type": "execute_result"
    }
   ],
   "source": [
    "#pd.Series(Series).__array__()\n",
    "#Returns the values as a NumPy array\n",
    "\n",
    "pd.Series(sd['Customer Name']).__array__()"
   ]
  },
  {
   "cell_type": "code",
   "execution_count": 126,
   "metadata": {},
   "outputs": [
    {
     "data": {
      "text/html": [
       "<div>\n",
       "<style scoped>\n",
       "    .dataframe tbody tr th:only-of-type {\n",
       "        vertical-align: middle;\n",
       "    }\n",
       "\n",
       "    .dataframe tbody tr th {\n",
       "        vertical-align: top;\n",
       "    }\n",
       "\n",
       "    .dataframe thead th {\n",
       "        text-align: right;\n",
       "    }\n",
       "</style>\n",
       "<table border=\"1\" class=\"dataframe\">\n",
       "  <thead>\n",
       "    <tr style=\"text-align: right;\">\n",
       "      <th></th>\n",
       "      <th>Row ID</th>\n",
       "      <th>Order ID</th>\n",
       "      <th>Order Date</th>\n",
       "      <th>Order Priority</th>\n",
       "      <th>Order Quantity</th>\n",
       "      <th>Sales</th>\n",
       "      <th>Discount</th>\n",
       "      <th>Ship Mode</th>\n",
       "      <th>Profit</th>\n",
       "      <th>Unit Price</th>\n",
       "      <th>...</th>\n",
       "      <th>Customer Name</th>\n",
       "      <th>Province</th>\n",
       "      <th>Region</th>\n",
       "      <th>Customer Segment</th>\n",
       "      <th>Product Category</th>\n",
       "      <th>Product Sub-Category</th>\n",
       "      <th>Product Name</th>\n",
       "      <th>Product Container</th>\n",
       "      <th>Product Base Margin</th>\n",
       "      <th>Ship Date</th>\n",
       "    </tr>\n",
       "  </thead>\n",
       "  <tbody>\n",
       "    <tr>\n",
       "      <th>0</th>\n",
       "      <td>1</td>\n",
       "      <td>3</td>\n",
       "      <td>2010-10-13</td>\n",
       "      <td>Low</td>\n",
       "      <td>6</td>\n",
       "      <td>261.5400</td>\n",
       "      <td>0.04</td>\n",
       "      <td>Regular Air</td>\n",
       "      <td>-213.250</td>\n",
       "      <td>38.94</td>\n",
       "      <td>...</td>\n",
       "      <td>Muhammed MacIntyre</td>\n",
       "      <td>Nunavut</td>\n",
       "      <td>Nunavut</td>\n",
       "      <td>Small Business</td>\n",
       "      <td>Office Supplies</td>\n",
       "      <td>Storage &amp; Organization</td>\n",
       "      <td>Eldon Base for stackable storage shelf, platinum</td>\n",
       "      <td>Large Box</td>\n",
       "      <td>0.80</td>\n",
       "      <td>2010-10-20</td>\n",
       "    </tr>\n",
       "    <tr>\n",
       "      <th>1</th>\n",
       "      <td>2</td>\n",
       "      <td>6</td>\n",
       "      <td>2012-02-20</td>\n",
       "      <td>Not Specified</td>\n",
       "      <td>2</td>\n",
       "      <td>6.9300</td>\n",
       "      <td>0.01</td>\n",
       "      <td>Regular Air</td>\n",
       "      <td>-4.640</td>\n",
       "      <td>2.08</td>\n",
       "      <td>...</td>\n",
       "      <td>Ruben Dartt</td>\n",
       "      <td>Alberta</td>\n",
       "      <td>West</td>\n",
       "      <td>Corporate</td>\n",
       "      <td>Office Supplies</td>\n",
       "      <td>Scissors, Rulers and Trimmers</td>\n",
       "      <td>Kleencut® Forged Office Shears by Acme United ...</td>\n",
       "      <td>Small Pack</td>\n",
       "      <td>0.55</td>\n",
       "      <td>2012-02-21</td>\n",
       "    </tr>\n",
       "    <tr>\n",
       "      <th>2</th>\n",
       "      <td>3</td>\n",
       "      <td>32</td>\n",
       "      <td>2011-07-15</td>\n",
       "      <td>High</td>\n",
       "      <td>26</td>\n",
       "      <td>2808.0800</td>\n",
       "      <td>0.07</td>\n",
       "      <td>Regular Air</td>\n",
       "      <td>1054.820</td>\n",
       "      <td>107.53</td>\n",
       "      <td>...</td>\n",
       "      <td>Liz Pelletier</td>\n",
       "      <td>Alberta</td>\n",
       "      <td>West</td>\n",
       "      <td>Corporate</td>\n",
       "      <td>Furniture</td>\n",
       "      <td>Office Furnishings</td>\n",
       "      <td>Tenex Contemporary Contur Chairmats for Low an...</td>\n",
       "      <td>Medium Box</td>\n",
       "      <td>0.65</td>\n",
       "      <td>2011-07-17</td>\n",
       "    </tr>\n",
       "    <tr>\n",
       "      <th>3</th>\n",
       "      <td>4</td>\n",
       "      <td>32</td>\n",
       "      <td>2011-07-15</td>\n",
       "      <td>High</td>\n",
       "      <td>24</td>\n",
       "      <td>1761.4000</td>\n",
       "      <td>0.09</td>\n",
       "      <td>Delivery Truck</td>\n",
       "      <td>-1748.560</td>\n",
       "      <td>70.89</td>\n",
       "      <td>...</td>\n",
       "      <td>Liz Pelletier</td>\n",
       "      <td>Alberta</td>\n",
       "      <td>West</td>\n",
       "      <td>Corporate</td>\n",
       "      <td>Furniture</td>\n",
       "      <td>Tables</td>\n",
       "      <td>KI Conference Tables</td>\n",
       "      <td>Jumbo Box</td>\n",
       "      <td>0.72</td>\n",
       "      <td>2011-07-16</td>\n",
       "    </tr>\n",
       "    <tr>\n",
       "      <th>4</th>\n",
       "      <td>5</td>\n",
       "      <td>32</td>\n",
       "      <td>2011-07-15</td>\n",
       "      <td>High</td>\n",
       "      <td>23</td>\n",
       "      <td>160.2335</td>\n",
       "      <td>0.04</td>\n",
       "      <td>Regular Air</td>\n",
       "      <td>-85.129</td>\n",
       "      <td>7.99</td>\n",
       "      <td>...</td>\n",
       "      <td>Liz Pelletier</td>\n",
       "      <td>Alberta</td>\n",
       "      <td>West</td>\n",
       "      <td>Corporate</td>\n",
       "      <td>Technology</td>\n",
       "      <td>Telephones and Communication</td>\n",
       "      <td>Bell Sonecor JB700 Caller ID</td>\n",
       "      <td>Medium Box</td>\n",
       "      <td>0.60</td>\n",
       "      <td>2011-07-17</td>\n",
       "    </tr>\n",
       "  </tbody>\n",
       "</table>\n",
       "<p>5 rows × 21 columns</p>\n",
       "</div>"
      ],
      "text/plain": [
       "   Row ID  Order ID Order Date Order Priority  Order Quantity      Sales  \\\n",
       "0       1         3 2010-10-13            Low               6   261.5400   \n",
       "1       2         6 2012-02-20  Not Specified               2     6.9300   \n",
       "2       3        32 2011-07-15           High              26  2808.0800   \n",
       "3       4        32 2011-07-15           High              24  1761.4000   \n",
       "4       5        32 2011-07-15           High              23   160.2335   \n",
       "\n",
       "   Discount       Ship Mode    Profit  Unit Price  ...       Customer Name  \\\n",
       "0      0.04     Regular Air  -213.250       38.94  ...  Muhammed MacIntyre   \n",
       "1      0.01     Regular Air    -4.640        2.08  ...         Ruben Dartt   \n",
       "2      0.07     Regular Air  1054.820      107.53  ...       Liz Pelletier   \n",
       "3      0.09  Delivery Truck -1748.560       70.89  ...       Liz Pelletier   \n",
       "4      0.04     Regular Air   -85.129        7.99  ...       Liz Pelletier   \n",
       "\n",
       "  Province   Region Customer Segment Product Category  \\\n",
       "0  Nunavut  Nunavut   Small Business  Office Supplies   \n",
       "1  Alberta     West        Corporate  Office Supplies   \n",
       "2  Alberta     West        Corporate        Furniture   \n",
       "3  Alberta     West        Corporate        Furniture   \n",
       "4  Alberta     West        Corporate       Technology   \n",
       "\n",
       "            Product Sub-Category  \\\n",
       "0         Storage & Organization   \n",
       "1  Scissors, Rulers and Trimmers   \n",
       "2             Office Furnishings   \n",
       "3                         Tables   \n",
       "4   Telephones and Communication   \n",
       "\n",
       "                                        Product Name Product Container  \\\n",
       "0   Eldon Base for stackable storage shelf, platinum         Large Box   \n",
       "1  Kleencut® Forged Office Shears by Acme United ...        Small Pack   \n",
       "2  Tenex Contemporary Contur Chairmats for Low an...        Medium Box   \n",
       "3                               KI Conference Tables         Jumbo Box   \n",
       "4                       Bell Sonecor JB700 Caller ID        Medium Box   \n",
       "\n",
       "  Product Base Margin  Ship Date  \n",
       "0                0.80 2010-10-20  \n",
       "1                0.55 2012-02-21  \n",
       "2                0.65 2011-07-17  \n",
       "3                0.72 2011-07-16  \n",
       "4                0.60 2011-07-17  \n",
       "\n",
       "[5 rows x 21 columns]"
      ]
     },
     "execution_count": 126,
     "metadata": {},
     "output_type": "execute_result"
    }
   ],
   "source": [
    "sd.head()"
   ]
  },
  {
   "cell_type": "code",
   "execution_count": 127,
   "metadata": {},
   "outputs": [
    {
     "data": {
      "text/plain": [
       "'Eldon Base for stackable storage shelf, platinum'"
      ]
     },
     "execution_count": 127,
     "metadata": {},
     "output_type": "execute_result"
    }
   ],
   "source": [
    "#pd.Series(Series).get(key)\n",
    "#Get item from object for given key\n",
    "\n",
    "pd.Series(sd['Product Name']).get(key = 0)"
   ]
  },
  {
   "cell_type": "code",
   "execution_count": 128,
   "metadata": {},
   "outputs": [
    {
     "data": {
      "text/plain": [
       "'Eldon Base for stackable storage shelf, platinum'"
      ]
     },
     "execution_count": 128,
     "metadata": {},
     "output_type": "execute_result"
    }
   ],
   "source": [
    "#pd.Series(dataframe specified row/column).at['Column/row as per specified inside series']\n",
    "#Access a single value for a row/column label pair\n",
    "\n",
    "pd.Series(sd.loc[0]).at['Product Name']"
   ]
  },
  {
   "cell_type": "code",
   "execution_count": 129,
   "metadata": {},
   "outputs": [
    {
     "data": {
      "text/html": [
       "<div>\n",
       "<style scoped>\n",
       "    .dataframe tbody tr th:only-of-type {\n",
       "        vertical-align: middle;\n",
       "    }\n",
       "\n",
       "    .dataframe tbody tr th {\n",
       "        vertical-align: top;\n",
       "    }\n",
       "\n",
       "    .dataframe thead th {\n",
       "        text-align: right;\n",
       "    }\n",
       "</style>\n",
       "<table border=\"1\" class=\"dataframe\">\n",
       "  <thead>\n",
       "    <tr style=\"text-align: right;\">\n",
       "      <th></th>\n",
       "      <th>A</th>\n",
       "      <th>B</th>\n",
       "      <th>C</th>\n",
       "    </tr>\n",
       "  </thead>\n",
       "  <tbody>\n",
       "    <tr>\n",
       "      <th>0</th>\n",
       "      <td>0</td>\n",
       "      <td>2</td>\n",
       "      <td>3</td>\n",
       "    </tr>\n",
       "    <tr>\n",
       "      <th>1</th>\n",
       "      <td>0</td>\n",
       "      <td>4</td>\n",
       "      <td>1</td>\n",
       "    </tr>\n",
       "    <tr>\n",
       "      <th>2</th>\n",
       "      <td>10</td>\n",
       "      <td>20</td>\n",
       "      <td>30</td>\n",
       "    </tr>\n",
       "  </tbody>\n",
       "</table>\n",
       "</div>"
      ],
      "text/plain": [
       "    A   B   C\n",
       "0   0   2   3\n",
       "1   0   4   1\n",
       "2  10  20  30"
      ]
     },
     "execution_count": 129,
     "metadata": {},
     "output_type": "execute_result"
    }
   ],
   "source": [
    "df = pd.DataFrame([[0, 2, 3], [0, 4, 1], [10, 20, 30]],columns=['A', 'B', 'C'])\n",
    "df"
   ]
  },
  {
   "cell_type": "code",
   "execution_count": 130,
   "metadata": {},
   "outputs": [
    {
     "data": {
      "text/plain": [
       "2"
      ]
     },
     "execution_count": 130,
     "metadata": {},
     "output_type": "execute_result"
    }
   ],
   "source": [
    "#pd.Series(Series).iat[int position/[row,column]]\n",
    "#Access a single value for a row/colum pair by integer position\n",
    "\n",
    "df.loc[0].iat[1]"
   ]
  },
  {
   "cell_type": "code",
   "execution_count": 131,
   "metadata": {},
   "outputs": [
    {
     "data": {
      "text/html": [
       "<div>\n",
       "<style scoped>\n",
       "    .dataframe tbody tr th:only-of-type {\n",
       "        vertical-align: middle;\n",
       "    }\n",
       "\n",
       "    .dataframe tbody tr th {\n",
       "        vertical-align: top;\n",
       "    }\n",
       "\n",
       "    .dataframe thead th {\n",
       "        text-align: right;\n",
       "    }\n",
       "</style>\n",
       "<table border=\"1\" class=\"dataframe\">\n",
       "  <thead>\n",
       "    <tr style=\"text-align: right;\">\n",
       "      <th></th>\n",
       "      <th>Row ID</th>\n",
       "      <th>Order ID</th>\n",
       "      <th>Order Date</th>\n",
       "      <th>Order Priority</th>\n",
       "      <th>Order Quantity</th>\n",
       "      <th>Sales</th>\n",
       "      <th>Discount</th>\n",
       "      <th>Ship Mode</th>\n",
       "      <th>Profit</th>\n",
       "      <th>Unit Price</th>\n",
       "      <th>...</th>\n",
       "      <th>Customer Name</th>\n",
       "      <th>Province</th>\n",
       "      <th>Region</th>\n",
       "      <th>Customer Segment</th>\n",
       "      <th>Product Category</th>\n",
       "      <th>Product Sub-Category</th>\n",
       "      <th>Product Name</th>\n",
       "      <th>Product Container</th>\n",
       "      <th>Product Base Margin</th>\n",
       "      <th>Ship Date</th>\n",
       "    </tr>\n",
       "  </thead>\n",
       "  <tbody>\n",
       "    <tr>\n",
       "      <th>0</th>\n",
       "      <td>1</td>\n",
       "      <td>3</td>\n",
       "      <td>2010-10-13</td>\n",
       "      <td>Low</td>\n",
       "      <td>6</td>\n",
       "      <td>261.5400</td>\n",
       "      <td>0.04</td>\n",
       "      <td>Regular Air</td>\n",
       "      <td>-213.250</td>\n",
       "      <td>38.94</td>\n",
       "      <td>...</td>\n",
       "      <td>Muhammed MacIntyre</td>\n",
       "      <td>Nunavut</td>\n",
       "      <td>Nunavut</td>\n",
       "      <td>Small Business</td>\n",
       "      <td>Office Supplies</td>\n",
       "      <td>Storage &amp; Organization</td>\n",
       "      <td>Eldon Base for stackable storage shelf, platinum</td>\n",
       "      <td>Large Box</td>\n",
       "      <td>0.80</td>\n",
       "      <td>2010-10-20</td>\n",
       "    </tr>\n",
       "    <tr>\n",
       "      <th>1</th>\n",
       "      <td>2</td>\n",
       "      <td>6</td>\n",
       "      <td>2012-02-20</td>\n",
       "      <td>Not Specified</td>\n",
       "      <td>2</td>\n",
       "      <td>6.9300</td>\n",
       "      <td>0.01</td>\n",
       "      <td>Regular Air</td>\n",
       "      <td>-4.640</td>\n",
       "      <td>2.08</td>\n",
       "      <td>...</td>\n",
       "      <td>Ruben Dartt</td>\n",
       "      <td>Alberta</td>\n",
       "      <td>West</td>\n",
       "      <td>Corporate</td>\n",
       "      <td>Office Supplies</td>\n",
       "      <td>Scissors, Rulers and Trimmers</td>\n",
       "      <td>Kleencut® Forged Office Shears by Acme United ...</td>\n",
       "      <td>Small Pack</td>\n",
       "      <td>0.55</td>\n",
       "      <td>2012-02-21</td>\n",
       "    </tr>\n",
       "    <tr>\n",
       "      <th>2</th>\n",
       "      <td>3</td>\n",
       "      <td>32</td>\n",
       "      <td>2011-07-15</td>\n",
       "      <td>High</td>\n",
       "      <td>26</td>\n",
       "      <td>2808.0800</td>\n",
       "      <td>0.07</td>\n",
       "      <td>Regular Air</td>\n",
       "      <td>1054.820</td>\n",
       "      <td>107.53</td>\n",
       "      <td>...</td>\n",
       "      <td>Liz Pelletier</td>\n",
       "      <td>Alberta</td>\n",
       "      <td>West</td>\n",
       "      <td>Corporate</td>\n",
       "      <td>Furniture</td>\n",
       "      <td>Office Furnishings</td>\n",
       "      <td>Tenex Contemporary Contur Chairmats for Low an...</td>\n",
       "      <td>Medium Box</td>\n",
       "      <td>0.65</td>\n",
       "      <td>2011-07-17</td>\n",
       "    </tr>\n",
       "    <tr>\n",
       "      <th>3</th>\n",
       "      <td>4</td>\n",
       "      <td>32</td>\n",
       "      <td>2011-07-15</td>\n",
       "      <td>High</td>\n",
       "      <td>24</td>\n",
       "      <td>1761.4000</td>\n",
       "      <td>0.09</td>\n",
       "      <td>Delivery Truck</td>\n",
       "      <td>-1748.560</td>\n",
       "      <td>70.89</td>\n",
       "      <td>...</td>\n",
       "      <td>Liz Pelletier</td>\n",
       "      <td>Alberta</td>\n",
       "      <td>West</td>\n",
       "      <td>Corporate</td>\n",
       "      <td>Furniture</td>\n",
       "      <td>Tables</td>\n",
       "      <td>KI Conference Tables</td>\n",
       "      <td>Jumbo Box</td>\n",
       "      <td>0.72</td>\n",
       "      <td>2011-07-16</td>\n",
       "    </tr>\n",
       "    <tr>\n",
       "      <th>4</th>\n",
       "      <td>5</td>\n",
       "      <td>32</td>\n",
       "      <td>2011-07-15</td>\n",
       "      <td>High</td>\n",
       "      <td>23</td>\n",
       "      <td>160.2335</td>\n",
       "      <td>0.04</td>\n",
       "      <td>Regular Air</td>\n",
       "      <td>-85.129</td>\n",
       "      <td>7.99</td>\n",
       "      <td>...</td>\n",
       "      <td>Liz Pelletier</td>\n",
       "      <td>Alberta</td>\n",
       "      <td>West</td>\n",
       "      <td>Corporate</td>\n",
       "      <td>Technology</td>\n",
       "      <td>Telephones and Communication</td>\n",
       "      <td>Bell Sonecor JB700 Caller ID</td>\n",
       "      <td>Medium Box</td>\n",
       "      <td>0.60</td>\n",
       "      <td>2011-07-17</td>\n",
       "    </tr>\n",
       "  </tbody>\n",
       "</table>\n",
       "<p>5 rows × 21 columns</p>\n",
       "</div>"
      ],
      "text/plain": [
       "   Row ID  Order ID Order Date Order Priority  Order Quantity      Sales  \\\n",
       "0       1         3 2010-10-13            Low               6   261.5400   \n",
       "1       2         6 2012-02-20  Not Specified               2     6.9300   \n",
       "2       3        32 2011-07-15           High              26  2808.0800   \n",
       "3       4        32 2011-07-15           High              24  1761.4000   \n",
       "4       5        32 2011-07-15           High              23   160.2335   \n",
       "\n",
       "   Discount       Ship Mode    Profit  Unit Price  ...       Customer Name  \\\n",
       "0      0.04     Regular Air  -213.250       38.94  ...  Muhammed MacIntyre   \n",
       "1      0.01     Regular Air    -4.640        2.08  ...         Ruben Dartt   \n",
       "2      0.07     Regular Air  1054.820      107.53  ...       Liz Pelletier   \n",
       "3      0.09  Delivery Truck -1748.560       70.89  ...       Liz Pelletier   \n",
       "4      0.04     Regular Air   -85.129        7.99  ...       Liz Pelletier   \n",
       "\n",
       "  Province   Region Customer Segment Product Category  \\\n",
       "0  Nunavut  Nunavut   Small Business  Office Supplies   \n",
       "1  Alberta     West        Corporate  Office Supplies   \n",
       "2  Alberta     West        Corporate        Furniture   \n",
       "3  Alberta     West        Corporate        Furniture   \n",
       "4  Alberta     West        Corporate       Technology   \n",
       "\n",
       "            Product Sub-Category  \\\n",
       "0         Storage & Organization   \n",
       "1  Scissors, Rulers and Trimmers   \n",
       "2             Office Furnishings   \n",
       "3                         Tables   \n",
       "4   Telephones and Communication   \n",
       "\n",
       "                                        Product Name Product Container  \\\n",
       "0   Eldon Base for stackable storage shelf, platinum         Large Box   \n",
       "1  Kleencut® Forged Office Shears by Acme United ...        Small Pack   \n",
       "2  Tenex Contemporary Contur Chairmats for Low an...        Medium Box   \n",
       "3                               KI Conference Tables         Jumbo Box   \n",
       "4                       Bell Sonecor JB700 Caller ID        Medium Box   \n",
       "\n",
       "  Product Base Margin  Ship Date  \n",
       "0                0.80 2010-10-20  \n",
       "1                0.55 2012-02-21  \n",
       "2                0.65 2011-07-17  \n",
       "3                0.72 2011-07-16  \n",
       "4                0.60 2011-07-17  \n",
       "\n",
       "[5 rows x 21 columns]"
      ]
     },
     "execution_count": 131,
     "metadata": {},
     "output_type": "execute_result"
    }
   ],
   "source": [
    "sd.head()"
   ]
  },
  {
   "cell_type": "code",
   "execution_count": 132,
   "metadata": {},
   "outputs": [
    {
     "data": {
      "text/plain": [
       "'Regular Air'"
      ]
     },
     "execution_count": 132,
     "metadata": {},
     "output_type": "execute_result"
    }
   ],
   "source": [
    "#pd.Series(Series['row/column']).loc['column/row']\n",
    "#Access a group of rows and columns by labels or a boolean array\n",
    "\n",
    "pd.Series(sd['Ship Mode']).loc[1]"
   ]
  },
  {
   "cell_type": "code",
   "execution_count": 133,
   "metadata": {},
   "outputs": [
    {
     "data": {
      "text/html": [
       "<div>\n",
       "<style scoped>\n",
       "    .dataframe tbody tr th:only-of-type {\n",
       "        vertical-align: middle;\n",
       "    }\n",
       "\n",
       "    .dataframe tbody tr th {\n",
       "        vertical-align: top;\n",
       "    }\n",
       "\n",
       "    .dataframe thead th {\n",
       "        text-align: right;\n",
       "    }\n",
       "</style>\n",
       "<table border=\"1\" class=\"dataframe\">\n",
       "  <thead>\n",
       "    <tr style=\"text-align: right;\">\n",
       "      <th></th>\n",
       "      <th>0</th>\n",
       "      <th>1</th>\n",
       "      <th>2</th>\n",
       "    </tr>\n",
       "  </thead>\n",
       "  <tbody>\n",
       "    <tr>\n",
       "      <th>0</th>\n",
       "      <td>1</td>\n",
       "      <td>12</td>\n",
       "      <td>31</td>\n",
       "    </tr>\n",
       "    <tr>\n",
       "      <th>1</th>\n",
       "      <td>2</td>\n",
       "      <td>23</td>\n",
       "      <td>44</td>\n",
       "    </tr>\n",
       "    <tr>\n",
       "      <th>2</th>\n",
       "      <td>3</td>\n",
       "      <td>32</td>\n",
       "      <td>54</td>\n",
       "    </tr>\n",
       "    <tr>\n",
       "      <th>3</th>\n",
       "      <td>4</td>\n",
       "      <td>42</td>\n",
       "      <td>65</td>\n",
       "    </tr>\n",
       "  </tbody>\n",
       "</table>\n",
       "</div>"
      ],
      "text/plain": [
       "   0   1   2\n",
       "0  1  12  31\n",
       "1  2  23  44\n",
       "2  3  32  54\n",
       "3  4  42  65"
      ]
     },
     "execution_count": 133,
     "metadata": {},
     "output_type": "execute_result"
    }
   ],
   "source": [
    "dfg = pd.DataFrame({0:{'0':1,'1':2,'2':3,'3':4},1:{'0':12,'1':23,'2':32,'3':42},2:{'0':31,'1':44,'2':54,'3':65}})\n",
    "dfg"
   ]
  },
  {
   "cell_type": "code",
   "execution_count": 134,
   "metadata": {},
   "outputs": [
    {
     "data": {
      "text/plain": [
       "0     1\n",
       "1    12\n",
       "2    31\n",
       "Name: 0, dtype: int64"
      ]
     },
     "execution_count": 134,
     "metadata": {},
     "output_type": "execute_result"
    }
   ],
   "source": [
    "#pd.Series(Series).iloc(int or list of integers)\n",
    "#Purely integer-location based indexing for selection by position\n",
    "\n",
    "dfg.iloc[0]"
   ]
  },
  {
   "cell_type": "code",
   "execution_count": 135,
   "metadata": {},
   "outputs": [
    {
     "data": {
      "text/plain": [
       "<map at 0x26cde6a3b48>"
      ]
     },
     "execution_count": 135,
     "metadata": {},
     "output_type": "execute_result"
    }
   ],
   "source": [
    "#pd.Series(scalartype like int,str,timestamp or period if in pandas).__iter__()\n",
    "#Return an iterator of the values\n",
    "#aw is timestamp in the sd['Order Date']\n",
    "\n",
    "pd.Series(aw).__iter__()"
   ]
  },
  {
   "cell_type": "code",
   "execution_count": 136,
   "metadata": {},
   "outputs": [
    {
     "data": {
      "text/plain": [
       "<bound method Series.items of 0    <bound method Series.to_timestamp of 0      20...\n",
       "dtype: object>"
      ]
     },
     "execution_count": 136,
     "metadata": {},
     "output_type": "execute_result"
    }
   ],
   "source": [
    "#pd.Series(scalartype like int,str,timestamp or period if in pandas).items()\n",
    "#Lazily iterate over(index,value) tuples\n",
    "\n",
    "pd.Series(aw).items"
   ]
  },
  {
   "cell_type": "code",
   "execution_count": 137,
   "metadata": {},
   "outputs": [
    {
     "data": {
      "text/plain": [
       "<bound method Series.iteritems of 0    1.0\n",
       "1    5.5\n",
       "2    1.0\n",
       "3    3.0\n",
       "dtype: float64>"
      ]
     },
     "execution_count": 137,
     "metadata": {},
     "output_type": "execute_result"
    }
   ],
   "source": [
    "#pd.Series(tuple).iteritems()\n",
    "#Lazily iterate over (index,value) tuples\n",
    "\n",
    "pd.Series((1,5.5,1,3)).iteritems"
   ]
  },
  {
   "cell_type": "code",
   "execution_count": 138,
   "metadata": {},
   "outputs": [
    {
     "data": {
      "text/plain": [
       "RangeIndex(start=0, stop=5, step=1)"
      ]
     },
     "execution_count": 138,
     "metadata": {},
     "output_type": "execute_result"
    }
   ],
   "source": [
    "#pd.Series(Series).keys()\n",
    "#Return alias for index\n",
    "\n",
    "pd.Series([1,2,1,1,2]).keys()"
   ]
  },
  {
   "cell_type": "code",
   "execution_count": 139,
   "metadata": {},
   "outputs": [
    {
     "data": {
      "text/html": [
       "<div>\n",
       "<style scoped>\n",
       "    .dataframe tbody tr th:only-of-type {\n",
       "        vertical-align: middle;\n",
       "    }\n",
       "\n",
       "    .dataframe tbody tr th {\n",
       "        vertical-align: top;\n",
       "    }\n",
       "\n",
       "    .dataframe thead th {\n",
       "        text-align: right;\n",
       "    }\n",
       "</style>\n",
       "<table border=\"1\" class=\"dataframe\">\n",
       "  <thead>\n",
       "    <tr style=\"text-align: right;\">\n",
       "      <th></th>\n",
       "      <th>Male</th>\n",
       "      <th>Female</th>\n",
       "      <th>Love</th>\n",
       "    </tr>\n",
       "  </thead>\n",
       "  <tbody>\n",
       "    <tr>\n",
       "      <th>0</th>\n",
       "      <td>king</td>\n",
       "      <td>queen</td>\n",
       "      <td>100</td>\n",
       "    </tr>\n",
       "    <tr>\n",
       "      <th>1</th>\n",
       "      <td>Minister</td>\n",
       "      <td>Ministress</td>\n",
       "      <td>90</td>\n",
       "    </tr>\n",
       "    <tr>\n",
       "      <th>2</th>\n",
       "      <td>Man</td>\n",
       "      <td>Woman</td>\n",
       "      <td>80</td>\n",
       "    </tr>\n",
       "  </tbody>\n",
       "</table>\n",
       "</div>"
      ],
      "text/plain": [
       "       Male      Female  Love\n",
       "0      king       queen   100\n",
       "1  Minister  Ministress    90\n",
       "2       Man       Woman    80"
      ]
     },
     "execution_count": 139,
     "metadata": {},
     "output_type": "execute_result"
    }
   ],
   "source": [
    "df5 = pd.DataFrame([('king','queen',100),('Minister','Ministress',90),('Man','Woman',80)],columns = ('Male','Female','Love'))\n",
    "df5"
   ]
  },
  {
   "cell_type": "code",
   "execution_count": 140,
   "metadata": {},
   "outputs": [
    {
     "data": {
      "text/html": [
       "<div>\n",
       "<style scoped>\n",
       "    .dataframe tbody tr th:only-of-type {\n",
       "        vertical-align: middle;\n",
       "    }\n",
       "\n",
       "    .dataframe tbody tr th {\n",
       "        vertical-align: top;\n",
       "    }\n",
       "\n",
       "    .dataframe thead th {\n",
       "        text-align: right;\n",
       "    }\n",
       "</style>\n",
       "<table border=\"1\" class=\"dataframe\">\n",
       "  <thead>\n",
       "    <tr style=\"text-align: right;\">\n",
       "      <th></th>\n",
       "      <th>Male</th>\n",
       "      <th>Female</th>\n",
       "    </tr>\n",
       "  </thead>\n",
       "  <tbody>\n",
       "    <tr>\n",
       "      <th>0</th>\n",
       "      <td>king</td>\n",
       "      <td>queen</td>\n",
       "    </tr>\n",
       "    <tr>\n",
       "      <th>1</th>\n",
       "      <td>Minister</td>\n",
       "      <td>Ministress</td>\n",
       "    </tr>\n",
       "    <tr>\n",
       "      <th>2</th>\n",
       "      <td>Man</td>\n",
       "      <td>Woman</td>\n",
       "    </tr>\n",
       "  </tbody>\n",
       "</table>\n",
       "</div>"
      ],
      "text/plain": [
       "       Male      Female\n",
       "0      king       queen\n",
       "1  Minister  Ministress\n",
       "2       Man       Woman"
      ]
     },
     "execution_count": 140,
     "metadata": {},
     "output_type": "execute_result"
    }
   ],
   "source": [
    "#pd.Series.pop(Frame,label/column to be popped)\n",
    "#Return item and drop from frame and raise key error if not found\n",
    "\n",
    "df5.pop('Love')\n",
    "df5"
   ]
  },
  {
   "cell_type": "code",
   "execution_count": 141,
   "metadata": {},
   "outputs": [
    {
     "data": {
      "text/plain": [
       "-1.2002064840756952"
      ]
     },
     "execution_count": 141,
     "metadata": {},
     "output_type": "execute_result"
    }
   ],
   "source": [
    "#pd.Series.item(self)\n",
    "#Return the first element of the underlying data as python scalar\n",
    "\n",
    "pd.Series(np.array(np.random.randn(1))).item()"
   ]
  },
  {
   "cell_type": "code",
   "execution_count": 142,
   "metadata": {},
   "outputs": [
    {
     "data": {
      "text/html": [
       "<div>\n",
       "<style scoped>\n",
       "    .dataframe tbody tr th:only-of-type {\n",
       "        vertical-align: middle;\n",
       "    }\n",
       "\n",
       "    .dataframe tbody tr th {\n",
       "        vertical-align: top;\n",
       "    }\n",
       "\n",
       "    .dataframe thead th {\n",
       "        text-align: right;\n",
       "    }\n",
       "</style>\n",
       "<table border=\"1\" class=\"dataframe\">\n",
       "  <thead>\n",
       "    <tr style=\"text-align: right;\">\n",
       "      <th></th>\n",
       "      <th></th>\n",
       "      <th></th>\n",
       "      <th>num_legs</th>\n",
       "      <th>num_wings</th>\n",
       "    </tr>\n",
       "    <tr>\n",
       "      <th>class</th>\n",
       "      <th>animal</th>\n",
       "      <th>locomotion</th>\n",
       "      <th></th>\n",
       "      <th></th>\n",
       "    </tr>\n",
       "  </thead>\n",
       "  <tbody>\n",
       "    <tr>\n",
       "      <th rowspan=\"3\" valign=\"top\">mammal</th>\n",
       "      <th>cat</th>\n",
       "      <th>walks</th>\n",
       "      <td>4</td>\n",
       "      <td>0</td>\n",
       "    </tr>\n",
       "    <tr>\n",
       "      <th>dog</th>\n",
       "      <th>walks</th>\n",
       "      <td>4</td>\n",
       "      <td>0</td>\n",
       "    </tr>\n",
       "    <tr>\n",
       "      <th>bat</th>\n",
       "      <th>flies</th>\n",
       "      <td>2</td>\n",
       "      <td>2</td>\n",
       "    </tr>\n",
       "    <tr>\n",
       "      <th>bird</th>\n",
       "      <th>penguin</th>\n",
       "      <th>walks</th>\n",
       "      <td>2</td>\n",
       "      <td>2</td>\n",
       "    </tr>\n",
       "  </tbody>\n",
       "</table>\n",
       "</div>"
      ],
      "text/plain": [
       "                           num_legs  num_wings\n",
       "class  animal  locomotion                     \n",
       "mammal cat     walks              4          0\n",
       "       dog     walks              4          0\n",
       "       bat     flies              2          2\n",
       "bird   penguin walks              2          2"
      ]
     },
     "execution_count": 142,
     "metadata": {},
     "output_type": "execute_result"
    }
   ],
   "source": [
    "df6 = pd.DataFrame({'num_legs': [4, 4, 2, 2],'num_wings': [0, 0, 2, 2],'class': ['mammal', 'mammal', 'mammal', 'bird'],'animal': ['cat', 'dog', 'bat', 'penguin'],'locomotion': ['walks', 'walks', 'flies', 'walks']})\n",
    "df6 = df6.set_index(['class','animal','locomotion'])\n",
    "df6"
   ]
  },
  {
   "cell_type": "code",
   "execution_count": 143,
   "metadata": {},
   "outputs": [
    {
     "data": {
      "text/html": [
       "<div>\n",
       "<style scoped>\n",
       "    .dataframe tbody tr th:only-of-type {\n",
       "        vertical-align: middle;\n",
       "    }\n",
       "\n",
       "    .dataframe tbody tr th {\n",
       "        vertical-align: top;\n",
       "    }\n",
       "\n",
       "    .dataframe thead th {\n",
       "        text-align: right;\n",
       "    }\n",
       "</style>\n",
       "<table border=\"1\" class=\"dataframe\">\n",
       "  <thead>\n",
       "    <tr style=\"text-align: right;\">\n",
       "      <th></th>\n",
       "      <th></th>\n",
       "      <th>num_legs</th>\n",
       "      <th>num_wings</th>\n",
       "    </tr>\n",
       "    <tr>\n",
       "      <th>animal</th>\n",
       "      <th>locomotion</th>\n",
       "      <th></th>\n",
       "      <th></th>\n",
       "    </tr>\n",
       "  </thead>\n",
       "  <tbody>\n",
       "    <tr>\n",
       "      <th>cat</th>\n",
       "      <th>walks</th>\n",
       "      <td>4</td>\n",
       "      <td>0</td>\n",
       "    </tr>\n",
       "    <tr>\n",
       "      <th>dog</th>\n",
       "      <th>walks</th>\n",
       "      <td>4</td>\n",
       "      <td>0</td>\n",
       "    </tr>\n",
       "    <tr>\n",
       "      <th>bat</th>\n",
       "      <th>flies</th>\n",
       "      <td>2</td>\n",
       "      <td>2</td>\n",
       "    </tr>\n",
       "  </tbody>\n",
       "</table>\n",
       "</div>"
      ],
      "text/plain": [
       "                   num_legs  num_wings\n",
       "animal locomotion                     \n",
       "cat    walks              4          0\n",
       "dog    walks              4          0\n",
       "bat    flies              2          2"
      ]
     },
     "execution_count": 143,
     "metadata": {},
     "output_type": "execute_result"
    }
   ],
   "source": [
    "#pd.Series.xs(key = lable or tuple of label)\n",
    "#Return cross-section from the Series/DataFrame\n",
    "\n",
    "df6.xs('mammal')"
   ]
  },
  {
   "cell_type": "code",
   "execution_count": 144,
   "metadata": {},
   "outputs": [
    {
     "data": {
      "text/plain": [
       "0    2\n",
       "1    3\n",
       "2    4\n",
       "3    5\n",
       "4    6\n",
       "dtype: int64"
      ]
     },
     "execution_count": 144,
     "metadata": {},
     "output_type": "execute_result"
    }
   ],
   "source": [
    "#pd.Series.add(self,other is thing we need to add)\n",
    "#Return addition of series and other,element wise\n",
    "\n",
    "pd.Series([1,2,3,4,5]).add(1)"
   ]
  },
  {
   "cell_type": "code",
   "execution_count": 145,
   "metadata": {},
   "outputs": [
    {
     "data": {
      "text/plain": [
       "0    0\n",
       "1    1\n",
       "2    2\n",
       "3    3\n",
       "4    4\n",
       "dtype: int64"
      ]
     },
     "execution_count": 145,
     "metadata": {},
     "output_type": "execute_result"
    }
   ],
   "source": [
    "#pd.Series.sub(self,other is the thing we need to subtract)\n",
    "#Return subtraction of series and other,element wise\n",
    "\n",
    "pd.Series([1,2,3,4,5]).sub(1)"
   ]
  },
  {
   "cell_type": "code",
   "execution_count": 146,
   "metadata": {},
   "outputs": [
    {
     "data": {
      "text/plain": [
       "0    10\n",
       "1    20\n",
       "2    30\n",
       "3    40\n",
       "4    50\n",
       "dtype: int64"
      ]
     },
     "execution_count": 146,
     "metadata": {},
     "output_type": "execute_result"
    }
   ],
   "source": [
    "#pd.Series.mul(self,other)\n",
    "#Returns multiplication of the series and other,element wise\n",
    "\n",
    "pd.Series([1,2,3,4,5]).mul(10)"
   ]
  },
  {
   "cell_type": "code",
   "execution_count": 147,
   "metadata": {},
   "outputs": [
    {
     "data": {
      "text/plain": [
       "0    0.1\n",
       "1    0.2\n",
       "2    0.3\n",
       "3    0.4\n",
       "4    0.5\n",
       "dtype: float64"
      ]
     },
     "execution_count": 147,
     "metadata": {},
     "output_type": "execute_result"
    }
   ],
   "source": [
    "#pd.Series.div(self,other)\n",
    "#Returns division of series by other,element wise\n",
    "\n",
    "pd.Series([1,2,3,4,5]).div(10)"
   ]
  },
  {
   "cell_type": "code",
   "execution_count": 148,
   "metadata": {},
   "outputs": [
    {
     "data": {
      "text/plain": [
       "0    0.1\n",
       "1    0.2\n",
       "2    0.3\n",
       "3    0.4\n",
       "4    0.5\n",
       "dtype: float64"
      ]
     },
     "execution_count": 148,
     "metadata": {},
     "output_type": "execute_result"
    }
   ],
   "source": [
    "#pd.Series.truediv(self,other)\n",
    "#Returns floating division of series and other,element wise\n",
    "\n",
    "pd.Series([1,2,3,4,5]).truediv(10)"
   ]
  },
  {
   "cell_type": "code",
   "execution_count": 149,
   "metadata": {},
   "outputs": [
    {
     "data": {
      "text/plain": [
       "0    0\n",
       "1    0\n",
       "2    0\n",
       "3    0\n",
       "4    0\n",
       "dtype: int64"
      ]
     },
     "execution_count": 149,
     "metadata": {},
     "output_type": "execute_result"
    }
   ],
   "source": [
    "#pd.Series.floordiv(self,other)\n",
    "#Returns integer division of series and other,element wise\n",
    "\n",
    "pd.Series([1,2,3,4,5]).floordiv(10)"
   ]
  },
  {
   "cell_type": "code",
   "execution_count": 150,
   "metadata": {},
   "outputs": [
    {
     "data": {
      "text/plain": [
       "0    1\n",
       "1    2\n",
       "2    1\n",
       "3    4\n",
       "4    2\n",
       "5    3\n",
       "dtype: int64"
      ]
     },
     "execution_count": 150,
     "metadata": {},
     "output_type": "execute_result"
    }
   ],
   "source": [
    "#pd.Series.mod(self,other)\n",
    "#Return modulo of series and other,element wise\n",
    "\n",
    "pd.Series([11,22,21,334,32,33]).mod(10)"
   ]
  },
  {
   "cell_type": "code",
   "execution_count": 151,
   "metadata": {},
   "outputs": [
    {
     "data": {
      "text/plain": [
       "0     1\n",
       "1     4\n",
       "2     9\n",
       "3    16\n",
       "4    25\n",
       "dtype: int64"
      ]
     },
     "execution_count": 151,
     "metadata": {},
     "output_type": "execute_result"
    }
   ],
   "source": [
    "#pd.Series([1,2,3,4,5]).pow(2)\n",
    "#Return Exponential power of series and other,element-wise\n",
    "\n",
    "pd.Series([1,2,3,4,5]).pow(2)"
   ]
  },
  {
   "cell_type": "code",
   "execution_count": 152,
   "metadata": {},
   "outputs": [
    {
     "data": {
      "text/plain": [
       "0    11.0\n",
       "1    12.0\n",
       "2    13.0\n",
       "3    14.0\n",
       "4    15.0\n",
       "5    10.0\n",
       "dtype: float64"
      ]
     },
     "execution_count": 152,
     "metadata": {},
     "output_type": "execute_result"
    }
   ],
   "source": [
    "#pd.Series.radd(self,other,fill_value=0)\n",
    "#Return addition of series and other,element-wise,but with support with fill_value to cover NaN values\n",
    "\n",
    "pd.Series([1,2,3,4,5,np.nan]).radd(10,fill_value=0)"
   ]
  },
  {
   "cell_type": "code",
   "execution_count": 153,
   "metadata": {},
   "outputs": [
    {
     "data": {
      "text/plain": [
       "0     9.0\n",
       "1     8.0\n",
       "2     7.0\n",
       "3     6.0\n",
       "4     5.0\n",
       "5    10.0\n",
       "dtype: float64"
      ]
     },
     "execution_count": 153,
     "metadata": {},
     "output_type": "execute_result"
    }
   ],
   "source": [
    "#pd.Series.rsub(self,other,fill_value=0)\n",
    "#Return subtraction of series and other,element-wise,but with support with fill_value to cover NaN values\n",
    "\n",
    "pd.Series([1,2,3,4,5,np.nan]).rsub(10,fill_value=0)"
   ]
  },
  {
   "cell_type": "code",
   "execution_count": 154,
   "metadata": {},
   "outputs": [
    {
     "data": {
      "text/plain": [
       "0      10.0\n",
       "1      20.0\n",
       "2      30.0\n",
       "3      40.0\n",
       "4      50.0\n",
       "5    1000.0\n",
       "dtype: float64"
      ]
     },
     "execution_count": 154,
     "metadata": {},
     "output_type": "execute_result"
    }
   ],
   "source": [
    "#pd.Series.rmul(self,other,fill_value=0)\n",
    "#Return multiplication of series and other,element-wise,but with support with fill_value to cover NaN values\n",
    "\n",
    "pd.Series([1,2,3,4,5,np.nan]).rmul(10,fill_value=100)"
   ]
  },
  {
   "cell_type": "code",
   "execution_count": 155,
   "metadata": {},
   "outputs": [
    {
     "data": {
      "text/plain": [
       "0    10.000000\n",
       "1     5.000000\n",
       "2     3.333333\n",
       "3     2.500000\n",
       "4     2.000000\n",
       "5          inf\n",
       "dtype: float64"
      ]
     },
     "execution_count": 155,
     "metadata": {},
     "output_type": "execute_result"
    }
   ],
   "source": [
    "#pd.Series.rdiv(self,other,fill_value=0)\n",
    "#Return division of series and other,element-wise,but with support with fill_value to cover NaN values\n",
    "\n",
    "pd.Series([1,2,3,4,5,np.nan]).rdiv(10,fill_value=0)"
   ]
  },
  {
   "cell_type": "code",
   "execution_count": 156,
   "metadata": {},
   "outputs": [
    {
     "data": {
      "text/plain": [
       "0    10.000000\n",
       "1     5.000000\n",
       "2     3.333333\n",
       "3     2.500000\n",
       "4     2.000000\n",
       "5          inf\n",
       "dtype: float64"
      ]
     },
     "execution_count": 156,
     "metadata": {},
     "output_type": "execute_result"
    }
   ],
   "source": [
    "#pd.Series.rtruediv(self,other,fill_value=0)\n",
    "#Return floating division of series and other,element-wise,but with support with fill_value to cover NaN values\n",
    "\n",
    "pd.Series([1,2,3,4,5,np.nan]).rtruediv(10,fill_value=0)"
   ]
  },
  {
   "cell_type": "code",
   "execution_count": 157,
   "metadata": {},
   "outputs": [
    {
     "data": {
      "text/plain": [
       "0    10.0\n",
       "1     5.0\n",
       "2     3.0\n",
       "3     2.0\n",
       "4     2.0\n",
       "5     inf\n",
       "dtype: float64"
      ]
     },
     "execution_count": 157,
     "metadata": {},
     "output_type": "execute_result"
    }
   ],
   "source": [
    "#pd.Series.rfloordiv(self,other,fill_value=0)\n",
    "#Return integer division of series and other,element-wise,but with support with fill_value to cover NaN values\n",
    "\n",
    "pd.Series([1,2,3,4,5,np.nan]).rfloordiv(10,fill_value=0)"
   ]
  },
  {
   "cell_type": "code",
   "execution_count": 158,
   "metadata": {},
   "outputs": [
    {
     "data": {
      "text/plain": [
       "0    0.0\n",
       "1    0.0\n",
       "2    1.0\n",
       "3    2.0\n",
       "4    0.0\n",
       "5    NaN\n",
       "dtype: float64"
      ]
     },
     "execution_count": 158,
     "metadata": {},
     "output_type": "execute_result"
    }
   ],
   "source": [
    "#pd.Series.rmod(self,other,fill_value=0)\n",
    "#Return modulo of series and other,element-wise,but with support with fill_value to cover NaN values\n",
    "\n",
    "pd.Series([1,2,3,4,5,np.nan]).rmod(10,fill_value=0)"
   ]
  },
  {
   "cell_type": "code",
   "execution_count": 159,
   "metadata": {},
   "outputs": [
    {
     "data": {
      "text/plain": [
       "0        10.0\n",
       "1       100.0\n",
       "2      1000.0\n",
       "3     10000.0\n",
       "4    100000.0\n",
       "5         1.0\n",
       "dtype: float64"
      ]
     },
     "execution_count": 159,
     "metadata": {},
     "output_type": "execute_result"
    }
   ],
   "source": [
    "#pd.Series.rpow(self,other,fill_value=0)\n",
    "#Return power of series and other,element-wise,but with support with fill_value to cover NaN values\n",
    "\n",
    "pd.Series([1,2,3,4,5,np.nan]).rpow(10,fill_value=0)"
   ]
  },
  {
   "cell_type": "code",
   "execution_count": 160,
   "metadata": {},
   "outputs": [],
   "source": [
    "cd1 = pd.Series({'value' : [10,20,3000,4000]})\n",
    "cd2 = pd.Series({'value' : [100,200,3,4]})"
   ]
  },
  {
   "cell_type": "code",
   "execution_count": 161,
   "metadata": {},
   "outputs": [
    {
     "data": {
      "text/plain": [
       "value    [10, 20, 3000, 4000]\n",
       "dtype: object"
      ]
     },
     "execution_count": 161,
     "metadata": {},
     "output_type": "execute_result"
    }
   ],
   "source": [
    "#pd.Series.combine(self,other,func to perform element wise selection)\n",
    "#Combine the series with a series or scalar according to function\n",
    "\n",
    "cd1.combine(cd2,min)"
   ]
  },
  {
   "cell_type": "code",
   "execution_count": 162,
   "metadata": {},
   "outputs": [
    {
     "data": {
      "text/plain": [
       "value    [10, 20, 3000, 4000]\n",
       "dtype: object"
      ]
     },
     "execution_count": 162,
     "metadata": {},
     "output_type": "execute_result"
    }
   ],
   "source": [
    "#pd.Series.combine_first(self,other)\n",
    "#Combine Series values, choosing the calling Series's valies first\n",
    "\n",
    "cd1.combine_first(cd2)"
   ]
  },
  {
   "cell_type": "code",
   "execution_count": 163,
   "metadata": {},
   "outputs": [
    {
     "data": {
      "text/plain": [
       "0    1.2\n",
       "1    2.8\n",
       "2    3.5\n",
       "3    5.6\n",
       "4    7.5\n",
       "5    9.9\n",
       "dtype: float64"
      ]
     },
     "execution_count": 163,
     "metadata": {},
     "output_type": "execute_result"
    }
   ],
   "source": [
    "gh = pd.Series([1.2,2.8,3.5,5.6,7.5,9.9])\n",
    "gh"
   ]
  },
  {
   "cell_type": "code",
   "execution_count": 164,
   "metadata": {},
   "outputs": [
    {
     "data": {
      "text/plain": [
       "0     1.0\n",
       "1     3.0\n",
       "2     4.0\n",
       "3     6.0\n",
       "4     8.0\n",
       "5    10.0\n",
       "dtype: float64"
      ]
     },
     "execution_count": 164,
     "metadata": {},
     "output_type": "execute_result"
    }
   ],
   "source": [
    "#pd.Series.round(self,decimals = number of decimals to round to)\n",
    "#Round each value in a series to the given number of decimals\n",
    "\n",
    "pd.Series.round(gh)"
   ]
  },
  {
   "cell_type": "code",
   "execution_count": 165,
   "metadata": {},
   "outputs": [],
   "source": [
    "ay = pd.Series([1,2,3,np.nan,4,5,6])\n",
    "by = pd.Series([2,3,1,3,2,np.nan,6])"
   ]
  },
  {
   "cell_type": "code",
   "execution_count": 166,
   "metadata": {},
   "outputs": [
    {
     "data": {
      "text/plain": [
       "0     True\n",
       "1     True\n",
       "2    False\n",
       "3     True\n",
       "4    False\n",
       "5    False\n",
       "6    False\n",
       "dtype: bool"
      ]
     },
     "execution_count": 166,
     "metadata": {},
     "output_type": "execute_result"
    }
   ],
   "source": [
    "#pd.Series.lt(self,other)\n",
    "#Return less than of series and other,element wise(binary operator)\n",
    "pd.Series.lt(ay,by,fill_value = 2)"
   ]
  },
  {
   "cell_type": "code",
   "execution_count": 167,
   "metadata": {},
   "outputs": [
    {
     "data": {
      "text/plain": [
       "0    False\n",
       "1    False\n",
       "2     True\n",
       "3    False\n",
       "4     True\n",
       "5     True\n",
       "6    False\n",
       "dtype: bool"
      ]
     },
     "execution_count": 167,
     "metadata": {},
     "output_type": "execute_result"
    }
   ],
   "source": [
    "#pd.Series.gt(self,other)\n",
    "#Return greater than of series and other,element wise(binary operator)\n",
    "pd.Series.gt(ay,by,fill_value = 2)"
   ]
  },
  {
   "cell_type": "code",
   "execution_count": 168,
   "metadata": {},
   "outputs": [
    {
     "data": {
      "text/plain": [
       "0     True\n",
       "1     True\n",
       "2    False\n",
       "3     True\n",
       "4    False\n",
       "5    False\n",
       "6     True\n",
       "dtype: bool"
      ]
     },
     "execution_count": 168,
     "metadata": {},
     "output_type": "execute_result"
    }
   ],
   "source": [
    "#pd.Series.le(self,other)\n",
    "#Return less than or equal to of series and other,element wise(binary operator)\n",
    "pd.Series.le(ay,by,fill_value = 2)"
   ]
  },
  {
   "cell_type": "code",
   "execution_count": 169,
   "metadata": {},
   "outputs": [
    {
     "data": {
      "text/plain": [
       "0    False\n",
       "1    False\n",
       "2     True\n",
       "3    False\n",
       "4     True\n",
       "5     True\n",
       "6     True\n",
       "dtype: bool"
      ]
     },
     "execution_count": 169,
     "metadata": {},
     "output_type": "execute_result"
    }
   ],
   "source": [
    "#pd.Series.ge(self,other)\n",
    "#Return greater than or equal to of series and other,element wise(binary operator)\n",
    "pd.Series.ge(ay,by,fill_value = 2)"
   ]
  },
  {
   "cell_type": "code",
   "execution_count": 170,
   "metadata": {},
   "outputs": [
    {
     "data": {
      "text/plain": [
       "0     True\n",
       "1     True\n",
       "2     True\n",
       "3     True\n",
       "4     True\n",
       "5     True\n",
       "6    False\n",
       "dtype: bool"
      ]
     },
     "execution_count": 170,
     "metadata": {},
     "output_type": "execute_result"
    }
   ],
   "source": [
    "#pd.Series.ne(self,other)\n",
    "#Return not equal to of series and other,element wise(binary operator)\n",
    "pd.Series.ne(ay,by,fill_value = 1)"
   ]
  },
  {
   "cell_type": "code",
   "execution_count": 171,
   "metadata": {},
   "outputs": [
    {
     "data": {
      "text/plain": [
       "0    False\n",
       "1    False\n",
       "2    False\n",
       "3    False\n",
       "4    False\n",
       "5    False\n",
       "6     True\n",
       "dtype: bool"
      ]
     },
     "execution_count": 171,
     "metadata": {},
     "output_type": "execute_result"
    }
   ],
   "source": [
    "#pd.Series.eq(self,other)\n",
    "#Return equal to of series and other,element wise(binary operator)\n",
    "\n",
    "pd.Series.eq(ay,by,fill_value = 2)"
   ]
  },
  {
   "cell_type": "code",
   "execution_count": 172,
   "metadata": {},
   "outputs": [
    {
     "data": {
      "text/plain": [
       "120"
      ]
     },
     "execution_count": 172,
     "metadata": {},
     "output_type": "execute_result"
    }
   ],
   "source": [
    "#pd.Series.product(self,axis for the dunction to be applied on,skipna = None)\n",
    "#Return the product of the values for the requested axis\n",
    "\n",
    "au = pd.Series([1,2,3,4,5])\n",
    "au.product(0)"
   ]
  },
  {
   "cell_type": "code",
   "execution_count": 173,
   "metadata": {
    "scrolled": true
   },
   "outputs": [
    {
     "data": {
      "text/plain": [
       "75"
      ]
     },
     "execution_count": 173,
     "metadata": {},
     "output_type": "execute_result"
    }
   ],
   "source": [
    "#pd.Series.dot(self,other)\n",
    "#Compute the dot product between the series and the columns of the other\n",
    "\n",
    "vit = pd.Series([1,2,3,4,5])\n",
    "srm = pd.Series([5,5,5,5,5])\n",
    "vit.dot(srm)#5+10+15+20+25"
   ]
  },
  {
   "cell_type": "code",
   "execution_count": 174,
   "metadata": {},
   "outputs": [
    {
     "data": {
      "text/plain": [
       "0      1\n",
       "1      8\n",
       "2     27\n",
       "3     64\n",
       "4    125\n",
       "dtype: int64"
      ]
     },
     "execution_count": 174,
     "metadata": {},
     "output_type": "execute_result"
    }
   ],
   "source": [
    "#pd.Series.apply(self,func)\n",
    "#Invoke function on values of series\n",
    "\n",
    "def cube(x):\n",
    "    return x**3\n",
    "\n",
    "pd.Series([1,2,3,4,5]).apply(func = cube)"
   ]
  },
  {
   "cell_type": "code",
   "execution_count": 175,
   "metadata": {},
   "outputs": [
    {
     "data": {
      "text/plain": [
       "sum       82.000000\n",
       "min        1.000000\n",
       "max       32.000000\n",
       "mean       6.833333\n",
       "median     3.500000\n",
       "dtype: float64"
      ]
     },
     "execution_count": 175,
     "metadata": {},
     "output_type": "execute_result"
    }
   ],
   "source": [
    "#pd.Series(series).agg(func,axis=0) / pd.Series(series).aggregate(func)\n",
    "#Aggregate using one or more operations over specified axis\n",
    "\n",
    "pd.Series([1,2,3,4,5,8,9,12,32,2,3,1]).agg(['sum','min','max','mean','median'],axis=0)"
   ]
  },
  {
   "cell_type": "code",
   "execution_count": 176,
   "metadata": {},
   "outputs": [
    {
     "data": {
      "text/plain": [
       "0      7.389056\n",
       "1     54.598150\n",
       "2    148.413159\n",
       "3    403.428793\n",
       "4     54.598150\n",
       "5      7.389056\n",
       "6     20.085537\n",
       "7      7.389056\n",
       "dtype: float64"
      ]
     },
     "execution_count": 176,
     "metadata": {},
     "output_type": "execute_result"
    }
   ],
   "source": [
    "#pd.Series.transform(self,func)\n",
    "#Call func con self producing a series with transformed values\n",
    "\n",
    "pd.Series([2,4,5,6,4,2,3,2]).transform(func = np.exp)"
   ]
  },
  {
   "cell_type": "code",
   "execution_count": 177,
   "metadata": {},
   "outputs": [
    {
     "data": {
      "text/plain": [
       "0    1.000000\n",
       "1    1.414214\n",
       "2    1.732051\n",
       "3    2.000000\n",
       "4    2.236068\n",
       "5    2.449490\n",
       "dtype: float64"
      ]
     },
     "execution_count": 177,
     "metadata": {},
     "output_type": "execute_result"
    }
   ],
   "source": [
    "#pd.Series.map(self,arg may be function or series or collections.abc.Mapping subclass)\n",
    "#Map values of Series according to input correspondance\n",
    "\n",
    "import math\n",
    "pd.Series([1,2,3,4,5,6]).map(math.sqrt)"
   ]
  },
  {
   "cell_type": "code",
   "execution_count": 178,
   "metadata": {},
   "outputs": [
    {
     "data": {
      "text/html": [
       "<div>\n",
       "<style scoped>\n",
       "    .dataframe tbody tr th:only-of-type {\n",
       "        vertical-align: middle;\n",
       "    }\n",
       "\n",
       "    .dataframe tbody tr th {\n",
       "        vertical-align: top;\n",
       "    }\n",
       "\n",
       "    .dataframe thead th {\n",
       "        text-align: right;\n",
       "    }\n",
       "</style>\n",
       "<table border=\"1\" class=\"dataframe\">\n",
       "  <thead>\n",
       "    <tr style=\"text-align: right;\">\n",
       "      <th></th>\n",
       "      <th>Row ID</th>\n",
       "      <th>Order ID</th>\n",
       "      <th>Order Date</th>\n",
       "      <th>Order Priority</th>\n",
       "      <th>Order Quantity</th>\n",
       "      <th>Sales</th>\n",
       "      <th>Discount</th>\n",
       "      <th>Ship Mode</th>\n",
       "      <th>Profit</th>\n",
       "      <th>Unit Price</th>\n",
       "      <th>...</th>\n",
       "      <th>Customer Name</th>\n",
       "      <th>Province</th>\n",
       "      <th>Region</th>\n",
       "      <th>Customer Segment</th>\n",
       "      <th>Product Category</th>\n",
       "      <th>Product Sub-Category</th>\n",
       "      <th>Product Name</th>\n",
       "      <th>Product Container</th>\n",
       "      <th>Product Base Margin</th>\n",
       "      <th>Ship Date</th>\n",
       "    </tr>\n",
       "  </thead>\n",
       "  <tbody>\n",
       "    <tr>\n",
       "      <th>0</th>\n",
       "      <td>1</td>\n",
       "      <td>3</td>\n",
       "      <td>2010-10-13</td>\n",
       "      <td>Low</td>\n",
       "      <td>6</td>\n",
       "      <td>261.5400</td>\n",
       "      <td>0.04</td>\n",
       "      <td>Regular Air</td>\n",
       "      <td>-213.250</td>\n",
       "      <td>38.94</td>\n",
       "      <td>...</td>\n",
       "      <td>Muhammed MacIntyre</td>\n",
       "      <td>Nunavut</td>\n",
       "      <td>Nunavut</td>\n",
       "      <td>Small Business</td>\n",
       "      <td>Office Supplies</td>\n",
       "      <td>Storage &amp; Organization</td>\n",
       "      <td>Eldon Base for stackable storage shelf, platinum</td>\n",
       "      <td>Large Box</td>\n",
       "      <td>0.80</td>\n",
       "      <td>2010-10-20</td>\n",
       "    </tr>\n",
       "    <tr>\n",
       "      <th>1</th>\n",
       "      <td>2</td>\n",
       "      <td>6</td>\n",
       "      <td>2012-02-20</td>\n",
       "      <td>Not Specified</td>\n",
       "      <td>2</td>\n",
       "      <td>6.9300</td>\n",
       "      <td>0.01</td>\n",
       "      <td>Regular Air</td>\n",
       "      <td>-4.640</td>\n",
       "      <td>2.08</td>\n",
       "      <td>...</td>\n",
       "      <td>Ruben Dartt</td>\n",
       "      <td>Alberta</td>\n",
       "      <td>West</td>\n",
       "      <td>Corporate</td>\n",
       "      <td>Office Supplies</td>\n",
       "      <td>Scissors, Rulers and Trimmers</td>\n",
       "      <td>Kleencut® Forged Office Shears by Acme United ...</td>\n",
       "      <td>Small Pack</td>\n",
       "      <td>0.55</td>\n",
       "      <td>2012-02-21</td>\n",
       "    </tr>\n",
       "    <tr>\n",
       "      <th>2</th>\n",
       "      <td>3</td>\n",
       "      <td>32</td>\n",
       "      <td>2011-07-15</td>\n",
       "      <td>High</td>\n",
       "      <td>26</td>\n",
       "      <td>2808.0800</td>\n",
       "      <td>0.07</td>\n",
       "      <td>Regular Air</td>\n",
       "      <td>1054.820</td>\n",
       "      <td>107.53</td>\n",
       "      <td>...</td>\n",
       "      <td>Liz Pelletier</td>\n",
       "      <td>Alberta</td>\n",
       "      <td>West</td>\n",
       "      <td>Corporate</td>\n",
       "      <td>Furniture</td>\n",
       "      <td>Office Furnishings</td>\n",
       "      <td>Tenex Contemporary Contur Chairmats for Low an...</td>\n",
       "      <td>Medium Box</td>\n",
       "      <td>0.65</td>\n",
       "      <td>2011-07-17</td>\n",
       "    </tr>\n",
       "    <tr>\n",
       "      <th>3</th>\n",
       "      <td>4</td>\n",
       "      <td>32</td>\n",
       "      <td>2011-07-15</td>\n",
       "      <td>High</td>\n",
       "      <td>24</td>\n",
       "      <td>1761.4000</td>\n",
       "      <td>0.09</td>\n",
       "      <td>Delivery Truck</td>\n",
       "      <td>-1748.560</td>\n",
       "      <td>70.89</td>\n",
       "      <td>...</td>\n",
       "      <td>Liz Pelletier</td>\n",
       "      <td>Alberta</td>\n",
       "      <td>West</td>\n",
       "      <td>Corporate</td>\n",
       "      <td>Furniture</td>\n",
       "      <td>Tables</td>\n",
       "      <td>KI Conference Tables</td>\n",
       "      <td>Jumbo Box</td>\n",
       "      <td>0.72</td>\n",
       "      <td>2011-07-16</td>\n",
       "    </tr>\n",
       "    <tr>\n",
       "      <th>4</th>\n",
       "      <td>5</td>\n",
       "      <td>32</td>\n",
       "      <td>2011-07-15</td>\n",
       "      <td>High</td>\n",
       "      <td>23</td>\n",
       "      <td>160.2335</td>\n",
       "      <td>0.04</td>\n",
       "      <td>Regular Air</td>\n",
       "      <td>-85.129</td>\n",
       "      <td>7.99</td>\n",
       "      <td>...</td>\n",
       "      <td>Liz Pelletier</td>\n",
       "      <td>Alberta</td>\n",
       "      <td>West</td>\n",
       "      <td>Corporate</td>\n",
       "      <td>Technology</td>\n",
       "      <td>Telephones and Communication</td>\n",
       "      <td>Bell Sonecor JB700 Caller ID</td>\n",
       "      <td>Medium Box</td>\n",
       "      <td>0.60</td>\n",
       "      <td>2011-07-17</td>\n",
       "    </tr>\n",
       "  </tbody>\n",
       "</table>\n",
       "<p>5 rows × 21 columns</p>\n",
       "</div>"
      ],
      "text/plain": [
       "   Row ID  Order ID Order Date Order Priority  Order Quantity      Sales  \\\n",
       "0       1         3 2010-10-13            Low               6   261.5400   \n",
       "1       2         6 2012-02-20  Not Specified               2     6.9300   \n",
       "2       3        32 2011-07-15           High              26  2808.0800   \n",
       "3       4        32 2011-07-15           High              24  1761.4000   \n",
       "4       5        32 2011-07-15           High              23   160.2335   \n",
       "\n",
       "   Discount       Ship Mode    Profit  Unit Price  ...       Customer Name  \\\n",
       "0      0.04     Regular Air  -213.250       38.94  ...  Muhammed MacIntyre   \n",
       "1      0.01     Regular Air    -4.640        2.08  ...         Ruben Dartt   \n",
       "2      0.07     Regular Air  1054.820      107.53  ...       Liz Pelletier   \n",
       "3      0.09  Delivery Truck -1748.560       70.89  ...       Liz Pelletier   \n",
       "4      0.04     Regular Air   -85.129        7.99  ...       Liz Pelletier   \n",
       "\n",
       "  Province   Region Customer Segment Product Category  \\\n",
       "0  Nunavut  Nunavut   Small Business  Office Supplies   \n",
       "1  Alberta     West        Corporate  Office Supplies   \n",
       "2  Alberta     West        Corporate        Furniture   \n",
       "3  Alberta     West        Corporate        Furniture   \n",
       "4  Alberta     West        Corporate       Technology   \n",
       "\n",
       "            Product Sub-Category  \\\n",
       "0         Storage & Organization   \n",
       "1  Scissors, Rulers and Trimmers   \n",
       "2             Office Furnishings   \n",
       "3                         Tables   \n",
       "4   Telephones and Communication   \n",
       "\n",
       "                                        Product Name Product Container  \\\n",
       "0   Eldon Base for stackable storage shelf, platinum         Large Box   \n",
       "1  Kleencut® Forged Office Shears by Acme United ...        Small Pack   \n",
       "2  Tenex Contemporary Contur Chairmats for Low an...        Medium Box   \n",
       "3                               KI Conference Tables         Jumbo Box   \n",
       "4                       Bell Sonecor JB700 Caller ID        Medium Box   \n",
       "\n",
       "  Product Base Margin  Ship Date  \n",
       "0                0.80 2010-10-20  \n",
       "1                0.55 2012-02-21  \n",
       "2                0.65 2011-07-17  \n",
       "3                0.72 2011-07-16  \n",
       "4                0.60 2011-07-17  \n",
       "\n",
       "[5 rows x 21 columns]"
      ]
     },
     "execution_count": 178,
     "metadata": {},
     "output_type": "execute_result"
    }
   ],
   "source": [
    "qwe = pd.read_excel('C:/Users/H/Downloads/d.xlsx')\n",
    "qwe.head()"
   ]
  },
  {
   "cell_type": "code",
   "execution_count": 179,
   "metadata": {},
   "outputs": [
    {
     "data": {
      "text/html": [
       "<div>\n",
       "<style scoped>\n",
       "    .dataframe tbody tr th:only-of-type {\n",
       "        vertical-align: middle;\n",
       "    }\n",
       "\n",
       "    .dataframe tbody tr th {\n",
       "        vertical-align: top;\n",
       "    }\n",
       "\n",
       "    .dataframe thead th {\n",
       "        text-align: right;\n",
       "    }\n",
       "</style>\n",
       "<table border=\"1\" class=\"dataframe\">\n",
       "  <thead>\n",
       "    <tr style=\"text-align: right;\">\n",
       "      <th></th>\n",
       "      <th>Product Name</th>\n",
       "      <th>Sales</th>\n",
       "    </tr>\n",
       "  </thead>\n",
       "  <tbody>\n",
       "    <tr>\n",
       "      <th>0</th>\n",
       "      <td>232</td>\n",
       "      <td>9475.8595</td>\n",
       "    </tr>\n",
       "    <tr>\n",
       "      <th>1</th>\n",
       "      <td>252</td>\n",
       "      <td>15613.3950</td>\n",
       "    </tr>\n",
       "    <tr>\n",
       "      <th>2</th>\n",
       "      <td>282</td>\n",
       "      <td>12538.0865</td>\n",
       "    </tr>\n",
       "    <tr>\n",
       "      <th>3</th>\n",
       "      <td>636</td>\n",
       "      <td>8350.7570</td>\n",
       "    </tr>\n",
       "    <tr>\n",
       "      <th>4</th>\n",
       "      <td>688</td>\n",
       "      <td>27759.9800</td>\n",
       "    </tr>\n",
       "    <tr>\n",
       "      <th>...</th>\n",
       "      <td>...</td>\n",
       "      <td>...</td>\n",
       "    </tr>\n",
       "    <tr>\n",
       "      <th>1258</th>\n",
       "      <td>i500plus</td>\n",
       "      <td>3705.4135</td>\n",
       "    </tr>\n",
       "    <tr>\n",
       "      <th>1259</th>\n",
       "      <td>i600</td>\n",
       "      <td>2989.2205</td>\n",
       "    </tr>\n",
       "    <tr>\n",
       "      <th>1260</th>\n",
       "      <td>iDEN i550</td>\n",
       "      <td>6264.1855</td>\n",
       "    </tr>\n",
       "    <tr>\n",
       "      <th>1261</th>\n",
       "      <td>iDEN i95</td>\n",
       "      <td>5862.8070</td>\n",
       "    </tr>\n",
       "    <tr>\n",
       "      <th>1262</th>\n",
       "      <td>iDENi80s</td>\n",
       "      <td>6460.2040</td>\n",
       "    </tr>\n",
       "  </tbody>\n",
       "</table>\n",
       "<p>1263 rows × 2 columns</p>\n",
       "</div>"
      ],
      "text/plain": [
       "     Product Name       Sales\n",
       "0             232   9475.8595\n",
       "1             252  15613.3950\n",
       "2             282  12538.0865\n",
       "3             636   8350.7570\n",
       "4             688  27759.9800\n",
       "...           ...         ...\n",
       "1258     i500plus   3705.4135\n",
       "1259         i600   2989.2205\n",
       "1260    iDEN i550   6264.1855\n",
       "1261     iDEN i95   5862.8070\n",
       "1262     iDENi80s   6460.2040\n",
       "\n",
       "[1263 rows x 2 columns]"
      ]
     },
     "execution_count": 179,
     "metadata": {},
     "output_type": "execute_result"
    }
   ],
   "source": [
    "#pd.Series.groupby(self,as_index = False)[other].func() / #pd.Series.groupby(self,as_index = False)[other].agg('func')\n",
    "#Group Series using a mapper or by a series of columns\n",
    "\n",
    "qwe.groupby('Product Name',as_index = False)['Sales'].agg('sum')"
   ]
  },
  {
   "cell_type": "code",
   "execution_count": 181,
   "metadata": {},
   "outputs": [
    {
     "data": {
      "text/html": [
       "<div>\n",
       "<style scoped>\n",
       "    .dataframe tbody tr th:only-of-type {\n",
       "        vertical-align: middle;\n",
       "    }\n",
       "\n",
       "    .dataframe tbody tr th {\n",
       "        vertical-align: top;\n",
       "    }\n",
       "\n",
       "    .dataframe thead th {\n",
       "        text-align: right;\n",
       "    }\n",
       "</style>\n",
       "<table border=\"1\" class=\"dataframe\">\n",
       "  <thead>\n",
       "    <tr style=\"text-align: right;\">\n",
       "      <th></th>\n",
       "      <th>key</th>\n",
       "      <th>value</th>\n",
       "    </tr>\n",
       "  </thead>\n",
       "  <tbody>\n",
       "    <tr>\n",
       "      <th>0</th>\n",
       "      <td>A</td>\n",
       "      <td>1</td>\n",
       "    </tr>\n",
       "    <tr>\n",
       "      <th>1</th>\n",
       "      <td>B</td>\n",
       "      <td>2</td>\n",
       "    </tr>\n",
       "    <tr>\n",
       "      <th>2</th>\n",
       "      <td>C</td>\n",
       "      <td>3</td>\n",
       "    </tr>\n",
       "    <tr>\n",
       "      <th>3</th>\n",
       "      <td>D</td>\n",
       "      <td>4</td>\n",
       "    </tr>\n",
       "    <tr>\n",
       "      <th>4</th>\n",
       "      <td>E</td>\n",
       "      <td>5</td>\n",
       "    </tr>\n",
       "  </tbody>\n",
       "</table>\n",
       "</div>"
      ],
      "text/plain": [
       "  key  value\n",
       "0   A      1\n",
       "1   B      2\n",
       "2   C      3\n",
       "3   D      4\n",
       "4   E      5"
      ]
     },
     "execution_count": 181,
     "metadata": {},
     "output_type": "execute_result"
    }
   ],
   "source": [
    "asd = pd.DataFrame({'key':['A','B','C','D','E'],'value':[1,2,3,4,5]})\n",
    "asd"
   ]
  },
  {
   "cell_type": "code",
   "execution_count": 185,
   "metadata": {},
   "outputs": [
    {
     "data": {
      "text/plain": [
       "0         NaN\n",
       "1    2.958621\n",
       "2    4.931036\n",
       "3    6.903450\n",
       "4    8.875864\n",
       "Name: value, dtype: float64"
      ]
     },
     "execution_count": 185,
     "metadata": {},
     "output_type": "execute_result"
    }
   ],
   "source": [
    "#pd.Series.rolling(self,window)\n",
    "#Provide rolling window calculations\n",
    "\n",
    "pd.Series(asd['value']).rolling(2,win_type = 'gaussian').sum(std = 3)"
   ]
  },
  {
   "cell_type": "code",
   "execution_count": 186,
   "metadata": {},
   "outputs": [
    {
     "data": {
      "text/plain": [
       "0     NaN\n",
       "1     3.0\n",
       "2     6.0\n",
       "3    10.0\n",
       "4    15.0\n",
       "dtype: float64"
      ]
     },
     "execution_count": 186,
     "metadata": {},
     "output_type": "execute_result"
    }
   ],
   "source": [
    "#pd.Series.expanding(self)\n",
    "#Provide expanding transformations\n",
    "\n",
    "pd.Series([1,2,3,4,5]).expanding(2).sum()"
   ]
  },
  {
   "cell_type": "code",
   "execution_count": 190,
   "metadata": {},
   "outputs": [
    {
     "data": {
      "text/plain": [
       "0    1.000000\n",
       "1    1.666667\n",
       "2    2.428571\n",
       "3    3.266667\n",
       "4    4.161290\n",
       "dtype: float64"
      ]
     },
     "execution_count": 190,
     "metadata": {},
     "output_type": "execute_result"
    }
   ],
   "source": [
    "#pd.Series.ewm(self,com/span/halflife/alpha)\n",
    "#Provide exponential weighted functions\n",
    "\n",
    "pd.Series([1,2,3,4,5]).ewm(com=1).mean()"
   ]
  },
  {
   "cell_type": "code",
   "execution_count": 195,
   "metadata": {},
   "outputs": [
    {
     "data": {
      "text/plain": [
       "0     1\n",
       "1     4\n",
       "2     9\n",
       "3    16\n",
       "4    25\n",
       "dtype: int64"
      ]
     },
     "execution_count": 195,
     "metadata": {},
     "output_type": "execute_result"
    }
   ],
   "source": [
    "#pd.Series.pipe(self,func,*args like iterable,**kwargs like mapping)\n",
    "#Apply func(self,*args,**kwargs)\n",
    "\n",
    "def square(x):\n",
    "    return x**2\n",
    "pd.Series([1,2,3,4,5]).pipe(square)"
   ]
  },
  {
   "cell_type": "code",
   "execution_count": 196,
   "metadata": {},
   "outputs": [
    {
     "data": {
      "text/plain": [
       "0    1.200000\n",
       "1    2.400000\n",
       "2    9.433981\n",
       "3    3.200000\n",
       "dtype: float64"
      ]
     },
     "execution_count": 196,
     "metadata": {},
     "output_type": "execute_result"
    }
   ],
   "source": [
    "#pd.Series.abs(self~Frame or series)\n",
    "#Return a series/dataframe with absolute numeric value of each element(only for numeric elements and )\n",
    "\n",
    "pd.Series([1.2,2.4,5+8j,3.2]).abs()"
   ]
  },
  {
   "cell_type": "code",
   "execution_count": 198,
   "metadata": {},
   "outputs": [
    {
     "data": {
      "text/plain": [
       "False"
      ]
     },
     "execution_count": 198,
     "metadata": {},
     "output_type": "execute_result"
    }
   ],
   "source": [
    "#pd.Series(self~Series or dataframe,axis = 0,bool_only = None)\n",
    "#Return whether all elements are True,pootentially over an axis\n",
    "\n",
    "pd.Series([True,False]).all()"
   ]
  },
  {
   "cell_type": "code",
   "execution_count": 200,
   "metadata": {},
   "outputs": [
    {
     "data": {
      "text/plain": [
       "True"
      ]
     },
     "execution_count": 200,
     "metadata": {},
     "output_type": "execute_result"
    }
   ],
   "source": [
    "#pd.Series(self~Series or dataframe).any()\n",
    "#Return whether any element is True, potentially over an axis\n",
    "\n",
    "pd.Series([True,False,False]).any()"
   ]
  },
  {
   "cell_type": "code",
   "execution_count": 201,
   "metadata": {},
   "outputs": [
    {
     "data": {
      "text/plain": [
       "1.0"
      ]
     },
     "execution_count": 201,
     "metadata": {},
     "output_type": "execute_result"
    }
   ],
   "source": [
    "#pd.Series.autocorr(self~Series,lag = default1 number of lags to apply before performing correlation)\n",
    "#Compute the lag-N autocorrelation(performs pearson correlation)\n",
    "\n",
    "pd.Series([1,2,3,4,5]).autocorr()"
   ]
  },
  {
   "cell_type": "code",
   "execution_count": 203,
   "metadata": {},
   "outputs": [
    {
     "data": {
      "text/plain": [
       "0    False\n",
       "1    False\n",
       "2     True\n",
       "3    False\n",
       "4    False\n",
       "5    False\n",
       "dtype: bool"
      ]
     },
     "execution_count": 203,
     "metadata": {},
     "output_type": "execute_result"
    }
   ],
   "source": [
    "#pd.Series.between(self,left,right,inclusive = default True)\n",
    "#Return boolean Series equivalent to left <= Series <= right\n",
    "\n",
    "pd.Series([1,3,4,8,6,2]).between(left = 3, right = 6, inclusive = False)"
   ]
  },
  {
   "cell_type": "code",
   "execution_count": 204,
   "metadata": {},
   "outputs": [
    {
     "data": {
      "text/plain": [
       "0    4\n",
       "1    4\n",
       "2    4\n",
       "3    4\n",
       "4    5\n",
       "5    6\n",
       "6    6\n",
       "7    6\n",
       "8    6\n",
       "9    6\n",
       "dtype: int64"
      ]
     },
     "execution_count": 204,
     "metadata": {},
     "output_type": "execute_result"
    }
   ],
   "source": [
    "#pd.Series.clip(self~Series/Dataframe,lower,upper,axis = None,bool = False)\n",
    "#Trim values at input thresholds(assign values outside boundary to boudary values)\n",
    "\n",
    "pd.Series([1,2,3,4,5,6,7,8,9,10]).clip(4,6)"
   ]
  },
  {
   "cell_type": "code",
   "execution_count": 222,
   "metadata": {},
   "outputs": [
    {
     "data": {
      "text/html": [
       "<div>\n",
       "<style scoped>\n",
       "    .dataframe tbody tr th:only-of-type {\n",
       "        vertical-align: middle;\n",
       "    }\n",
       "\n",
       "    .dataframe tbody tr th {\n",
       "        vertical-align: top;\n",
       "    }\n",
       "\n",
       "    .dataframe thead th {\n",
       "        text-align: right;\n",
       "    }\n",
       "</style>\n",
       "<table border=\"1\" class=\"dataframe\">\n",
       "  <thead>\n",
       "    <tr style=\"text-align: right;\">\n",
       "      <th></th>\n",
       "      <th>Row ID</th>\n",
       "      <th>Order ID</th>\n",
       "      <th>Order Date</th>\n",
       "      <th>Order Priority</th>\n",
       "      <th>Order Quantity</th>\n",
       "      <th>Sales</th>\n",
       "      <th>Discount</th>\n",
       "      <th>Ship Mode</th>\n",
       "      <th>Profit</th>\n",
       "      <th>Unit Price</th>\n",
       "      <th>...</th>\n",
       "      <th>Customer Name</th>\n",
       "      <th>Province</th>\n",
       "      <th>Region</th>\n",
       "      <th>Customer Segment</th>\n",
       "      <th>Product Category</th>\n",
       "      <th>Product Sub-Category</th>\n",
       "      <th>Product Name</th>\n",
       "      <th>Product Container</th>\n",
       "      <th>Product Base Margin</th>\n",
       "      <th>Ship Date</th>\n",
       "    </tr>\n",
       "  </thead>\n",
       "  <tbody>\n",
       "    <tr>\n",
       "      <th>0</th>\n",
       "      <td>1</td>\n",
       "      <td>3</td>\n",
       "      <td>2010-10-13</td>\n",
       "      <td>Low</td>\n",
       "      <td>6</td>\n",
       "      <td>261.5400</td>\n",
       "      <td>0.04</td>\n",
       "      <td>Regular Air</td>\n",
       "      <td>-213.250</td>\n",
       "      <td>38.94</td>\n",
       "      <td>...</td>\n",
       "      <td>Muhammed MacIntyre</td>\n",
       "      <td>Nunavut</td>\n",
       "      <td>Nunavut</td>\n",
       "      <td>Small Business</td>\n",
       "      <td>Office Supplies</td>\n",
       "      <td>Storage &amp; Organization</td>\n",
       "      <td>Eldon Base for stackable storage shelf, platinum</td>\n",
       "      <td>Large Box</td>\n",
       "      <td>0.80</td>\n",
       "      <td>2010-10-20</td>\n",
       "    </tr>\n",
       "    <tr>\n",
       "      <th>1</th>\n",
       "      <td>2</td>\n",
       "      <td>6</td>\n",
       "      <td>2012-02-20</td>\n",
       "      <td>Not Specified</td>\n",
       "      <td>2</td>\n",
       "      <td>6.9300</td>\n",
       "      <td>0.01</td>\n",
       "      <td>Regular Air</td>\n",
       "      <td>-4.640</td>\n",
       "      <td>2.08</td>\n",
       "      <td>...</td>\n",
       "      <td>Ruben Dartt</td>\n",
       "      <td>Alberta</td>\n",
       "      <td>West</td>\n",
       "      <td>Corporate</td>\n",
       "      <td>Office Supplies</td>\n",
       "      <td>Scissors, Rulers and Trimmers</td>\n",
       "      <td>Kleencut® Forged Office Shears by Acme United ...</td>\n",
       "      <td>Small Pack</td>\n",
       "      <td>0.55</td>\n",
       "      <td>2012-02-21</td>\n",
       "    </tr>\n",
       "    <tr>\n",
       "      <th>2</th>\n",
       "      <td>3</td>\n",
       "      <td>32</td>\n",
       "      <td>2011-07-15</td>\n",
       "      <td>High</td>\n",
       "      <td>26</td>\n",
       "      <td>2808.0800</td>\n",
       "      <td>0.07</td>\n",
       "      <td>Regular Air</td>\n",
       "      <td>1054.820</td>\n",
       "      <td>107.53</td>\n",
       "      <td>...</td>\n",
       "      <td>Liz Pelletier</td>\n",
       "      <td>Alberta</td>\n",
       "      <td>West</td>\n",
       "      <td>Corporate</td>\n",
       "      <td>Furniture</td>\n",
       "      <td>Office Furnishings</td>\n",
       "      <td>Tenex Contemporary Contur Chairmats for Low an...</td>\n",
       "      <td>Medium Box</td>\n",
       "      <td>0.65</td>\n",
       "      <td>2011-07-17</td>\n",
       "    </tr>\n",
       "    <tr>\n",
       "      <th>3</th>\n",
       "      <td>4</td>\n",
       "      <td>32</td>\n",
       "      <td>2011-07-15</td>\n",
       "      <td>High</td>\n",
       "      <td>24</td>\n",
       "      <td>1761.4000</td>\n",
       "      <td>0.09</td>\n",
       "      <td>Delivery Truck</td>\n",
       "      <td>-1748.560</td>\n",
       "      <td>70.89</td>\n",
       "      <td>...</td>\n",
       "      <td>Liz Pelletier</td>\n",
       "      <td>Alberta</td>\n",
       "      <td>West</td>\n",
       "      <td>Corporate</td>\n",
       "      <td>Furniture</td>\n",
       "      <td>Tables</td>\n",
       "      <td>KI Conference Tables</td>\n",
       "      <td>Jumbo Box</td>\n",
       "      <td>0.72</td>\n",
       "      <td>2011-07-16</td>\n",
       "    </tr>\n",
       "    <tr>\n",
       "      <th>4</th>\n",
       "      <td>5</td>\n",
       "      <td>32</td>\n",
       "      <td>2011-07-15</td>\n",
       "      <td>High</td>\n",
       "      <td>23</td>\n",
       "      <td>160.2335</td>\n",
       "      <td>0.04</td>\n",
       "      <td>Regular Air</td>\n",
       "      <td>-85.129</td>\n",
       "      <td>7.99</td>\n",
       "      <td>...</td>\n",
       "      <td>Liz Pelletier</td>\n",
       "      <td>Alberta</td>\n",
       "      <td>West</td>\n",
       "      <td>Corporate</td>\n",
       "      <td>Technology</td>\n",
       "      <td>Telephones and Communication</td>\n",
       "      <td>Bell Sonecor JB700 Caller ID</td>\n",
       "      <td>Medium Box</td>\n",
       "      <td>0.60</td>\n",
       "      <td>2011-07-17</td>\n",
       "    </tr>\n",
       "  </tbody>\n",
       "</table>\n",
       "<p>5 rows × 21 columns</p>\n",
       "</div>"
      ],
      "text/plain": [
       "   Row ID  Order ID Order Date Order Priority  Order Quantity      Sales  \\\n",
       "0       1         3 2010-10-13            Low               6   261.5400   \n",
       "1       2         6 2012-02-20  Not Specified               2     6.9300   \n",
       "2       3        32 2011-07-15           High              26  2808.0800   \n",
       "3       4        32 2011-07-15           High              24  1761.4000   \n",
       "4       5        32 2011-07-15           High              23   160.2335   \n",
       "\n",
       "   Discount       Ship Mode    Profit  Unit Price  ...       Customer Name  \\\n",
       "0      0.04     Regular Air  -213.250       38.94  ...  Muhammed MacIntyre   \n",
       "1      0.01     Regular Air    -4.640        2.08  ...         Ruben Dartt   \n",
       "2      0.07     Regular Air  1054.820      107.53  ...       Liz Pelletier   \n",
       "3      0.09  Delivery Truck -1748.560       70.89  ...       Liz Pelletier   \n",
       "4      0.04     Regular Air   -85.129        7.99  ...       Liz Pelletier   \n",
       "\n",
       "  Province   Region Customer Segment Product Category  \\\n",
       "0  Nunavut  Nunavut   Small Business  Office Supplies   \n",
       "1  Alberta     West        Corporate  Office Supplies   \n",
       "2  Alberta     West        Corporate        Furniture   \n",
       "3  Alberta     West        Corporate        Furniture   \n",
       "4  Alberta     West        Corporate       Technology   \n",
       "\n",
       "            Product Sub-Category  \\\n",
       "0         Storage & Organization   \n",
       "1  Scissors, Rulers and Trimmers   \n",
       "2             Office Furnishings   \n",
       "3                         Tables   \n",
       "4   Telephones and Communication   \n",
       "\n",
       "                                        Product Name Product Container  \\\n",
       "0   Eldon Base for stackable storage shelf, platinum         Large Box   \n",
       "1  Kleencut® Forged Office Shears by Acme United ...        Small Pack   \n",
       "2  Tenex Contemporary Contur Chairmats for Low an...        Medium Box   \n",
       "3                               KI Conference Tables         Jumbo Box   \n",
       "4                       Bell Sonecor JB700 Caller ID        Medium Box   \n",
       "\n",
       "  Product Base Margin  Ship Date  \n",
       "0                0.80 2010-10-20  \n",
       "1                0.55 2012-02-21  \n",
       "2                0.65 2011-07-17  \n",
       "3                0.72 2011-07-16  \n",
       "4                0.60 2011-07-17  \n",
       "\n",
       "[5 rows x 21 columns]"
      ]
     },
     "execution_count": 222,
     "metadata": {},
     "output_type": "execute_result"
    }
   ],
   "source": [
    "fd = pd.read_excel('C:/Users/H/Downloads/d.xlsx')\n",
    "fd.head()"
   ]
  },
  {
   "cell_type": "code",
   "execution_count": 225,
   "metadata": {},
   "outputs": [
    {
     "data": {
      "text/html": [
       "<div>\n",
       "<style scoped>\n",
       "    .dataframe tbody tr th:only-of-type {\n",
       "        vertical-align: middle;\n",
       "    }\n",
       "\n",
       "    .dataframe tbody tr th {\n",
       "        vertical-align: top;\n",
       "    }\n",
       "\n",
       "    .dataframe thead th {\n",
       "        text-align: right;\n",
       "    }\n",
       "</style>\n",
       "<table border=\"1\" class=\"dataframe\">\n",
       "  <thead>\n",
       "    <tr style=\"text-align: right;\">\n",
       "      <th></th>\n",
       "      <th>Discount</th>\n",
       "      <th>Sales</th>\n",
       "    </tr>\n",
       "  </thead>\n",
       "  <tbody>\n",
       "    <tr>\n",
       "      <th>0</th>\n",
       "      <td>0.00</td>\n",
       "      <td>1.493748e+06</td>\n",
       "    </tr>\n",
       "    <tr>\n",
       "      <th>1</th>\n",
       "      <td>0.01</td>\n",
       "      <td>1.487746e+06</td>\n",
       "    </tr>\n",
       "    <tr>\n",
       "      <th>2</th>\n",
       "      <td>0.02</td>\n",
       "      <td>1.362555e+06</td>\n",
       "    </tr>\n",
       "    <tr>\n",
       "      <th>3</th>\n",
       "      <td>0.03</td>\n",
       "      <td>1.335275e+06</td>\n",
       "    </tr>\n",
       "    <tr>\n",
       "      <th>4</th>\n",
       "      <td>0.04</td>\n",
       "      <td>1.379479e+06</td>\n",
       "    </tr>\n",
       "  </tbody>\n",
       "</table>\n",
       "</div>"
      ],
      "text/plain": [
       "   Discount         Sales\n",
       "0      0.00  1.493748e+06\n",
       "1      0.01  1.487746e+06\n",
       "2      0.02  1.362555e+06\n",
       "3      0.03  1.335275e+06\n",
       "4      0.04  1.379479e+06"
      ]
     },
     "execution_count": 225,
     "metadata": {},
     "output_type": "execute_result"
    }
   ],
   "source": [
    "fd = fd.groupby('Discount',as_index = False)['Sales'].mean()\n",
    "fd.head()"
   ]
  },
  {
   "cell_type": "code",
   "execution_count": 229,
   "metadata": {},
   "outputs": [
    {
     "data": {
      "text/html": [
       "<div>\n",
       "<style scoped>\n",
       "    .dataframe tbody tr th:only-of-type {\n",
       "        vertical-align: middle;\n",
       "    }\n",
       "\n",
       "    .dataframe tbody tr th {\n",
       "        vertical-align: top;\n",
       "    }\n",
       "\n",
       "    .dataframe thead th {\n",
       "        text-align: right;\n",
       "    }\n",
       "</style>\n",
       "<table border=\"1\" class=\"dataframe\">\n",
       "  <thead>\n",
       "    <tr style=\"text-align: right;\">\n",
       "      <th></th>\n",
       "      <th>Discount</th>\n",
       "      <th>Sales</th>\n",
       "    </tr>\n",
       "  </thead>\n",
       "  <tbody>\n",
       "    <tr>\n",
       "      <th>Discount</th>\n",
       "      <td>1.000000</td>\n",
       "      <td>-0.878447</td>\n",
       "    </tr>\n",
       "    <tr>\n",
       "      <th>Sales</th>\n",
       "      <td>-0.878447</td>\n",
       "      <td>1.000000</td>\n",
       "    </tr>\n",
       "  </tbody>\n",
       "</table>\n",
       "</div>"
      ],
      "text/plain": [
       "          Discount     Sales\n",
       "Discount  1.000000 -0.878447\n",
       "Sales    -0.878447  1.000000"
      ]
     },
     "execution_count": 229,
     "metadata": {},
     "output_type": "execute_result"
    }
   ],
   "source": [
    "#pd.Series.corr(self,other,method = 'pearson/kendall/sparman/callable(callable is with input two 1d nd arrays and returning float)')\n",
    "#Compute correlation with other series, excluding missing values\n",
    "\n",
    "fd.corr(method = 'pearson')"
   ]
  },
  {
   "cell_type": "code",
   "execution_count": 230,
   "metadata": {},
   "outputs": [
    {
     "data": {
      "text/plain": [
       "6"
      ]
     },
     "execution_count": 230,
     "metadata": {},
     "output_type": "execute_result"
    }
   ],
   "source": [
    "#pd.Series.count(self)\n",
    "#Return number of non-NA/null obseravtions in the series\n",
    "\n",
    "pd.Series([1,2,3,np.nan,5,2,1,np.nan]).count()"
   ]
  },
  {
   "cell_type": "code",
   "execution_count": 231,
   "metadata": {},
   "outputs": [
    {
     "data": {
      "text/html": [
       "<div>\n",
       "<style scoped>\n",
       "    .dataframe tbody tr th:only-of-type {\n",
       "        vertical-align: middle;\n",
       "    }\n",
       "\n",
       "    .dataframe tbody tr th {\n",
       "        vertical-align: top;\n",
       "    }\n",
       "\n",
       "    .dataframe thead th {\n",
       "        text-align: right;\n",
       "    }\n",
       "</style>\n",
       "<table border=\"1\" class=\"dataframe\">\n",
       "  <thead>\n",
       "    <tr style=\"text-align: right;\">\n",
       "      <th></th>\n",
       "      <th>Discount</th>\n",
       "      <th>Sales</th>\n",
       "    </tr>\n",
       "  </thead>\n",
       "  <tbody>\n",
       "    <tr>\n",
       "      <th>Discount</th>\n",
       "      <td>0.005353</td>\n",
       "      <td>-4.198062e+04</td>\n",
       "    </tr>\n",
       "    <tr>\n",
       "      <th>Sales</th>\n",
       "      <td>-41980.617317</td>\n",
       "      <td>4.266545e+11</td>\n",
       "    </tr>\n",
       "  </tbody>\n",
       "</table>\n",
       "</div>"
      ],
      "text/plain": [
       "              Discount         Sales\n",
       "Discount      0.005353 -4.198062e+04\n",
       "Sales    -41980.617317  4.266545e+11"
      ]
     },
     "execution_count": 231,
     "metadata": {},
     "output_type": "execute_result"
    }
   ],
   "source": [
    "#pd.Series.cov(self,other,min_periods = None)\n",
    "#Compute covariance with the Series, excluding missing values\n",
    "#covariance = the mean value of the product of the deviations of two variates from their respective means.\n",
    "\n",
    "fd.cov()"
   ]
  },
  {
   "cell_type": "code",
   "execution_count": 235,
   "metadata": {},
   "outputs": [
    {
     "data": {
      "text/plain": [
       "0     1\n",
       "1     2\n",
       "2     3\n",
       "3     3\n",
       "4     3\n",
       "5     4\n",
       "6     5\n",
       "7     5\n",
       "8     5\n",
       "9     5\n",
       "10    5\n",
       "11    5\n",
       "dtype: int64"
      ]
     },
     "execution_count": 235,
     "metadata": {},
     "output_type": "execute_result"
    }
   ],
   "source": [
    "#pd.Series.cummax(self~series/Dataframe)\n",
    "#Return cumulative maximum over a Dataframe or Series axis\n",
    "\n",
    "pd.Series([1,2,3,1,2,4,5,5,1,2,3,4]).cummax()"
   ]
  },
  {
   "cell_type": "code",
   "execution_count": 236,
   "metadata": {},
   "outputs": [
    {
     "data": {
      "text/plain": [
       "0    10\n",
       "1     2\n",
       "2     2\n",
       "3     2\n",
       "4     2\n",
       "5     1\n",
       "6     1\n",
       "7     1\n",
       "8     1\n",
       "dtype: int64"
      ]
     },
     "execution_count": 236,
     "metadata": {},
     "output_type": "execute_result"
    }
   ],
   "source": [
    "#pd.Series.cummin(self~series/Dataframe)\n",
    "#Return cumulative minimum over a Dataframe or Series axis\n",
    "\n",
    "pd.Series([10,2,4,3,2,1,4,2,10]).cummin()"
   ]
  },
  {
   "cell_type": "code",
   "execution_count": 237,
   "metadata": {},
   "outputs": [
    {
     "data": {
      "text/plain": [
       "0       10\n",
       "1       20\n",
       "2       80\n",
       "3      240\n",
       "4      480\n",
       "5      480\n",
       "6     1920\n",
       "7     3840\n",
       "8    38400\n",
       "dtype: int64"
      ]
     },
     "execution_count": 237,
     "metadata": {},
     "output_type": "execute_result"
    }
   ],
   "source": [
    "#pd.Series.cumprod(self~series/Dataframe)\n",
    "#Return cumulative product over a Dataframe or Series axis\n",
    "\n",
    "pd.Series([10,2,4,3,2,1,4,2,10]).cumprod()"
   ]
  },
  {
   "cell_type": "code",
   "execution_count": 238,
   "metadata": {},
   "outputs": [
    {
     "data": {
      "text/plain": [
       "0      1\n",
       "1      3\n",
       "2      6\n",
       "3      7\n",
       "4      9\n",
       "5     13\n",
       "6     18\n",
       "7     23\n",
       "8     24\n",
       "9     26\n",
       "10    29\n",
       "11    33\n",
       "dtype: int64"
      ]
     },
     "execution_count": 238,
     "metadata": {},
     "output_type": "execute_result"
    }
   ],
   "source": [
    "#pd.Series.cumsum(self~series/Dataframe)\n",
    "#Return cumulative sum over a Dataframe or Series axis\n",
    "\n",
    "pd.Series([1,2,3,1,2,4,5,5,1,2,3,4]).cumsum()"
   ]
  },
  {
   "cell_type": "code",
   "execution_count": 239,
   "metadata": {},
   "outputs": [
    {
     "data": {
      "text/html": [
       "<div>\n",
       "<style scoped>\n",
       "    .dataframe tbody tr th:only-of-type {\n",
       "        vertical-align: middle;\n",
       "    }\n",
       "\n",
       "    .dataframe tbody tr th {\n",
       "        vertical-align: top;\n",
       "    }\n",
       "\n",
       "    .dataframe thead th {\n",
       "        text-align: right;\n",
       "    }\n",
       "</style>\n",
       "<table border=\"1\" class=\"dataframe\">\n",
       "  <thead>\n",
       "    <tr style=\"text-align: right;\">\n",
       "      <th></th>\n",
       "      <th>Row ID</th>\n",
       "      <th>Order ID</th>\n",
       "      <th>Order Date</th>\n",
       "      <th>Order Priority</th>\n",
       "      <th>Order Quantity</th>\n",
       "      <th>Sales</th>\n",
       "      <th>Discount</th>\n",
       "      <th>Ship Mode</th>\n",
       "      <th>Profit</th>\n",
       "      <th>Unit Price</th>\n",
       "      <th>...</th>\n",
       "      <th>Customer Name</th>\n",
       "      <th>Province</th>\n",
       "      <th>Region</th>\n",
       "      <th>Customer Segment</th>\n",
       "      <th>Product Category</th>\n",
       "      <th>Product Sub-Category</th>\n",
       "      <th>Product Name</th>\n",
       "      <th>Product Container</th>\n",
       "      <th>Product Base Margin</th>\n",
       "      <th>Ship Date</th>\n",
       "    </tr>\n",
       "  </thead>\n",
       "  <tbody>\n",
       "    <tr>\n",
       "      <th>0</th>\n",
       "      <td>1</td>\n",
       "      <td>3</td>\n",
       "      <td>2010-10-13</td>\n",
       "      <td>Low</td>\n",
       "      <td>6</td>\n",
       "      <td>261.5400</td>\n",
       "      <td>0.04</td>\n",
       "      <td>Regular Air</td>\n",
       "      <td>-213.250</td>\n",
       "      <td>38.94</td>\n",
       "      <td>...</td>\n",
       "      <td>Muhammed MacIntyre</td>\n",
       "      <td>Nunavut</td>\n",
       "      <td>Nunavut</td>\n",
       "      <td>Small Business</td>\n",
       "      <td>Office Supplies</td>\n",
       "      <td>Storage &amp; Organization</td>\n",
       "      <td>Eldon Base for stackable storage shelf, platinum</td>\n",
       "      <td>Large Box</td>\n",
       "      <td>0.80</td>\n",
       "      <td>2010-10-20</td>\n",
       "    </tr>\n",
       "    <tr>\n",
       "      <th>1</th>\n",
       "      <td>2</td>\n",
       "      <td>6</td>\n",
       "      <td>2012-02-20</td>\n",
       "      <td>Not Specified</td>\n",
       "      <td>2</td>\n",
       "      <td>6.9300</td>\n",
       "      <td>0.01</td>\n",
       "      <td>Regular Air</td>\n",
       "      <td>-4.640</td>\n",
       "      <td>2.08</td>\n",
       "      <td>...</td>\n",
       "      <td>Ruben Dartt</td>\n",
       "      <td>Alberta</td>\n",
       "      <td>West</td>\n",
       "      <td>Corporate</td>\n",
       "      <td>Office Supplies</td>\n",
       "      <td>Scissors, Rulers and Trimmers</td>\n",
       "      <td>Kleencut® Forged Office Shears by Acme United ...</td>\n",
       "      <td>Small Pack</td>\n",
       "      <td>0.55</td>\n",
       "      <td>2012-02-21</td>\n",
       "    </tr>\n",
       "    <tr>\n",
       "      <th>2</th>\n",
       "      <td>3</td>\n",
       "      <td>32</td>\n",
       "      <td>2011-07-15</td>\n",
       "      <td>High</td>\n",
       "      <td>26</td>\n",
       "      <td>2808.0800</td>\n",
       "      <td>0.07</td>\n",
       "      <td>Regular Air</td>\n",
       "      <td>1054.820</td>\n",
       "      <td>107.53</td>\n",
       "      <td>...</td>\n",
       "      <td>Liz Pelletier</td>\n",
       "      <td>Alberta</td>\n",
       "      <td>West</td>\n",
       "      <td>Corporate</td>\n",
       "      <td>Furniture</td>\n",
       "      <td>Office Furnishings</td>\n",
       "      <td>Tenex Contemporary Contur Chairmats for Low an...</td>\n",
       "      <td>Medium Box</td>\n",
       "      <td>0.65</td>\n",
       "      <td>2011-07-17</td>\n",
       "    </tr>\n",
       "    <tr>\n",
       "      <th>3</th>\n",
       "      <td>4</td>\n",
       "      <td>32</td>\n",
       "      <td>2011-07-15</td>\n",
       "      <td>High</td>\n",
       "      <td>24</td>\n",
       "      <td>1761.4000</td>\n",
       "      <td>0.09</td>\n",
       "      <td>Delivery Truck</td>\n",
       "      <td>-1748.560</td>\n",
       "      <td>70.89</td>\n",
       "      <td>...</td>\n",
       "      <td>Liz Pelletier</td>\n",
       "      <td>Alberta</td>\n",
       "      <td>West</td>\n",
       "      <td>Corporate</td>\n",
       "      <td>Furniture</td>\n",
       "      <td>Tables</td>\n",
       "      <td>KI Conference Tables</td>\n",
       "      <td>Jumbo Box</td>\n",
       "      <td>0.72</td>\n",
       "      <td>2011-07-16</td>\n",
       "    </tr>\n",
       "    <tr>\n",
       "      <th>4</th>\n",
       "      <td>5</td>\n",
       "      <td>32</td>\n",
       "      <td>2011-07-15</td>\n",
       "      <td>High</td>\n",
       "      <td>23</td>\n",
       "      <td>160.2335</td>\n",
       "      <td>0.04</td>\n",
       "      <td>Regular Air</td>\n",
       "      <td>-85.129</td>\n",
       "      <td>7.99</td>\n",
       "      <td>...</td>\n",
       "      <td>Liz Pelletier</td>\n",
       "      <td>Alberta</td>\n",
       "      <td>West</td>\n",
       "      <td>Corporate</td>\n",
       "      <td>Technology</td>\n",
       "      <td>Telephones and Communication</td>\n",
       "      <td>Bell Sonecor JB700 Caller ID</td>\n",
       "      <td>Medium Box</td>\n",
       "      <td>0.60</td>\n",
       "      <td>2011-07-17</td>\n",
       "    </tr>\n",
       "  </tbody>\n",
       "</table>\n",
       "<p>5 rows × 21 columns</p>\n",
       "</div>"
      ],
      "text/plain": [
       "   Row ID  Order ID Order Date Order Priority  Order Quantity      Sales  \\\n",
       "0       1         3 2010-10-13            Low               6   261.5400   \n",
       "1       2         6 2012-02-20  Not Specified               2     6.9300   \n",
       "2       3        32 2011-07-15           High              26  2808.0800   \n",
       "3       4        32 2011-07-15           High              24  1761.4000   \n",
       "4       5        32 2011-07-15           High              23   160.2335   \n",
       "\n",
       "   Discount       Ship Mode    Profit  Unit Price  ...       Customer Name  \\\n",
       "0      0.04     Regular Air  -213.250       38.94  ...  Muhammed MacIntyre   \n",
       "1      0.01     Regular Air    -4.640        2.08  ...         Ruben Dartt   \n",
       "2      0.07     Regular Air  1054.820      107.53  ...       Liz Pelletier   \n",
       "3      0.09  Delivery Truck -1748.560       70.89  ...       Liz Pelletier   \n",
       "4      0.04     Regular Air   -85.129        7.99  ...       Liz Pelletier   \n",
       "\n",
       "  Province   Region Customer Segment Product Category  \\\n",
       "0  Nunavut  Nunavut   Small Business  Office Supplies   \n",
       "1  Alberta     West        Corporate  Office Supplies   \n",
       "2  Alberta     West        Corporate        Furniture   \n",
       "3  Alberta     West        Corporate        Furniture   \n",
       "4  Alberta     West        Corporate       Technology   \n",
       "\n",
       "            Product Sub-Category  \\\n",
       "0         Storage & Organization   \n",
       "1  Scissors, Rulers and Trimmers   \n",
       "2             Office Furnishings   \n",
       "3                         Tables   \n",
       "4   Telephones and Communication   \n",
       "\n",
       "                                        Product Name Product Container  \\\n",
       "0   Eldon Base for stackable storage shelf, platinum         Large Box   \n",
       "1  Kleencut® Forged Office Shears by Acme United ...        Small Pack   \n",
       "2  Tenex Contemporary Contur Chairmats for Low an...        Medium Box   \n",
       "3                               KI Conference Tables         Jumbo Box   \n",
       "4                       Bell Sonecor JB700 Caller ID        Medium Box   \n",
       "\n",
       "  Product Base Margin  Ship Date  \n",
       "0                0.80 2010-10-20  \n",
       "1                0.55 2012-02-21  \n",
       "2                0.65 2011-07-17  \n",
       "3                0.72 2011-07-16  \n",
       "4                0.60 2011-07-17  \n",
       "\n",
       "[5 rows x 21 columns]"
      ]
     },
     "execution_count": 239,
     "metadata": {},
     "output_type": "execute_result"
    }
   ],
   "source": [
    "adg = pd.read_excel('C:/Users/H/Downloads/d.xlsx')\n",
    "adg.head()"
   ]
  },
  {
   "cell_type": "code",
   "execution_count": 240,
   "metadata": {},
   "outputs": [
    {
     "data": {
      "text/html": [
       "<div>\n",
       "<style scoped>\n",
       "    .dataframe tbody tr th:only-of-type {\n",
       "        vertical-align: middle;\n",
       "    }\n",
       "\n",
       "    .dataframe tbody tr th {\n",
       "        vertical-align: top;\n",
       "    }\n",
       "\n",
       "    .dataframe thead th {\n",
       "        text-align: right;\n",
       "    }\n",
       "</style>\n",
       "<table border=\"1\" class=\"dataframe\">\n",
       "  <thead>\n",
       "    <tr style=\"text-align: right;\">\n",
       "      <th></th>\n",
       "      <th>Row ID</th>\n",
       "      <th>Order ID</th>\n",
       "      <th>Order Quantity</th>\n",
       "      <th>Sales</th>\n",
       "      <th>Discount</th>\n",
       "      <th>Profit</th>\n",
       "      <th>Unit Price</th>\n",
       "      <th>Shipping Cost</th>\n",
       "      <th>Product Base Margin</th>\n",
       "    </tr>\n",
       "  </thead>\n",
       "  <tbody>\n",
       "    <tr>\n",
       "      <th>count</th>\n",
       "      <td>8399.000000</td>\n",
       "      <td>8399.000000</td>\n",
       "      <td>8399.000000</td>\n",
       "      <td>8399.000000</td>\n",
       "      <td>8399.000000</td>\n",
       "      <td>8399.000000</td>\n",
       "      <td>8399.000000</td>\n",
       "      <td>8399.000000</td>\n",
       "      <td>8336.000000</td>\n",
       "    </tr>\n",
       "    <tr>\n",
       "      <th>mean</th>\n",
       "      <td>4200.000000</td>\n",
       "      <td>29965.179783</td>\n",
       "      <td>25.571735</td>\n",
       "      <td>1775.878179</td>\n",
       "      <td>0.049671</td>\n",
       "      <td>181.184422</td>\n",
       "      <td>89.346259</td>\n",
       "      <td>12.838557</td>\n",
       "      <td>0.512513</td>\n",
       "    </tr>\n",
       "    <tr>\n",
       "      <th>std</th>\n",
       "      <td>2424.726789</td>\n",
       "      <td>17260.883447</td>\n",
       "      <td>14.481071</td>\n",
       "      <td>3585.050525</td>\n",
       "      <td>0.031823</td>\n",
       "      <td>1196.653326</td>\n",
       "      <td>290.354383</td>\n",
       "      <td>17.264052</td>\n",
       "      <td>0.135589</td>\n",
       "    </tr>\n",
       "    <tr>\n",
       "      <th>min</th>\n",
       "      <td>1.000000</td>\n",
       "      <td>3.000000</td>\n",
       "      <td>1.000000</td>\n",
       "      <td>2.240000</td>\n",
       "      <td>0.000000</td>\n",
       "      <td>-14140.701600</td>\n",
       "      <td>0.990000</td>\n",
       "      <td>0.490000</td>\n",
       "      <td>0.350000</td>\n",
       "    </tr>\n",
       "    <tr>\n",
       "      <th>25%</th>\n",
       "      <td>2100.500000</td>\n",
       "      <td>15011.500000</td>\n",
       "      <td>13.000000</td>\n",
       "      <td>143.195000</td>\n",
       "      <td>0.020000</td>\n",
       "      <td>-83.315000</td>\n",
       "      <td>6.480000</td>\n",
       "      <td>3.300000</td>\n",
       "      <td>0.380000</td>\n",
       "    </tr>\n",
       "    <tr>\n",
       "      <th>50%</th>\n",
       "      <td>4200.000000</td>\n",
       "      <td>29857.000000</td>\n",
       "      <td>26.000000</td>\n",
       "      <td>449.420000</td>\n",
       "      <td>0.050000</td>\n",
       "      <td>-1.500000</td>\n",
       "      <td>20.990000</td>\n",
       "      <td>6.070000</td>\n",
       "      <td>0.520000</td>\n",
       "    </tr>\n",
       "    <tr>\n",
       "      <th>75%</th>\n",
       "      <td>6299.500000</td>\n",
       "      <td>44596.000000</td>\n",
       "      <td>38.000000</td>\n",
       "      <td>1709.320000</td>\n",
       "      <td>0.080000</td>\n",
       "      <td>162.748000</td>\n",
       "      <td>85.990000</td>\n",
       "      <td>13.990000</td>\n",
       "      <td>0.590000</td>\n",
       "    </tr>\n",
       "    <tr>\n",
       "      <th>max</th>\n",
       "      <td>8399.000000</td>\n",
       "      <td>59973.000000</td>\n",
       "      <td>50.000000</td>\n",
       "      <td>89061.050000</td>\n",
       "      <td>0.250000</td>\n",
       "      <td>27220.690000</td>\n",
       "      <td>6783.020000</td>\n",
       "      <td>164.730000</td>\n",
       "      <td>0.850000</td>\n",
       "    </tr>\n",
       "  </tbody>\n",
       "</table>\n",
       "</div>"
      ],
      "text/plain": [
       "            Row ID      Order ID  Order Quantity         Sales     Discount  \\\n",
       "count  8399.000000   8399.000000     8399.000000   8399.000000  8399.000000   \n",
       "mean   4200.000000  29965.179783       25.571735   1775.878179     0.049671   \n",
       "std    2424.726789  17260.883447       14.481071   3585.050525     0.031823   \n",
       "min       1.000000      3.000000        1.000000      2.240000     0.000000   \n",
       "25%    2100.500000  15011.500000       13.000000    143.195000     0.020000   \n",
       "50%    4200.000000  29857.000000       26.000000    449.420000     0.050000   \n",
       "75%    6299.500000  44596.000000       38.000000   1709.320000     0.080000   \n",
       "max    8399.000000  59973.000000       50.000000  89061.050000     0.250000   \n",
       "\n",
       "             Profit   Unit Price  Shipping Cost  Product Base Margin  \n",
       "count   8399.000000  8399.000000    8399.000000          8336.000000  \n",
       "mean     181.184422    89.346259      12.838557             0.512513  \n",
       "std     1196.653326   290.354383      17.264052             0.135589  \n",
       "min   -14140.701600     0.990000       0.490000             0.350000  \n",
       "25%      -83.315000     6.480000       3.300000             0.380000  \n",
       "50%       -1.500000    20.990000       6.070000             0.520000  \n",
       "75%      162.748000    85.990000      13.990000             0.590000  \n",
       "max    27220.690000  6783.020000     164.730000             0.850000  "
      ]
     },
     "execution_count": 240,
     "metadata": {},
     "output_type": "execute_result"
    }
   ],
   "source": [
    "#pd.Series.describe(self~series/dataframe)\n",
    "#General descriptive statistics\n",
    "\n",
    "adg.describe()"
   ]
  },
  {
   "cell_type": "code",
   "execution_count": 241,
   "metadata": {},
   "outputs": [
    {
     "data": {
      "text/plain": [
       "0    NaN\n",
       "1    NaN\n",
       "2    3.0\n",
       "3    0.0\n",
       "4    4.0\n",
       "5    1.0\n",
       "6   -2.0\n",
       "7    6.0\n",
       "8   -1.0\n",
       "dtype: float64"
      ]
     },
     "execution_count": 241,
     "metadata": {},
     "output_type": "execute_result"
    }
   ],
   "source": [
    "#pd.Series.diff(self,periods = default 1)\n",
    "#Calucate the difference of a series element compared with another element in the series\n",
    "\n",
    "pd.Series([1,2,4,2,8,3,6,9,5]).diff(periods = 2)"
   ]
  },
  {
   "cell_type": "code",
   "execution_count": 245,
   "metadata": {},
   "outputs": [],
   "source": [
    "#pd.Series.factorize(self~series,sort =default False)\n",
    "#Encode the object as an enumerated type or categorical variable\n",
    "\n",
    "codes,uniques = pd.Series([1,2,'a',3,2,1,'a','z','z']).factorize()"
   ]
  },
  {
   "cell_type": "code",
   "execution_count": 246,
   "metadata": {},
   "outputs": [
    {
     "data": {
      "text/plain": [
       "array([0, 1, 2, 3, 1, 0, 2, 4, 4], dtype=int64)"
      ]
     },
     "execution_count": 246,
     "metadata": {},
     "output_type": "execute_result"
    }
   ],
   "source": [
    "codes"
   ]
  },
  {
   "cell_type": "code",
   "execution_count": 247,
   "metadata": {},
   "outputs": [
    {
     "data": {
      "text/plain": [
       "Index([1, 2, 'a', 3, 'z'], dtype='object')"
      ]
     },
     "execution_count": 247,
     "metadata": {},
     "output_type": "execute_result"
    }
   ],
   "source": [
    "uniques"
   ]
  },
  {
   "cell_type": "code",
   "execution_count": 248,
   "metadata": {},
   "outputs": [
    {
     "data": {
      "text/plain": [
       "-1.0600583090379012"
      ]
     },
     "execution_count": 248,
     "metadata": {},
     "output_type": "execute_result"
    }
   ],
   "source": [
    "#pd.Series.kurt(self,axis= default None)\n",
    "#Return unbiased kurtosis over requested axis\n",
    "\n",
    "pd.Series([1,2,3,4,5,4,3,2,1]).kurt()"
   ]
  },
  {
   "cell_type": "code",
   "execution_count": 249,
   "metadata": {},
   "outputs": [
    {
     "data": {
      "text/plain": [
       "2.1652892561983466"
      ]
     },
     "execution_count": 249,
     "metadata": {},
     "output_type": "execute_result"
    }
   ],
   "source": [
    "#pd.Series.mad(self,axis = None)\n",
    "#Return the mean absolute deviation of the values for the requested axis\n",
    "\n",
    "pd.Series([1,2,3,4,6,6,4,3,9,7,8]).mad()"
   ]
  },
  {
   "cell_type": "code",
   "execution_count": 250,
   "metadata": {},
   "outputs": [
    {
     "data": {
      "text/plain": [
       "9"
      ]
     },
     "execution_count": 250,
     "metadata": {},
     "output_type": "execute_result"
    }
   ],
   "source": [
    "#pd.Series.max(self,axis = None)\n",
    "#Return the maximum of the values for the requested axis\n",
    "\n",
    "pd.Series([1,2,3,4,6,6,4,3,9,7,8]).max()"
   ]
  },
  {
   "cell_type": "code",
   "execution_count": 251,
   "metadata": {},
   "outputs": [
    {
     "data": {
      "text/plain": [
       "4.818181818181818"
      ]
     },
     "execution_count": 251,
     "metadata": {},
     "output_type": "execute_result"
    }
   ],
   "source": [
    "#pd.Series.mean(self,axis = None)\n",
    "#Return the mean of the values for the requested axis\n",
    "\n",
    "pd.Series([1,2,3,4,6,6,4,3,9,7,8]).mean()"
   ]
  },
  {
   "cell_type": "code",
   "execution_count": 252,
   "metadata": {},
   "outputs": [
    {
     "data": {
      "text/plain": [
       "4.0"
      ]
     },
     "execution_count": 252,
     "metadata": {},
     "output_type": "execute_result"
    }
   ],
   "source": [
    "#pd.Series.mediam(self,axis = None)\n",
    "#Return the median of the values for the requested axis\n",
    "\n",
    "pd.Series([1,2,3,4,6,6,4,3,9,7,8]).median()"
   ]
  },
  {
   "cell_type": "code",
   "execution_count": 253,
   "metadata": {},
   "outputs": [
    {
     "data": {
      "text/plain": [
       "1"
      ]
     },
     "execution_count": 253,
     "metadata": {},
     "output_type": "execute_result"
    }
   ],
   "source": [
    "#pd.Series.min(self,axis = None)\n",
    "#Return the minimum of the values for the requested axis\n",
    "\n",
    "pd.Series([1,2,3,4,6,6,4,3,9,7,8]).min()"
   ]
  },
  {
   "cell_type": "code",
   "execution_count": 254,
   "metadata": {},
   "outputs": [
    {
     "data": {
      "text/plain": [
       "0    3\n",
       "1    4\n",
       "2    6\n",
       "dtype: int64"
      ]
     },
     "execution_count": 254,
     "metadata": {},
     "output_type": "execute_result"
    }
   ],
   "source": [
    "#pd.Series.mode(self,axis = None)\n",
    "#Return the mode of the values for the requested axis(always returns the series even if one value is mode)\n",
    "\n",
    "pd.Series([1,2,3,4,6,6,4,3,9,7,8]).mode()"
   ]
  },
  {
   "cell_type": "code",
   "execution_count": 257,
   "metadata": {},
   "outputs": [
    {
     "data": {
      "text/plain": [
       "KING        100\n",
       "QUEEN       100\n",
       "MINISTER     90\n",
       "SOLDIER      80\n",
       "ARCHER       80\n",
       "SAGE         90\n",
       "dtype: int64"
      ]
     },
     "execution_count": 257,
     "metadata": {},
     "output_type": "execute_result"
    }
   ],
   "source": [
    "power = {'KING':100,'QUEEN':100,'MINISTER':90,'SOLDIER':80,'ARCHER':80,'SAGE':90}\n",
    "power = pd.Series(power)\n",
    "power"
   ]
  },
  {
   "cell_type": "code",
   "execution_count": 264,
   "metadata": {},
   "outputs": [
    {
     "data": {
      "text/plain": [
       "KING        100\n",
       "QUEEN       100\n",
       "MINISTER     90\n",
       "dtype: int64"
      ]
     },
     "execution_count": 264,
     "metadata": {},
     "output_type": "execute_result"
    }
   ],
   "source": [
    "#pd.Series.nlargest(self,n.keep = 'default first')\n",
    "#Return the largest n elements\n",
    "\n",
    "power.nlargest(n=3)"
   ]
  },
  {
   "cell_type": "code",
   "execution_count": 262,
   "metadata": {},
   "outputs": [
    {
     "data": {
      "text/plain": [
       "KING        100\n",
       "QUEEN       100\n",
       "MINISTER     90\n",
       "SAGE         90\n",
       "dtype: int64"
      ]
     },
     "execution_count": 262,
     "metadata": {},
     "output_type": "execute_result"
    }
   ],
   "source": [
    "power.nlargest(n=3,keep = 'all')"
   ]
  },
  {
   "cell_type": "code",
   "execution_count": 263,
   "metadata": {},
   "outputs": [
    {
     "data": {
      "text/plain": [
       "QUEEN    100\n",
       "KING     100\n",
       "SAGE      90\n",
       "dtype: int64"
      ]
     },
     "execution_count": 263,
     "metadata": {},
     "output_type": "execute_result"
    }
   ],
   "source": [
    "power.nlargest(n=3,keep = 'last')"
   ]
  },
  {
   "cell_type": "code",
   "execution_count": 265,
   "metadata": {},
   "outputs": [
    {
     "data": {
      "text/plain": [
       "SOLDIER     80\n",
       "ARCHER      80\n",
       "MINISTER    90\n",
       "dtype: int64"
      ]
     },
     "execution_count": 265,
     "metadata": {},
     "output_type": "execute_result"
    }
   ],
   "source": [
    "#pd.Series.nsmallest(self,n.keep = 'default first')\n",
    "#Return the smallest n elements\n",
    "\n",
    "power.nsmallest(n=3)"
   ]
  },
  {
   "cell_type": "code",
   "execution_count": 267,
   "metadata": {},
   "outputs": [
    {
     "data": {
      "text/plain": [
       "SOLDIER     80\n",
       "ARCHER      80\n",
       "MINISTER    90\n",
       "SAGE        90\n",
       "dtype: int64"
      ]
     },
     "execution_count": 267,
     "metadata": {},
     "output_type": "execute_result"
    }
   ],
   "source": [
    "power.nsmallest(n=3,keep = 'all')"
   ]
  },
  {
   "cell_type": "code",
   "execution_count": 268,
   "metadata": {},
   "outputs": [
    {
     "data": {
      "text/plain": [
       "ARCHER     80\n",
       "SOLDIER    80\n",
       "SAGE       90\n",
       "dtype: int64"
      ]
     },
     "execution_count": 268,
     "metadata": {},
     "output_type": "execute_result"
    }
   ],
   "source": [
    "power.nsmallest(n=3,keep = 'last')"
   ]
  },
  {
   "cell_type": "code",
   "execution_count": 269,
   "metadata": {},
   "outputs": [
    {
     "data": {
      "text/plain": [
       "0         NaN\n",
       "1   -0.100000\n",
       "2    0.222222\n",
       "3    0.118182\n",
       "4   -0.796748\n",
       "dtype: float64"
      ]
     },
     "execution_count": 269,
     "metadata": {},
     "output_type": "execute_result"
    }
   ],
   "source": [
    "#pd.Series.pct_change(self~Series/Dataframe,periods = 1,fill_method = default 'pad')\n",
    "#Percentage change between the current and prior element\n",
    "\n",
    "pd.Series([100,90,110,123,25]).pct_change()"
   ]
  },
  {
   "cell_type": "code",
   "execution_count": 270,
   "metadata": {},
   "outputs": [
    {
     "data": {
      "text/plain": [
       "3360"
      ]
     },
     "execution_count": 270,
     "metadata": {},
     "output_type": "execute_result"
    }
   ],
   "source": [
    "#pd.Series.prod(self,axis=None,skip_na = None)\n",
    "#Return the product of the values for the requested axis\n",
    "\n",
    "pd.Series([1,2,3,4,5,2,2,7]).prod()"
   ]
  },
  {
   "cell_type": "code",
   "execution_count": 271,
   "metadata": {},
   "outputs": [
    {
     "data": {
      "text/plain": [
       "0.25    2.0\n",
       "0.50    3.0\n",
       "0.75    4.0\n",
       "dtype: float64"
      ]
     },
     "execution_count": 271,
     "metadata": {},
     "output_type": "execute_result"
    }
   ],
   "source": [
    "#pd.Series.quantile(self,q,interpolation = 'linear/lower/higher/midpoint/nearest')\n",
    "\n",
    "\n",
    "pd.Series([1,2,3,4,5]).quantile([.25,.5,.75])"
   ]
  },
  {
   "cell_type": "code",
   "execution_count": 1,
   "metadata": {},
   "outputs": [],
   "source": [
    "import pandas as pd\n",
    "import numpy as np\n",
    "import matplotlib.pyplot as plt\n",
    "import seaborn as sns"
   ]
  },
  {
   "cell_type": "code",
   "execution_count": 6,
   "metadata": {},
   "outputs": [
    {
     "data": {
      "text/plain": [
       "0    6.0\n",
       "1    6.0\n",
       "2    4.0\n",
       "3    3.0\n",
       "4    2.0\n",
       "5    1.0\n",
       "Name: POWER, dtype: float64"
      ]
     },
     "execution_count": 6,
     "metadata": {},
     "output_type": "execute_result"
    }
   ],
   "source": [
    "#pd.Series.rank(series~Dataframe,method = 'default average/max/min/first/dense')\n",
    "#Compute numerical data ranks (1 through n) alog axis\n",
    "\n",
    "pl = pd.DataFrame({'NAME':['KING','QUEEN','HAND','LORD','MINISTER','SOLDIER'],'POWER':[100,100,90,80,70,60]})\n",
    "pl['POWER'].rank(method = 'max')"
   ]
  },
  {
   "cell_type": "code",
   "execution_count": 7,
   "metadata": {},
   "outputs": [
    {
     "data": {
      "text/plain": [
       "0.3659625273556999"
      ]
     },
     "execution_count": 7,
     "metadata": {},
     "output_type": "execute_result"
    }
   ],
   "source": [
    "#pd.Series.sem(self,axis = None)\n",
    "#Return unbiased standard error of the mean over requested axis\n",
    "\n",
    "pd.Series([1,2,3,4,2,3,2,1]).sem()"
   ]
  },
  {
   "cell_type": "code",
   "execution_count": 10,
   "metadata": {},
   "outputs": [
    {
     "data": {
      "text/plain": [
       "0.1463545235919667"
      ]
     },
     "execution_count": 10,
     "metadata": {},
     "output_type": "execute_result"
    }
   ],
   "source": [
    "#pd.Series.skew(selff,axis = None)\n",
    "#Return unbiased skew over requested axis\n",
    "\n",
    "pd.Series([1,2,3,4,5,4,3,2,1]).skew()"
   ]
  },
  {
   "cell_type": "code",
   "execution_count": 11,
   "metadata": {},
   "outputs": [
    {
     "data": {
      "text/plain": [
       "1.3944333775567928"
      ]
     },
     "execution_count": 11,
     "metadata": {},
     "output_type": "execute_result"
    }
   ],
   "source": [
    "#pd.Series.std(self,axis = None)\n",
    "#Return sample standard deviation over requested axis\n",
    "\n",
    "pd.Series([1,2,3,4,5,4,3,2,1]).std()"
   ]
  },
  {
   "cell_type": "code",
   "execution_count": 18,
   "metadata": {},
   "outputs": [
    {
     "data": {
      "text/plain": [
       "array([-0.96244281,  0.89112444,  0.397146  , -1.12519681, -0.45135772,\n",
       "       -1.09986478,  0.82527607,  0.59181138, -0.53193803, -0.2253962 ,\n",
       "        0.67600856, -1.38989862, -0.63745629, -0.83728542,  0.84174577,\n",
       "       -1.14936741,  0.82842202, -0.98157992,  0.59162389, -0.141535  ,\n",
       "       -0.12040981, -0.73520447, -0.63651838,  1.32453405, -0.70082787,\n",
       "       -0.15178601,  0.80771209, -0.23472054, -1.01246868, -0.91640137,\n",
       "        0.27438048,  1.0269646 ,  1.17364589,  1.12482786, -1.17592691,\n",
       "        0.10286577,  0.37638667, -0.95494882, -0.93128422,  0.22691664,\n",
       "       -1.71516888,  0.39593241,  0.25930076, -0.44354432, -0.26962667,\n",
       "       -0.78851176,  0.92418437, -1.04029624, -0.98694155,  0.90842297,\n",
       "       -0.55421705,  1.30577812,  0.25507258,  0.66102161,  0.43539714,\n",
       "       -1.81546085, -0.13555437, -1.50834458, -0.75345694,  0.32371797,\n",
       "       -1.01765523,  0.03666732, -0.56924485,  0.83626248,  1.60855985,\n",
       "       -0.50627328, -0.90778169,  1.62688317, -1.02408834,  0.62973036])"
      ]
     },
     "execution_count": 18,
     "metadata": {},
     "output_type": "execute_result"
    }
   ],
   "source": [
    "#pd.Series.sum(self,axis = None)\n",
    "#Return the sum of the values for the requested axis\n",
    "\n",
    "a = pd.Series([np.random.randn(70)])\n",
    "a.sum()"
   ]
  },
  {
   "cell_type": "code",
   "execution_count": 19,
   "metadata": {},
   "outputs": [
    {
     "data": {
      "text/plain": [
       "2.2222222222222223"
      ]
     },
     "execution_count": 19,
     "metadata": {},
     "output_type": "execute_result"
    }
   ],
   "source": [
    "#pd.Series.var(self,axis = None)\n",
    "#Return unbiased variance over requested axis\n",
    "\n",
    "pd.Series([1,2,3,4,5,5,4,3,2,1]).var()"
   ]
  },
  {
   "cell_type": "code",
   "execution_count": 20,
   "metadata": {},
   "outputs": [
    {
     "data": {
      "text/plain": [
       "-1.0600583090379012"
      ]
     },
     "execution_count": 20,
     "metadata": {},
     "output_type": "execute_result"
    }
   ],
   "source": [
    "#pd.Series.kurtosis(self,axis = None)\n",
    "#Return unbiased kurtosis over requested axis\n",
    "\n",
    "pd.Series([1,2,3,4,5,4,3,2,1]).kurtosis()"
   ]
  },
  {
   "cell_type": "code",
   "execution_count": 21,
   "metadata": {},
   "outputs": [
    {
     "data": {
      "text/plain": [
       "array([1, 2, 3, 4, 5], dtype=int64)"
      ]
     },
     "execution_count": 21,
     "metadata": {},
     "output_type": "execute_result"
    }
   ],
   "source": [
    "#pd.Series.unique(self)\n",
    "#Return unique values of series object\n",
    "\n",
    "pd.Series([1,2,3,4,5,5,4,3,2,1]).unique()"
   ]
  },
  {
   "cell_type": "code",
   "execution_count": 22,
   "metadata": {},
   "outputs": [
    {
     "data": {
      "text/plain": [
       "5"
      ]
     },
     "execution_count": 22,
     "metadata": {},
     "output_type": "execute_result"
    }
   ],
   "source": [
    "#pd.Series.nunique(self)\n",
    "#Return number of unique values of series object\n",
    "\n",
    "pd.Series([1,2,3,4,5,5,4,3,2,1]).nunique()"
   ]
  },
  {
   "cell_type": "code",
   "execution_count": 24,
   "metadata": {},
   "outputs": [
    {
     "data": {
      "text/plain": [
       "False"
      ]
     },
     "execution_count": 24,
     "metadata": {},
     "output_type": "execute_result"
    }
   ],
   "source": [
    "#pd.Series.is_unique\n",
    "#Return boolean if values in the object are unique\n",
    "\n",
    "pd.Series([1,2,3,4,5,4,3,2,1,5]).is_unique"
   ]
  },
  {
   "cell_type": "code",
   "execution_count": 30,
   "metadata": {},
   "outputs": [
    {
     "data": {
      "text/plain": [
       "True"
      ]
     },
     "execution_count": 30,
     "metadata": {},
     "output_type": "execute_result"
    }
   ],
   "source": [
    "#pd.Series.is_monotonic\n",
    "#Return boolean if values in the object are monotonic_increasing\n",
    "\n",
    "pd.Series([1,2,3,4,5]).is_monotonic"
   ]
  },
  {
   "cell_type": "code",
   "execution_count": 27,
   "metadata": {},
   "outputs": [
    {
     "data": {
      "text/plain": [
       "False"
      ]
     },
     "execution_count": 27,
     "metadata": {},
     "output_type": "execute_result"
    }
   ],
   "source": [
    "#pd.Series.is_monotonic_increasing\n",
    "#Return boolean if values in the object are monotonic_increasing\n",
    "\n",
    "pd.Series([5,4,3,2,1]).is_monotonic_increasing"
   ]
  },
  {
   "cell_type": "code",
   "execution_count": 28,
   "metadata": {},
   "outputs": [
    {
     "data": {
      "text/plain": [
       "False"
      ]
     },
     "execution_count": 28,
     "metadata": {},
     "output_type": "execute_result"
    }
   ],
   "source": [
    "#pd.Series,is_monotonic_decreasing\n",
    "#Return boolean if values in the object are monotonic_decreasing\n",
    "\n",
    "pd.Series([1,2,3,4,5]).is_monotonic_decreasing"
   ]
  },
  {
   "cell_type": "code",
   "execution_count": 35,
   "metadata": {},
   "outputs": [
    {
     "data": {
      "text/plain": [
       "Regular Air       6270\n",
       "Delivery Truck    1146\n",
       "Express Air        983\n",
       "Name: Ship Mode, dtype: int64"
      ]
     },
     "execution_count": 35,
     "metadata": {},
     "output_type": "execute_result"
    }
   ],
   "source": [
    "#pd.Series.value_counts(self,normalize = 'False',sort = True)\n",
    "#Return a Series containing counts of unique values\n",
    "\n",
    "sf = pd.read_excel('C:/Users/H/Downloads/d.xlsx')\n",
    "sf = sf[['Sales','Ship Mode']]\n",
    "sf['Ship Mode'].value_counts()"
   ]
  },
  {
   "cell_type": "code",
   "execution_count": 1,
   "metadata": {},
   "outputs": [],
   "source": [
    "import pandas as pd\n",
    "import numpy as np"
   ]
  },
  {
   "cell_type": "code",
   "execution_count": 4,
   "metadata": {},
   "outputs": [
    {
     "data": {
      "text/plain": [
       "(0    1\n",
       " 1    2\n",
       " 2    3\n",
       " 3    4\n",
       " 4    5\n",
       " dtype: int64,\n",
       " 0    10\n",
       " 1     6\n",
       " 2     7\n",
       " 3     8\n",
       " 4     9\n",
       " dtype: int64)"
      ]
     },
     "execution_count": 4,
     "metadata": {},
     "output_type": "execute_result"
    }
   ],
   "source": [
    "#pd.Series.align(self,other,join = 'inner/outer/left/right')\n",
    "#Align two objects on their axes with the specified join method\n",
    "\n",
    "_ = pd.Series([1,2,3,4,5])\n",
    "__ = pd.Series([10,6,7,8,9])\n",
    "pd.Series.align(_,__,join = 'inner')"
   ]
  },
  {
   "cell_type": "code",
   "execution_count": 23,
   "metadata": {},
   "outputs": [
    {
     "data": {
      "text/plain": [
       "0    12\n",
       "2     3\n",
       "3     4\n",
       "4     2\n",
       "5     5\n",
       "6     3\n",
       "dtype: int64"
      ]
     },
     "execution_count": 23,
     "metadata": {},
     "output_type": "execute_result"
    }
   ],
   "source": [
    "#pd.Series.drop(self,labels = None,index = None,columns = None)\n",
    "#Return Series with specified index labels removed\n",
    "\n",
    "pd.Series([12,2,3,4,2,5,3,]).drop(index = 1)"
   ]
  },
  {
   "cell_type": "code",
   "execution_count": 3,
   "metadata": {},
   "outputs": [
    {
     "data": {
      "text/html": [
       "<div>\n",
       "<style scoped>\n",
       "    .dataframe tbody tr th:only-of-type {\n",
       "        vertical-align: middle;\n",
       "    }\n",
       "\n",
       "    .dataframe tbody tr th {\n",
       "        vertical-align: top;\n",
       "    }\n",
       "\n",
       "    .dataframe thead th {\n",
       "        text-align: right;\n",
       "    }\n",
       "</style>\n",
       "<table border=\"1\" class=\"dataframe\">\n",
       "  <thead>\n",
       "    <tr style=\"text-align: right;\">\n",
       "      <th></th>\n",
       "      <th>a</th>\n",
       "      <th>b</th>\n",
       "      <th>c</th>\n",
       "      <th>d</th>\n",
       "    </tr>\n",
       "  </thead>\n",
       "  <tbody>\n",
       "    <tr>\n",
       "      <th>0</th>\n",
       "      <td>1</td>\n",
       "      <td>4</td>\n",
       "      <td>11</td>\n",
       "      <td>76</td>\n",
       "    </tr>\n",
       "    <tr>\n",
       "      <th>1</th>\n",
       "      <td>2</td>\n",
       "      <td>3</td>\n",
       "      <td>23</td>\n",
       "      <td>3</td>\n",
       "    </tr>\n",
       "    <tr>\n",
       "      <th>2</th>\n",
       "      <td>3</td>\n",
       "      <td>2</td>\n",
       "      <td>32</td>\n",
       "      <td>5</td>\n",
       "    </tr>\n",
       "    <tr>\n",
       "      <th>3</th>\n",
       "      <td>4</td>\n",
       "      <td>5</td>\n",
       "      <td>12</td>\n",
       "      <td>3</td>\n",
       "    </tr>\n",
       "  </tbody>\n",
       "</table>\n",
       "</div>"
      ],
      "text/plain": [
       "   a  b   c   d\n",
       "0  1  4  11  76\n",
       "1  2  3  23   3\n",
       "2  3  2  32   5\n",
       "3  4  5  12   3"
      ]
     },
     "execution_count": 3,
     "metadata": {},
     "output_type": "execute_result"
    }
   ],
   "source": [
    "cop = pd.DataFrame({'a':[1,2,3,4],'b':[4,3,2,5],'c':[11,23,32,12],'d':[76,3,5,3]})\n",
    "cop"
   ]
  },
  {
   "cell_type": "code",
   "execution_count": 2,
   "metadata": {},
   "outputs": [],
   "source": [
    "import pandas as pd"
   ]
  },
  {
   "cell_type": "code",
   "execution_count": 4,
   "metadata": {},
   "outputs": [],
   "source": [
    "import numpy as np"
   ]
  },
  {
   "cell_type": "code",
   "execution_count": 8,
   "metadata": {},
   "outputs": [
    {
     "data": {
      "text/html": [
       "<div>\n",
       "<style scoped>\n",
       "    .dataframe tbody tr th:only-of-type {\n",
       "        vertical-align: middle;\n",
       "    }\n",
       "\n",
       "    .dataframe tbody tr th {\n",
       "        vertical-align: top;\n",
       "    }\n",
       "\n",
       "    .dataframe thead th {\n",
       "        text-align: right;\n",
       "    }\n",
       "</style>\n",
       "<table border=\"1\" class=\"dataframe\">\n",
       "  <thead>\n",
       "    <tr style=\"text-align: right;\">\n",
       "      <th></th>\n",
       "      <th>Unnamed: 0</th>\n",
       "      <th>Unnamed: 0.1</th>\n",
       "      <th>ID</th>\n",
       "      <th>Name</th>\n",
       "      <th>Age</th>\n",
       "      <th>Photo</th>\n",
       "      <th>Nationality</th>\n",
       "      <th>Flag</th>\n",
       "      <th>Overall</th>\n",
       "      <th>Potential</th>\n",
       "      <th>...</th>\n",
       "      <th>Marking</th>\n",
       "      <th>StandingTackle</th>\n",
       "      <th>SlidingTackle</th>\n",
       "      <th>GKDiving</th>\n",
       "      <th>GKHandling</th>\n",
       "      <th>GKKicking</th>\n",
       "      <th>GKPositioning</th>\n",
       "      <th>GKReflexes</th>\n",
       "      <th>Release Clause</th>\n",
       "      <th>Money</th>\n",
       "    </tr>\n",
       "  </thead>\n",
       "  <tbody>\n",
       "    <tr>\n",
       "      <th>0</th>\n",
       "      <td>0</td>\n",
       "      <td>0</td>\n",
       "      <td>158023</td>\n",
       "      <td>L. Messi</td>\n",
       "      <td>31</td>\n",
       "      <td>https://cdn.sofifa.org/players/4/19/158023.png</td>\n",
       "      <td>Argentina</td>\n",
       "      <td>https://cdn.sofifa.org/flags/52.png</td>\n",
       "      <td>94</td>\n",
       "      <td>94</td>\n",
       "      <td>...</td>\n",
       "      <td>33.0</td>\n",
       "      <td>28.0</td>\n",
       "      <td>26.0</td>\n",
       "      <td>6.0</td>\n",
       "      <td>11.0</td>\n",
       "      <td>15.0</td>\n",
       "      <td>14.0</td>\n",
       "      <td>8.0</td>\n",
       "      <td>€226.5M</td>\n",
       "      <td>226500000.0</td>\n",
       "    </tr>\n",
       "    <tr>\n",
       "      <th>1</th>\n",
       "      <td>1</td>\n",
       "      <td>1</td>\n",
       "      <td>20801</td>\n",
       "      <td>Cristiano Ronaldo</td>\n",
       "      <td>33</td>\n",
       "      <td>https://cdn.sofifa.org/players/4/19/20801.png</td>\n",
       "      <td>Portugal</td>\n",
       "      <td>https://cdn.sofifa.org/flags/38.png</td>\n",
       "      <td>94</td>\n",
       "      <td>94</td>\n",
       "      <td>...</td>\n",
       "      <td>28.0</td>\n",
       "      <td>31.0</td>\n",
       "      <td>23.0</td>\n",
       "      <td>7.0</td>\n",
       "      <td>11.0</td>\n",
       "      <td>15.0</td>\n",
       "      <td>14.0</td>\n",
       "      <td>11.0</td>\n",
       "      <td>€127.1M</td>\n",
       "      <td>127100000.0</td>\n",
       "    </tr>\n",
       "    <tr>\n",
       "      <th>2</th>\n",
       "      <td>2</td>\n",
       "      <td>2</td>\n",
       "      <td>190871</td>\n",
       "      <td>Neymar Jr</td>\n",
       "      <td>26</td>\n",
       "      <td>https://cdn.sofifa.org/players/4/19/190871.png</td>\n",
       "      <td>Brazil</td>\n",
       "      <td>https://cdn.sofifa.org/flags/54.png</td>\n",
       "      <td>92</td>\n",
       "      <td>93</td>\n",
       "      <td>...</td>\n",
       "      <td>27.0</td>\n",
       "      <td>24.0</td>\n",
       "      <td>33.0</td>\n",
       "      <td>9.0</td>\n",
       "      <td>9.0</td>\n",
       "      <td>15.0</td>\n",
       "      <td>15.0</td>\n",
       "      <td>11.0</td>\n",
       "      <td>€228.1M</td>\n",
       "      <td>228100000.0</td>\n",
       "    </tr>\n",
       "    <tr>\n",
       "      <th>3</th>\n",
       "      <td>3</td>\n",
       "      <td>3</td>\n",
       "      <td>193080</td>\n",
       "      <td>De Gea</td>\n",
       "      <td>27</td>\n",
       "      <td>https://cdn.sofifa.org/players/4/19/193080.png</td>\n",
       "      <td>Spain</td>\n",
       "      <td>https://cdn.sofifa.org/flags/45.png</td>\n",
       "      <td>91</td>\n",
       "      <td>93</td>\n",
       "      <td>...</td>\n",
       "      <td>15.0</td>\n",
       "      <td>21.0</td>\n",
       "      <td>13.0</td>\n",
       "      <td>90.0</td>\n",
       "      <td>85.0</td>\n",
       "      <td>87.0</td>\n",
       "      <td>88.0</td>\n",
       "      <td>94.0</td>\n",
       "      <td>€138.6M</td>\n",
       "      <td>138600000.0</td>\n",
       "    </tr>\n",
       "    <tr>\n",
       "      <th>4</th>\n",
       "      <td>4</td>\n",
       "      <td>4</td>\n",
       "      <td>192985</td>\n",
       "      <td>K. De Bruyne</td>\n",
       "      <td>27</td>\n",
       "      <td>https://cdn.sofifa.org/players/4/19/192985.png</td>\n",
       "      <td>Belgium</td>\n",
       "      <td>https://cdn.sofifa.org/flags/7.png</td>\n",
       "      <td>91</td>\n",
       "      <td>92</td>\n",
       "      <td>...</td>\n",
       "      <td>68.0</td>\n",
       "      <td>58.0</td>\n",
       "      <td>51.0</td>\n",
       "      <td>15.0</td>\n",
       "      <td>13.0</td>\n",
       "      <td>5.0</td>\n",
       "      <td>10.0</td>\n",
       "      <td>13.0</td>\n",
       "      <td>€196.4M</td>\n",
       "      <td>196400000.0</td>\n",
       "    </tr>\n",
       "  </tbody>\n",
       "</table>\n",
       "<p>5 rows × 91 columns</p>\n",
       "</div>"
      ],
      "text/plain": [
       "   Unnamed: 0  Unnamed: 0.1      ID               Name  Age  \\\n",
       "0           0             0  158023           L. Messi   31   \n",
       "1           1             1   20801  Cristiano Ronaldo   33   \n",
       "2           2             2  190871          Neymar Jr   26   \n",
       "3           3             3  193080             De Gea   27   \n",
       "4           4             4  192985       K. De Bruyne   27   \n",
       "\n",
       "                                            Photo Nationality  \\\n",
       "0  https://cdn.sofifa.org/players/4/19/158023.png   Argentina   \n",
       "1   https://cdn.sofifa.org/players/4/19/20801.png    Portugal   \n",
       "2  https://cdn.sofifa.org/players/4/19/190871.png      Brazil   \n",
       "3  https://cdn.sofifa.org/players/4/19/193080.png       Spain   \n",
       "4  https://cdn.sofifa.org/players/4/19/192985.png     Belgium   \n",
       "\n",
       "                                  Flag  Overall  Potential  ... Marking  \\\n",
       "0  https://cdn.sofifa.org/flags/52.png       94         94  ...    33.0   \n",
       "1  https://cdn.sofifa.org/flags/38.png       94         94  ...    28.0   \n",
       "2  https://cdn.sofifa.org/flags/54.png       92         93  ...    27.0   \n",
       "3  https://cdn.sofifa.org/flags/45.png       91         93  ...    15.0   \n",
       "4   https://cdn.sofifa.org/flags/7.png       91         92  ...    68.0   \n",
       "\n",
       "  StandingTackle SlidingTackle GKDiving  GKHandling GKKicking  GKPositioning  \\\n",
       "0           28.0          26.0      6.0        11.0      15.0           14.0   \n",
       "1           31.0          23.0      7.0        11.0      15.0           14.0   \n",
       "2           24.0          33.0      9.0         9.0      15.0           15.0   \n",
       "3           21.0          13.0     90.0        85.0      87.0           88.0   \n",
       "4           58.0          51.0     15.0        13.0       5.0           10.0   \n",
       "\n",
       "   GKReflexes  Release Clause        Money  \n",
       "0         8.0         €226.5M  226500000.0  \n",
       "1        11.0         €127.1M  127100000.0  \n",
       "2        11.0         €228.1M  228100000.0  \n",
       "3        94.0         €138.6M  138600000.0  \n",
       "4        13.0         €196.4M  196400000.0  \n",
       "\n",
       "[5 rows x 91 columns]"
      ]
     },
     "execution_count": 8,
     "metadata": {},
     "output_type": "execute_result"
    }
   ],
   "source": [
    "foot = pd.read_csv('C:/Users/H/Documents/fifa_data.csv')\n",
    "foot.head()"
   ]
  },
  {
   "cell_type": "code",
   "execution_count": 22,
   "metadata": {},
   "outputs": [
    {
     "data": {
      "text/html": [
       "<div>\n",
       "<style scoped>\n",
       "    .dataframe tbody tr th:only-of-type {\n",
       "        vertical-align: middle;\n",
       "    }\n",
       "\n",
       "    .dataframe tbody tr th {\n",
       "        vertical-align: top;\n",
       "    }\n",
       "\n",
       "    .dataframe thead th {\n",
       "        text-align: right;\n",
       "    }\n",
       "</style>\n",
       "<table border=\"1\" class=\"dataframe\">\n",
       "  <thead>\n",
       "    <tr style=\"text-align: right;\">\n",
       "      <th></th>\n",
       "      <th></th>\n",
       "      <th>2</th>\n",
       "      <th>3</th>\n",
       "    </tr>\n",
       "    <tr>\n",
       "      <th>a</th>\n",
       "      <th>b</th>\n",
       "      <th></th>\n",
       "      <th></th>\n",
       "    </tr>\n",
       "  </thead>\n",
       "  <tbody>\n",
       "    <tr>\n",
       "      <th>1</th>\n",
       "      <th>2</th>\n",
       "      <td>3</td>\n",
       "      <td>4</td>\n",
       "    </tr>\n",
       "    <tr>\n",
       "      <th>5</th>\n",
       "      <th>6</th>\n",
       "      <td>7</td>\n",
       "      <td>8</td>\n",
       "    </tr>\n",
       "    <tr>\n",
       "      <th>9</th>\n",
       "      <th>10</th>\n",
       "      <td>11</td>\n",
       "      <td>12</td>\n",
       "    </tr>\n",
       "  </tbody>\n",
       "</table>\n",
       "</div>"
      ],
      "text/plain": [
       "       2   3\n",
       "a b         \n",
       "1 2    3   4\n",
       "5 6    7   8\n",
       "9 10  11  12"
      ]
     },
     "execution_count": 22,
     "metadata": {},
     "output_type": "execute_result"
    }
   ],
   "source": [
    "df = pd.DataFrame([[1, 2, 3, 4],[5, 6, 7, 8],[9, 10, 11, 12]]).set_index([0, 1]).rename_axis(['a', 'b'])\n",
    "df"
   ]
  },
  {
   "cell_type": "code",
   "execution_count": 24,
   "metadata": {},
   "outputs": [
    {
     "data": {
      "text/html": [
       "<div>\n",
       "<style scoped>\n",
       "    .dataframe tbody tr th:only-of-type {\n",
       "        vertical-align: middle;\n",
       "    }\n",
       "\n",
       "    .dataframe tbody tr th {\n",
       "        vertical-align: top;\n",
       "    }\n",
       "\n",
       "    .dataframe thead tr th {\n",
       "        text-align: left;\n",
       "    }\n",
       "\n",
       "    .dataframe thead tr:last-of-type th {\n",
       "        text-align: right;\n",
       "    }\n",
       "</style>\n",
       "<table border=\"1\" class=\"dataframe\">\n",
       "  <thead>\n",
       "    <tr>\n",
       "      <th></th>\n",
       "      <th>level 1</th>\n",
       "      <th>c</th>\n",
       "      <th>d</th>\n",
       "    </tr>\n",
       "    <tr>\n",
       "      <th></th>\n",
       "      <th>level 2</th>\n",
       "      <th>e</th>\n",
       "      <th>f</th>\n",
       "    </tr>\n",
       "    <tr>\n",
       "      <th>a</th>\n",
       "      <th>b</th>\n",
       "      <th></th>\n",
       "      <th></th>\n",
       "    </tr>\n",
       "  </thead>\n",
       "  <tbody>\n",
       "    <tr>\n",
       "      <th>1</th>\n",
       "      <th>2</th>\n",
       "      <td>3</td>\n",
       "      <td>4</td>\n",
       "    </tr>\n",
       "    <tr>\n",
       "      <th>5</th>\n",
       "      <th>6</th>\n",
       "      <td>7</td>\n",
       "      <td>8</td>\n",
       "    </tr>\n",
       "    <tr>\n",
       "      <th>9</th>\n",
       "      <th>10</th>\n",
       "      <td>11</td>\n",
       "      <td>12</td>\n",
       "    </tr>\n",
       "  </tbody>\n",
       "</table>\n",
       "</div>"
      ],
      "text/plain": [
       "level 1   c   d\n",
       "level 2   e   f\n",
       "a b            \n",
       "1 2       3   4\n",
       "5 6       7   8\n",
       "9 10     11  12"
      ]
     },
     "execution_count": 24,
     "metadata": {},
     "output_type": "execute_result"
    }
   ],
   "source": [
    "df.columns = pd.MultiIndex.from_tuples([('c','e'),('d','f')],names = ['level 1','level 2'])\n",
    "df"
   ]
  },
  {
   "cell_type": "code",
   "execution_count": 26,
   "metadata": {},
   "outputs": [
    {
     "data": {
      "text/html": [
       "<div>\n",
       "<style scoped>\n",
       "    .dataframe tbody tr th:only-of-type {\n",
       "        vertical-align: middle;\n",
       "    }\n",
       "\n",
       "    .dataframe tbody tr th {\n",
       "        vertical-align: top;\n",
       "    }\n",
       "\n",
       "    .dataframe thead th {\n",
       "        text-align: right;\n",
       "    }\n",
       "</style>\n",
       "<table border=\"1\" class=\"dataframe\">\n",
       "  <thead>\n",
       "    <tr style=\"text-align: right;\">\n",
       "      <th></th>\n",
       "      <th>level 1</th>\n",
       "      <th>c</th>\n",
       "      <th>d</th>\n",
       "    </tr>\n",
       "    <tr>\n",
       "      <th>a</th>\n",
       "      <th>b</th>\n",
       "      <th></th>\n",
       "      <th></th>\n",
       "    </tr>\n",
       "  </thead>\n",
       "  <tbody>\n",
       "    <tr>\n",
       "      <th>1</th>\n",
       "      <th>2</th>\n",
       "      <td>3</td>\n",
       "      <td>4</td>\n",
       "    </tr>\n",
       "    <tr>\n",
       "      <th>5</th>\n",
       "      <th>6</th>\n",
       "      <td>7</td>\n",
       "      <td>8</td>\n",
       "    </tr>\n",
       "    <tr>\n",
       "      <th>9</th>\n",
       "      <th>10</th>\n",
       "      <td>11</td>\n",
       "      <td>12</td>\n",
       "    </tr>\n",
       "  </tbody>\n",
       "</table>\n",
       "</div>"
      ],
      "text/plain": [
       "level 1   c   d\n",
       "a b            \n",
       "1 2       3   4\n",
       "5 6       7   8\n",
       "9 10     11  12"
      ]
     },
     "execution_count": 26,
     "metadata": {},
     "output_type": "execute_result"
    }
   ],
   "source": [
    "#pd.Series.droplevel(self~Series/Dataframe,level,axis)\n",
    "#Return Dataframe with requested index / column level(s) removed\n",
    "\n",
    "df.droplevel('level 2',axis = 1)"
   ]
  },
  {
   "cell_type": "code",
   "execution_count": 27,
   "metadata": {},
   "outputs": [
    {
     "data": {
      "text/plain": [
       "0     1\n",
       "1     2\n",
       "2     3\n",
       "10    5\n",
       "dtype: int64"
      ]
     },
     "execution_count": 27,
     "metadata": {},
     "output_type": "execute_result"
    }
   ],
   "source": [
    "#pd.Series.drop_duplicates(self,keep = 'first / last ..the occurence you want to keep',inplace = False)\n",
    "#Return Series with duplicate values removed\n",
    "\n",
    "pd.Series([1,2,3,1,1,2,3,2,1,2,5]).drop_duplicates()"
   ]
  },
  {
   "cell_type": "code",
   "execution_count": 28,
   "metadata": {},
   "outputs": [
    {
     "data": {
      "text/plain": [
       "0    False\n",
       "1    False\n",
       "2    False\n",
       "3    False\n",
       "4    False\n",
       "5     True\n",
       "6     True\n",
       "7     True\n",
       "8     True\n",
       "9     True\n",
       "dtype: bool"
      ]
     },
     "execution_count": 28,
     "metadata": {},
     "output_type": "execute_result"
    }
   ],
   "source": [
    "#pd.Series.duplicated(self,keep = 'first')\n",
    "#Indicate duplicate Series values as True\n",
    "\n",
    "pd.Series([1,2,3,4,5,5,4,3,2,1]).duplicated()"
   ]
  },
  {
   "cell_type": "code",
   "execution_count": null,
   "metadata": {},
   "outputs": [],
   "source": []
  }
 ],
 "metadata": {
  "kernelspec": {
   "display_name": "Python 3",
   "language": "python",
   "name": "python3"
  },
  "language_info": {
   "codemirror_mode": {
    "name": "ipython",
    "version": 3
   },
   "file_extension": ".py",
   "mimetype": "text/x-python",
   "name": "python",
   "nbconvert_exporter": "python",
   "pygments_lexer": "ipython3",
   "version": "3.7.6"
  }
 },
 "nbformat": 4,
 "nbformat_minor": 4
}
